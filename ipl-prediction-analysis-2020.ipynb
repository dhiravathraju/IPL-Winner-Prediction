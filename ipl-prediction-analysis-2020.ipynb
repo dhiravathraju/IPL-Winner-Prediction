{
 "cells": [
  {
   "cell_type": "code",
   "execution_count": 1,
   "id": "anonymous-principal",
   "metadata": {
    "_cell_guid": "b1076dfc-b9ad-4769-8c92-a6c4dae69d19",
    "_uuid": "8f2839f25d086af736a60e9eeb907d3b93b6e0e5",
    "execution": {
     "iopub.execute_input": "2021-06-08T10:08:41.331139Z",
     "iopub.status.busy": "2021-06-08T10:08:41.330292Z",
     "iopub.status.idle": "2021-06-08T10:08:41.335879Z",
     "shell.execute_reply": "2021-06-08T10:08:41.335353Z",
     "shell.execute_reply.started": "2021-06-08T10:05:43.805722Z"
    },
    "papermill": {
     "duration": 0.073343,
     "end_time": "2021-06-08T10:08:41.336056",
     "exception": false,
     "start_time": "2021-06-08T10:08:41.262713",
     "status": "completed"
    },
    "tags": []
   },
   "outputs": [
    {
     "name": "stdout",
     "output_type": "stream",
     "text": [
      "/kaggle/input/winnerpredictionchallenge/IPL 2020 Squads.csv\n",
      "/kaggle/input/winnerpredictionchallenge/Traning Deliveries Matches IPL 2008-2019.csv\n",
      "/kaggle/input/winnerpredictionchallenge/Qualifiers IPL 2008-2019.csv\n",
      "/kaggle/input/winnerpredictionchallenge/Testset Matches IPL 2020.csv\n",
      "/kaggle/input/winnerpredictionchallenge/Training Matches IPL 2008-2019.csv\n",
      "/kaggle/input/winnerpredictionchallenge/sample submission.csv\n"
     ]
    }
   ],
   "source": [
    "# This Python 3 environment comes with many helpful analytics libraries installed\n",
    "# It is defined by the kaggle/python Docker image: https://github.com/kaggle/docker-python\n",
    "# For example, here's several helpful packages to load\n",
    "\n",
    "import numpy as np # linear algebra\n",
    "import pandas as pd # data processing, CSV file I/O (e.g. pd.read_csv)\n",
    "\n",
    "# Input data files are available in the read-only \"../input/\" directory\n",
    "# For example, running this (by clicking run or pressing Shift+Enter) will list all files under the input directory\n",
    "\n",
    "import os\n",
    "for dirname, _, filenames in os.walk('/kaggle/input'):\n",
    "    for filename in filenames:\n",
    "        print(os.path.join(dirname, filename))\n",
    "\n",
    "# You can write up to 20GB to the current directory (/kaggle/working/) that gets preserved as output when you create a version using \"Save & Run All\" \n",
    "# You can also write temporary files to /kaggle/temp/, but they won't be saved outside of the current session"
   ]
  },
  {
   "cell_type": "markdown",
   "id": "wooden-huntington",
   "metadata": {
    "papermill": {
     "duration": 0.064097,
     "end_time": "2021-06-08T10:08:41.470510",
     "exception": false,
     "start_time": "2021-06-08T10:08:41.406413",
     "status": "completed"
    },
    "tags": []
   },
   "source": [
    "# Data Preparation and Cleaning\n",
    "\n",
    "Let’s start by reading the csv file to Pandas DataFrame."
   ]
  },
  {
   "cell_type": "code",
   "execution_count": 2,
   "id": "arctic-verse",
   "metadata": {
    "_cell_guid": "79c7e3d0-c299-4dcb-8224-4455121ee9b0",
    "_uuid": "d629ff2d2480ee46fbb7e2d37f6b5fab8052498a",
    "execution": {
     "iopub.execute_input": "2021-06-08T10:08:41.599512Z",
     "iopub.status.busy": "2021-06-08T10:08:41.598743Z",
     "iopub.status.idle": "2021-06-08T10:08:41.658917Z",
     "shell.execute_reply": "2021-06-08T10:08:41.657844Z",
     "shell.execute_reply.started": "2021-06-08T10:05:43.845351Z"
    },
    "papermill": {
     "duration": 0.12419,
     "end_time": "2021-06-08T10:08:41.659136",
     "exception": false,
     "start_time": "2021-06-08T10:08:41.534946",
     "status": "completed"
    },
    "tags": []
   },
   "outputs": [
    {
     "data": {
      "text/html": [
       "<div>\n",
       "<style scoped>\n",
       "    .dataframe tbody tr th:only-of-type {\n",
       "        vertical-align: middle;\n",
       "    }\n",
       "\n",
       "    .dataframe tbody tr th {\n",
       "        vertical-align: top;\n",
       "    }\n",
       "\n",
       "    .dataframe thead th {\n",
       "        text-align: right;\n",
       "    }\n",
       "</style>\n",
       "<table border=\"1\" class=\"dataframe\">\n",
       "  <thead>\n",
       "    <tr style=\"text-align: right;\">\n",
       "      <th></th>\n",
       "      <th>id</th>\n",
       "      <th>season</th>\n",
       "      <th>city</th>\n",
       "      <th>date</th>\n",
       "      <th>team1</th>\n",
       "      <th>team2</th>\n",
       "      <th>toss_winner</th>\n",
       "      <th>toss_decision</th>\n",
       "      <th>result</th>\n",
       "      <th>dl_applied</th>\n",
       "      <th>winner</th>\n",
       "      <th>win_by_runs</th>\n",
       "      <th>win_by_wickets</th>\n",
       "      <th>player_of_match</th>\n",
       "      <th>venue</th>\n",
       "      <th>umpire1</th>\n",
       "      <th>umpire2</th>\n",
       "      <th>umpire3</th>\n",
       "    </tr>\n",
       "  </thead>\n",
       "  <tbody>\n",
       "    <tr>\n",
       "      <th>0</th>\n",
       "      <td>60</td>\n",
       "      <td>2008</td>\n",
       "      <td>Bangalore</td>\n",
       "      <td>18-04-2008</td>\n",
       "      <td>Kolkata Knight Riders</td>\n",
       "      <td>Royal Challengers Bangalore</td>\n",
       "      <td>Royal Challengers Bangalore</td>\n",
       "      <td>field</td>\n",
       "      <td>normal</td>\n",
       "      <td>0</td>\n",
       "      <td>Kolkata Knight Riders</td>\n",
       "      <td>140</td>\n",
       "      <td>0</td>\n",
       "      <td>BB McCullum</td>\n",
       "      <td>M Chinnaswamy Stadium</td>\n",
       "      <td>Asad Rauf</td>\n",
       "      <td>RE Koertzen</td>\n",
       "      <td>NaN</td>\n",
       "    </tr>\n",
       "    <tr>\n",
       "      <th>1</th>\n",
       "      <td>61</td>\n",
       "      <td>2008</td>\n",
       "      <td>Chandigarh</td>\n",
       "      <td>19-04-2008</td>\n",
       "      <td>Chennai Super Kings</td>\n",
       "      <td>Kings XI Punjab</td>\n",
       "      <td>Chennai Super Kings</td>\n",
       "      <td>bat</td>\n",
       "      <td>normal</td>\n",
       "      <td>0</td>\n",
       "      <td>Chennai Super Kings</td>\n",
       "      <td>33</td>\n",
       "      <td>0</td>\n",
       "      <td>MEK Hussey</td>\n",
       "      <td>Punjab Cricket Association Stadium, Mohali</td>\n",
       "      <td>MR Benson</td>\n",
       "      <td>SL Shastri</td>\n",
       "      <td>NaN</td>\n",
       "    </tr>\n",
       "    <tr>\n",
       "      <th>2</th>\n",
       "      <td>62</td>\n",
       "      <td>2008</td>\n",
       "      <td>Delhi</td>\n",
       "      <td>19-04-2008</td>\n",
       "      <td>Rajasthan Royals</td>\n",
       "      <td>Delhi Daredevils</td>\n",
       "      <td>Rajasthan Royals</td>\n",
       "      <td>bat</td>\n",
       "      <td>normal</td>\n",
       "      <td>0</td>\n",
       "      <td>Delhi Daredevils</td>\n",
       "      <td>0</td>\n",
       "      <td>9</td>\n",
       "      <td>MF Maharoof</td>\n",
       "      <td>Feroz Shah Kotla</td>\n",
       "      <td>Aleem Dar</td>\n",
       "      <td>GA Pratapkumar</td>\n",
       "      <td>NaN</td>\n",
       "    </tr>\n",
       "    <tr>\n",
       "      <th>3</th>\n",
       "      <td>63</td>\n",
       "      <td>2008</td>\n",
       "      <td>Mumbai</td>\n",
       "      <td>20-04-2008</td>\n",
       "      <td>Mumbai Indians</td>\n",
       "      <td>Royal Challengers Bangalore</td>\n",
       "      <td>Mumbai Indians</td>\n",
       "      <td>bat</td>\n",
       "      <td>normal</td>\n",
       "      <td>0</td>\n",
       "      <td>Royal Challengers Bangalore</td>\n",
       "      <td>0</td>\n",
       "      <td>5</td>\n",
       "      <td>MV Boucher</td>\n",
       "      <td>Wankhede Stadium</td>\n",
       "      <td>SJ Davis</td>\n",
       "      <td>DJ Harper</td>\n",
       "      <td>NaN</td>\n",
       "    </tr>\n",
       "    <tr>\n",
       "      <th>4</th>\n",
       "      <td>64</td>\n",
       "      <td>2008</td>\n",
       "      <td>Kolkata</td>\n",
       "      <td>20-04-2008</td>\n",
       "      <td>Deccan Chargers</td>\n",
       "      <td>Kolkata Knight Riders</td>\n",
       "      <td>Deccan Chargers</td>\n",
       "      <td>bat</td>\n",
       "      <td>normal</td>\n",
       "      <td>0</td>\n",
       "      <td>Kolkata Knight Riders</td>\n",
       "      <td>0</td>\n",
       "      <td>5</td>\n",
       "      <td>DJ Hussey</td>\n",
       "      <td>Eden Gardens</td>\n",
       "      <td>BF Bowden</td>\n",
       "      <td>K Hariharan</td>\n",
       "      <td>NaN</td>\n",
       "    </tr>\n",
       "    <tr>\n",
       "      <th>5</th>\n",
       "      <td>65</td>\n",
       "      <td>2008</td>\n",
       "      <td>Jaipur</td>\n",
       "      <td>21-04-2008</td>\n",
       "      <td>Kings XI Punjab</td>\n",
       "      <td>Rajasthan Royals</td>\n",
       "      <td>Kings XI Punjab</td>\n",
       "      <td>bat</td>\n",
       "      <td>normal</td>\n",
       "      <td>0</td>\n",
       "      <td>Rajasthan Royals</td>\n",
       "      <td>0</td>\n",
       "      <td>6</td>\n",
       "      <td>SR Watson</td>\n",
       "      <td>Sawai Mansingh Stadium</td>\n",
       "      <td>Aleem Dar</td>\n",
       "      <td>RB Tiffin</td>\n",
       "      <td>NaN</td>\n",
       "    </tr>\n",
       "    <tr>\n",
       "      <th>6</th>\n",
       "      <td>66</td>\n",
       "      <td>2008</td>\n",
       "      <td>Hyderabad</td>\n",
       "      <td>22-04-2008</td>\n",
       "      <td>Deccan Chargers</td>\n",
       "      <td>Delhi Daredevils</td>\n",
       "      <td>Deccan Chargers</td>\n",
       "      <td>bat</td>\n",
       "      <td>normal</td>\n",
       "      <td>0</td>\n",
       "      <td>Delhi Daredevils</td>\n",
       "      <td>0</td>\n",
       "      <td>9</td>\n",
       "      <td>V Sehwag</td>\n",
       "      <td>Rajiv Gandhi International Stadium, Uppal</td>\n",
       "      <td>IL Howell</td>\n",
       "      <td>AM Saheba</td>\n",
       "      <td>NaN</td>\n",
       "    </tr>\n",
       "    <tr>\n",
       "      <th>7</th>\n",
       "      <td>67</td>\n",
       "      <td>2008</td>\n",
       "      <td>Chennai</td>\n",
       "      <td>23-04-2008</td>\n",
       "      <td>Chennai Super Kings</td>\n",
       "      <td>Mumbai Indians</td>\n",
       "      <td>Mumbai Indians</td>\n",
       "      <td>field</td>\n",
       "      <td>normal</td>\n",
       "      <td>0</td>\n",
       "      <td>Chennai Super Kings</td>\n",
       "      <td>6</td>\n",
       "      <td>0</td>\n",
       "      <td>ML Hayden</td>\n",
       "      <td>MA Chidambaram Stadium, Chepauk</td>\n",
       "      <td>DJ Harper</td>\n",
       "      <td>GA Pratapkumar</td>\n",
       "      <td>NaN</td>\n",
       "    </tr>\n",
       "    <tr>\n",
       "      <th>8</th>\n",
       "      <td>68</td>\n",
       "      <td>2008</td>\n",
       "      <td>Hyderabad</td>\n",
       "      <td>24-04-2008</td>\n",
       "      <td>Deccan Chargers</td>\n",
       "      <td>Rajasthan Royals</td>\n",
       "      <td>Rajasthan Royals</td>\n",
       "      <td>field</td>\n",
       "      <td>normal</td>\n",
       "      <td>0</td>\n",
       "      <td>Rajasthan Royals</td>\n",
       "      <td>0</td>\n",
       "      <td>3</td>\n",
       "      <td>YK Pathan</td>\n",
       "      <td>Rajiv Gandhi International Stadium, Uppal</td>\n",
       "      <td>Asad Rauf</td>\n",
       "      <td>MR Benson</td>\n",
       "      <td>NaN</td>\n",
       "    </tr>\n",
       "    <tr>\n",
       "      <th>9</th>\n",
       "      <td>69</td>\n",
       "      <td>2008</td>\n",
       "      <td>Chandigarh</td>\n",
       "      <td>25-04-2008</td>\n",
       "      <td>Kings XI Punjab</td>\n",
       "      <td>Mumbai Indians</td>\n",
       "      <td>Mumbai Indians</td>\n",
       "      <td>field</td>\n",
       "      <td>normal</td>\n",
       "      <td>0</td>\n",
       "      <td>Kings XI Punjab</td>\n",
       "      <td>66</td>\n",
       "      <td>0</td>\n",
       "      <td>KC Sangakkara</td>\n",
       "      <td>Punjab Cricket Association Stadium, Mohali</td>\n",
       "      <td>Aleem Dar</td>\n",
       "      <td>AM Saheba</td>\n",
       "      <td>NaN</td>\n",
       "    </tr>\n",
       "  </tbody>\n",
       "</table>\n",
       "</div>"
      ],
      "text/plain": [
       "   id  season        city        date                  team1  \\\n",
       "0  60    2008   Bangalore  18-04-2008  Kolkata Knight Riders   \n",
       "1  61    2008  Chandigarh  19-04-2008    Chennai Super Kings   \n",
       "2  62    2008       Delhi  19-04-2008       Rajasthan Royals   \n",
       "3  63    2008      Mumbai  20-04-2008         Mumbai Indians   \n",
       "4  64    2008     Kolkata  20-04-2008        Deccan Chargers   \n",
       "5  65    2008      Jaipur  21-04-2008        Kings XI Punjab   \n",
       "6  66    2008   Hyderabad  22-04-2008        Deccan Chargers   \n",
       "7  67    2008     Chennai  23-04-2008    Chennai Super Kings   \n",
       "8  68    2008   Hyderabad  24-04-2008        Deccan Chargers   \n",
       "9  69    2008  Chandigarh  25-04-2008        Kings XI Punjab   \n",
       "\n",
       "                         team2                  toss_winner toss_decision  \\\n",
       "0  Royal Challengers Bangalore  Royal Challengers Bangalore         field   \n",
       "1              Kings XI Punjab          Chennai Super Kings           bat   \n",
       "2             Delhi Daredevils             Rajasthan Royals           bat   \n",
       "3  Royal Challengers Bangalore               Mumbai Indians           bat   \n",
       "4        Kolkata Knight Riders              Deccan Chargers           bat   \n",
       "5             Rajasthan Royals              Kings XI Punjab           bat   \n",
       "6             Delhi Daredevils              Deccan Chargers           bat   \n",
       "7               Mumbai Indians               Mumbai Indians         field   \n",
       "8             Rajasthan Royals             Rajasthan Royals         field   \n",
       "9               Mumbai Indians               Mumbai Indians         field   \n",
       "\n",
       "   result  dl_applied                       winner  win_by_runs  \\\n",
       "0  normal           0        Kolkata Knight Riders          140   \n",
       "1  normal           0          Chennai Super Kings           33   \n",
       "2  normal           0             Delhi Daredevils            0   \n",
       "3  normal           0  Royal Challengers Bangalore            0   \n",
       "4  normal           0        Kolkata Knight Riders            0   \n",
       "5  normal           0             Rajasthan Royals            0   \n",
       "6  normal           0             Delhi Daredevils            0   \n",
       "7  normal           0          Chennai Super Kings            6   \n",
       "8  normal           0             Rajasthan Royals            0   \n",
       "9  normal           0              Kings XI Punjab           66   \n",
       "\n",
       "   win_by_wickets player_of_match                                       venue  \\\n",
       "0               0     BB McCullum                       M Chinnaswamy Stadium   \n",
       "1               0      MEK Hussey  Punjab Cricket Association Stadium, Mohali   \n",
       "2               9     MF Maharoof                            Feroz Shah Kotla   \n",
       "3               5      MV Boucher                            Wankhede Stadium   \n",
       "4               5       DJ Hussey                                Eden Gardens   \n",
       "5               6       SR Watson                      Sawai Mansingh Stadium   \n",
       "6               9        V Sehwag   Rajiv Gandhi International Stadium, Uppal   \n",
       "7               0       ML Hayden             MA Chidambaram Stadium, Chepauk   \n",
       "8               3       YK Pathan   Rajiv Gandhi International Stadium, Uppal   \n",
       "9               0   KC Sangakkara  Punjab Cricket Association Stadium, Mohali   \n",
       "\n",
       "     umpire1         umpire2 umpire3  \n",
       "0  Asad Rauf     RE Koertzen     NaN  \n",
       "1  MR Benson      SL Shastri     NaN  \n",
       "2  Aleem Dar  GA Pratapkumar     NaN  \n",
       "3   SJ Davis       DJ Harper     NaN  \n",
       "4  BF Bowden     K Hariharan     NaN  \n",
       "5  Aleem Dar       RB Tiffin     NaN  \n",
       "6  IL Howell       AM Saheba     NaN  \n",
       "7  DJ Harper  GA Pratapkumar     NaN  \n",
       "8  Asad Rauf       MR Benson     NaN  \n",
       "9  Aleem Dar       AM Saheba     NaN  "
      ]
     },
     "execution_count": 2,
     "metadata": {},
     "output_type": "execute_result"
    }
   ],
   "source": [
    "matches=pd.read_csv(\"../input/winnerpredictionchallenge/Training Matches IPL 2008-2019.csv\")\n",
    "matches.head(10)"
   ]
  },
  {
   "cell_type": "markdown",
   "id": "outside-diabetes",
   "metadata": {
    "papermill": {
     "duration": 0.05601,
     "end_time": "2021-06-08T10:08:41.776177",
     "exception": false,
     "start_time": "2021-06-08T10:08:41.720167",
     "status": "completed"
    },
    "tags": []
   },
   "source": [
    "So there are 756 rows and 18 columns. 756 rows imply that there were 756 IPL matches held between 2008 and 2019."
   ]
  },
  {
   "cell_type": "markdown",
   "id": "structured-intervention",
   "metadata": {
    "papermill": {
     "duration": 0.055656,
     "end_time": "2021-06-08T10:08:41.888264",
     "exception": false,
     "start_time": "2021-06-08T10:08:41.832608",
     "status": "completed"
    },
    "tags": []
   },
   "source": [
    "# The dataset has 18 columns. Let’s get acquainted with the columns.\n",
    "\n",
    "id: The IPL match id.\n",
    "\n",
    "season: The IPL season\n",
    "\n",
    "city: The city where the IPL match was held.\n",
    "\n",
    "date: The date on which the match was held.\n",
    "\n",
    "team1: One of the teams of the IPL match\n",
    "\n",
    "team2: The other team of the IPL match\n",
    "\n",
    "toss_winner: The team that won the toss\n",
    "\n",
    "toss_decision: The decision taken by the team that won the toss to ‘bat’ or ‘field’\n",
    "\n",
    "result: The result(‘normal’, ‘tie’, ‘no result’) of the match.\n",
    "\n",
    "dl_applied: (1 or 0)indicates whether the Duckworth-Lewis rule was applied or not.\n",
    "\n",
    "winner: The winner of the match.\n",
    "\n",
    "win_by_runs: Provides the runs by which the team batting first won\n",
    "\n",
    "win_by_runs: Provides the number of wickets by which the team batting second won.\n",
    "\n",
    "player_of_match: The outstanding player of the match.\n",
    "\n",
    "venue: The venue where the match was hosted.\n",
    "\n",
    "umpire1: One of the two on-field umpires who officiate the match.\n",
    "\n",
    "umpire2: One of the two on-field umpires who officiate the match.\n",
    "\n",
    "umpire3: The off-field umpire who officiates the match"
   ]
  },
  {
   "cell_type": "code",
   "execution_count": 3,
   "id": "modern-casino",
   "metadata": {
    "execution": {
     "iopub.execute_input": "2021-06-08T10:08:42.008538Z",
     "iopub.status.busy": "2021-06-08T10:08:42.007629Z",
     "iopub.status.idle": "2021-06-08T10:08:42.012173Z",
     "shell.execute_reply": "2021-06-08T10:08:42.011509Z",
     "shell.execute_reply.started": "2021-06-08T10:05:43.902497Z"
    },
    "papermill": {
     "duration": 0.067955,
     "end_time": "2021-06-08T10:08:42.012321",
     "exception": false,
     "start_time": "2021-06-08T10:08:41.944366",
     "status": "completed"
    },
    "tags": []
   },
   "outputs": [
    {
     "data": {
      "text/plain": [
       "id                   0\n",
       "season               0\n",
       "city                 7\n",
       "date                 0\n",
       "team1                0\n",
       "team2                0\n",
       "toss_winner          0\n",
       "toss_decision        0\n",
       "result               0\n",
       "dl_applied           0\n",
       "winner               4\n",
       "win_by_runs          0\n",
       "win_by_wickets       0\n",
       "player_of_match      4\n",
       "venue                0\n",
       "umpire1              2\n",
       "umpire2              2\n",
       "umpire3            637\n",
       "dtype: int64"
      ]
     },
     "execution_count": 3,
     "metadata": {},
     "output_type": "execute_result"
    }
   ],
   "source": [
    "#checking null values\n",
    "matches.isnull().sum()"
   ]
  },
  {
   "cell_type": "markdown",
   "id": "worse-flexibility",
   "metadata": {
    "papermill": {
     "duration": 0.060197,
     "end_time": "2021-06-08T10:08:42.132383",
     "exception": false,
     "start_time": "2021-06-08T10:08:42.072186",
     "status": "completed"
    },
    "tags": []
   },
   "source": [
    "It’s imperative to know the count of NaN values for each column before we proceed further.The column ‘umpire3’ has a significant number of NaN values. As the off-field umpire parameter is insignificant, we can drop this column. The other columns that have Nan values are of type object(Pandas equivalent of Python String data type) and are very few in number(<=7)."
   ]
  },
  {
   "cell_type": "code",
   "execution_count": 4,
   "id": "therapeutic-frost",
   "metadata": {
    "execution": {
     "iopub.execute_input": "2021-06-08T10:08:42.262857Z",
     "iopub.status.busy": "2021-06-08T10:08:42.262237Z",
     "iopub.status.idle": "2021-06-08T10:08:42.284788Z",
     "shell.execute_reply": "2021-06-08T10:08:42.283985Z",
     "shell.execute_reply.started": "2021-06-08T10:05:43.919713Z"
    },
    "papermill": {
     "duration": 0.089239,
     "end_time": "2021-06-08T10:08:42.284926",
     "exception": false,
     "start_time": "2021-06-08T10:08:42.195687",
     "status": "completed"
    },
    "tags": []
   },
   "outputs": [
    {
     "data": {
      "text/html": [
       "<div>\n",
       "<style scoped>\n",
       "    .dataframe tbody tr th:only-of-type {\n",
       "        vertical-align: middle;\n",
       "    }\n",
       "\n",
       "    .dataframe tbody tr th {\n",
       "        vertical-align: top;\n",
       "    }\n",
       "\n",
       "    .dataframe thead th {\n",
       "        text-align: right;\n",
       "    }\n",
       "</style>\n",
       "<table border=\"1\" class=\"dataframe\">\n",
       "  <thead>\n",
       "    <tr style=\"text-align: right;\">\n",
       "      <th></th>\n",
       "      <th>id</th>\n",
       "      <th>season</th>\n",
       "      <th>dl_applied</th>\n",
       "      <th>win_by_runs</th>\n",
       "      <th>win_by_wickets</th>\n",
       "    </tr>\n",
       "  </thead>\n",
       "  <tbody>\n",
       "    <tr>\n",
       "      <th>count</th>\n",
       "      <td>756.000000</td>\n",
       "      <td>756.000000</td>\n",
       "      <td>756.000000</td>\n",
       "      <td>756.000000</td>\n",
       "      <td>756.000000</td>\n",
       "    </tr>\n",
       "    <tr>\n",
       "      <th>mean</th>\n",
       "      <td>1792.178571</td>\n",
       "      <td>2013.444444</td>\n",
       "      <td>0.025132</td>\n",
       "      <td>13.283069</td>\n",
       "      <td>3.350529</td>\n",
       "    </tr>\n",
       "    <tr>\n",
       "      <th>std</th>\n",
       "      <td>3464.478148</td>\n",
       "      <td>3.366895</td>\n",
       "      <td>0.156630</td>\n",
       "      <td>23.471144</td>\n",
       "      <td>3.387963</td>\n",
       "    </tr>\n",
       "    <tr>\n",
       "      <th>min</th>\n",
       "      <td>1.000000</td>\n",
       "      <td>2008.000000</td>\n",
       "      <td>0.000000</td>\n",
       "      <td>0.000000</td>\n",
       "      <td>0.000000</td>\n",
       "    </tr>\n",
       "    <tr>\n",
       "      <th>25%</th>\n",
       "      <td>189.750000</td>\n",
       "      <td>2011.000000</td>\n",
       "      <td>0.000000</td>\n",
       "      <td>0.000000</td>\n",
       "      <td>0.000000</td>\n",
       "    </tr>\n",
       "    <tr>\n",
       "      <th>50%</th>\n",
       "      <td>378.500000</td>\n",
       "      <td>2013.000000</td>\n",
       "      <td>0.000000</td>\n",
       "      <td>0.000000</td>\n",
       "      <td>4.000000</td>\n",
       "    </tr>\n",
       "    <tr>\n",
       "      <th>75%</th>\n",
       "      <td>567.250000</td>\n",
       "      <td>2016.000000</td>\n",
       "      <td>0.000000</td>\n",
       "      <td>19.000000</td>\n",
       "      <td>6.000000</td>\n",
       "    </tr>\n",
       "    <tr>\n",
       "      <th>max</th>\n",
       "      <td>11415.000000</td>\n",
       "      <td>2019.000000</td>\n",
       "      <td>1.000000</td>\n",
       "      <td>146.000000</td>\n",
       "      <td>10.000000</td>\n",
       "    </tr>\n",
       "  </tbody>\n",
       "</table>\n",
       "</div>"
      ],
      "text/plain": [
       "                 id       season  dl_applied  win_by_runs  win_by_wickets\n",
       "count    756.000000   756.000000  756.000000   756.000000      756.000000\n",
       "mean    1792.178571  2013.444444    0.025132    13.283069        3.350529\n",
       "std     3464.478148     3.366895    0.156630    23.471144        3.387963\n",
       "min        1.000000  2008.000000    0.000000     0.000000        0.000000\n",
       "25%      189.750000  2011.000000    0.000000     0.000000        0.000000\n",
       "50%      378.500000  2013.000000    0.000000     0.000000        4.000000\n",
       "75%      567.250000  2016.000000    0.000000    19.000000        6.000000\n",
       "max    11415.000000  2019.000000    1.000000   146.000000       10.000000"
      ]
     },
     "execution_count": 4,
     "metadata": {},
     "output_type": "execute_result"
    }
   ],
   "source": [
    "matches.describe()\n"
   ]
  },
  {
   "cell_type": "code",
   "execution_count": 5,
   "id": "driven-brook",
   "metadata": {
    "execution": {
     "iopub.execute_input": "2021-06-08T10:08:42.406246Z",
     "iopub.status.busy": "2021-06-08T10:08:42.405607Z",
     "iopub.status.idle": "2021-06-08T10:08:42.415342Z",
     "shell.execute_reply": "2021-06-08T10:08:42.415829Z",
     "shell.execute_reply.started": "2021-06-08T10:05:43.955324Z"
    },
    "papermill": {
     "duration": 0.074921,
     "end_time": "2021-06-08T10:08:42.415990",
     "exception": false,
     "start_time": "2021-06-08T10:08:42.341069",
     "status": "completed"
    },
    "tags": []
   },
   "outputs": [
    {
     "name": "stdout",
     "output_type": "stream",
     "text": [
      "<class 'pandas.core.frame.DataFrame'>\n",
      "RangeIndex: 756 entries, 0 to 755\n",
      "Data columns (total 18 columns):\n",
      " #   Column           Non-Null Count  Dtype \n",
      "---  ------           --------------  ----- \n",
      " 0   id               756 non-null    int64 \n",
      " 1   season           756 non-null    int64 \n",
      " 2   city             749 non-null    object\n",
      " 3   date             756 non-null    object\n",
      " 4   team1            756 non-null    object\n",
      " 5   team2            756 non-null    object\n",
      " 6   toss_winner      756 non-null    object\n",
      " 7   toss_decision    756 non-null    object\n",
      " 8   result           756 non-null    object\n",
      " 9   dl_applied       756 non-null    int64 \n",
      " 10  winner           752 non-null    object\n",
      " 11  win_by_runs      756 non-null    int64 \n",
      " 12  win_by_wickets   756 non-null    int64 \n",
      " 13  player_of_match  752 non-null    object\n",
      " 14  venue            756 non-null    object\n",
      " 15  umpire1          754 non-null    object\n",
      " 16  umpire2          754 non-null    object\n",
      " 17  umpire3          119 non-null    object\n",
      "dtypes: int64(5), object(13)\n",
      "memory usage: 106.4+ KB\n"
     ]
    }
   ],
   "source": [
    "matches.info()"
   ]
  },
  {
   "cell_type": "code",
   "execution_count": 6,
   "id": "horizontal-tackle",
   "metadata": {
    "execution": {
     "iopub.execute_input": "2021-06-08T10:08:42.531891Z",
     "iopub.status.busy": "2021-06-08T10:08:42.531343Z",
     "iopub.status.idle": "2021-06-08T10:08:42.536402Z",
     "shell.execute_reply": "2021-06-08T10:08:42.536905Z",
     "shell.execute_reply.started": "2021-06-08T10:05:43.985831Z"
    },
    "papermill": {
     "duration": 0.06431,
     "end_time": "2021-06-08T10:08:42.537088",
     "exception": false,
     "start_time": "2021-06-08T10:08:42.472778",
     "status": "completed"
    },
    "tags": []
   },
   "outputs": [],
   "source": [
    "\n",
    "#filling null values\n",
    "matches['winner'].fillna('Draw', inplace=True)\n",
    "matches['city'].fillna('Dubai', inplace=True)"
   ]
  },
  {
   "cell_type": "code",
   "execution_count": 7,
   "id": "needed-modeling",
   "metadata": {
    "execution": {
     "iopub.execute_input": "2021-06-08T10:08:42.655902Z",
     "iopub.status.busy": "2021-06-08T10:08:42.655285Z",
     "iopub.status.idle": "2021-06-08T10:08:42.657741Z",
     "shell.execute_reply": "2021-06-08T10:08:42.658192Z",
     "shell.execute_reply.started": "2021-06-08T10:05:43.996573Z"
    },
    "papermill": {
     "duration": 0.064307,
     "end_time": "2021-06-08T10:08:42.658358",
     "exception": false,
     "start_time": "2021-06-08T10:08:42.594051",
     "status": "completed"
    },
    "tags": []
   },
   "outputs": [],
   "source": [
    "matches = matches.drop(columns=['umpire3'], axis=1)"
   ]
  },
  {
   "cell_type": "code",
   "execution_count": 8,
   "id": "changed-documentation",
   "metadata": {
    "execution": {
     "iopub.execute_input": "2021-06-08T10:08:42.775804Z",
     "iopub.status.busy": "2021-06-08T10:08:42.775252Z",
     "iopub.status.idle": "2021-06-08T10:08:42.781846Z",
     "shell.execute_reply": "2021-06-08T10:08:42.781440Z",
     "shell.execute_reply.started": "2021-06-08T10:05:44.025287Z"
    },
    "papermill": {
     "duration": 0.065573,
     "end_time": "2021-06-08T10:08:42.781975",
     "exception": false,
     "start_time": "2021-06-08T10:08:42.716402",
     "status": "completed"
    },
    "tags": []
   },
   "outputs": [
    {
     "data": {
      "text/plain": [
       "241    Draw\n",
       "486    Draw\n",
       "511    Draw\n",
       "744    Draw\n",
       "Name: winner, dtype: object"
      ]
     },
     "execution_count": 8,
     "metadata": {},
     "output_type": "execute_result"
    }
   ],
   "source": [
    "matches.loc[matches.winner=='Draw','winner']"
   ]
  },
  {
   "cell_type": "code",
   "execution_count": 9,
   "id": "pleased-resource",
   "metadata": {
    "execution": {
     "iopub.execute_input": "2021-06-08T10:08:42.903237Z",
     "iopub.status.busy": "2021-06-08T10:08:42.901219Z",
     "iopub.status.idle": "2021-06-08T10:08:42.909979Z",
     "shell.execute_reply": "2021-06-08T10:08:42.909410Z",
     "shell.execute_reply.started": "2021-06-08T10:05:44.055247Z"
    },
    "papermill": {
     "duration": 0.071047,
     "end_time": "2021-06-08T10:08:42.910132",
     "exception": false,
     "start_time": "2021-06-08T10:08:42.839085",
     "status": "completed"
    },
    "tags": []
   },
   "outputs": [],
   "source": [
    "#Replacing Full names of the teams with their abbreviations \n",
    "matches.replace(['Mumbai Indians','Kolkata Knight Riders','Royal Challengers Bangalore','Deccan Chargers','Chennai Super Kings',\n",
    "                 'Rajasthan Royals','Delhi Daredevils','Gujarat Lions','Kings XI Punjab','Delhi Capitals' ,\n",
    "                 'Sunrisers Hyderabad','Rising Pune Supergiants','Rising Pune Supergiant','Kochi Tuskers Kerala','Pune Warriors']\n",
    "                ,['MI','KKR','RCB','DC','CSK','RR','DD','GL','KXIP','DD','SRH','RPS','RPS','KTK','PW'],inplace=True)"
   ]
  },
  {
   "cell_type": "markdown",
   "id": "neutral-vector",
   "metadata": {
    "papermill": {
     "duration": 0.056994,
     "end_time": "2021-06-08T10:08:43.024299",
     "exception": false,
     "start_time": "2021-06-08T10:08:42.967305",
     "status": "completed"
    },
    "tags": []
   },
   "source": [
    "# Exploratory Analysis and Visualization\n",
    "\n",
    "Now that our data set has been cleaned up, it’s time to do the in-depth analysis and visualization.\n",
    "\n",
    "\n",
    "Let’s begin by importingmatplotlib.pyplot and seaborn."
   ]
  },
  {
   "cell_type": "code",
   "execution_count": 10,
   "id": "looking-variation",
   "metadata": {
    "execution": {
     "iopub.execute_input": "2021-06-08T10:08:43.148286Z",
     "iopub.status.busy": "2021-06-08T10:08:43.147681Z",
     "iopub.status.idle": "2021-06-08T10:08:44.003983Z",
     "shell.execute_reply": "2021-06-08T10:08:44.002891Z",
     "shell.execute_reply.started": "2021-06-08T10:05:44.085723Z"
    },
    "papermill": {
     "duration": 0.921647,
     "end_time": "2021-06-08T10:08:44.004147",
     "exception": false,
     "start_time": "2021-06-08T10:08:43.082500",
     "status": "completed"
    },
    "tags": []
   },
   "outputs": [],
   "source": [
    "%matplotlib inline\n",
    "import matplotlib\n",
    "import matplotlib.pyplot as plt\n",
    "import numpy as np\n",
    "import seaborn as sns\n",
    "\n",
    "sns.color_palette(\"Paired\")\n",
    "matplotlib.rcParams['font.size'] = 14\n",
    "matplotlib.rcParams['figure.figsize'] = (15, 15)\n",
    "matplotlib.rcParams['figure.facecolor'] = '#00000000'\n",
    "\n",
    "\n"
   ]
  },
  {
   "cell_type": "markdown",
   "id": "municipal-pleasure",
   "metadata": {
    "papermill": {
     "duration": 0.056094,
     "end_time": "2021-06-08T10:08:44.117647",
     "exception": false,
     "start_time": "2021-06-08T10:08:44.061553",
     "status": "completed"
    },
    "tags": []
   },
   "source": [
    "# The team with the most number of wins per season."
   ]
  },
  {
   "cell_type": "code",
   "execution_count": 11,
   "id": "first-gilbert",
   "metadata": {
    "execution": {
     "iopub.execute_input": "2021-06-08T10:08:44.280269Z",
     "iopub.status.busy": "2021-06-08T10:08:44.279680Z",
     "iopub.status.idle": "2021-06-08T10:08:44.439399Z",
     "shell.execute_reply": "2021-06-08T10:08:44.439889Z",
     "shell.execute_reply.started": "2021-06-08T10:05:45.017854Z"
    },
    "papermill": {
     "duration": 0.24939,
     "end_time": "2021-06-08T10:08:44.440064",
     "exception": false,
     "start_time": "2021-06-08T10:08:44.190674",
     "status": "completed"
    },
    "tags": []
   },
   "outputs": [
    {
     "data": {
      "text/plain": [
       "Text(0.5, 1.0, 'Toss-Win & Toss-Lose')"
      ]
     },
     "execution_count": 11,
     "metadata": {},
     "output_type": "execute_result"
    },
    {
     "data": {
      "image/png": "[encoded data removed]",
      "text/plain": [
       "<Figure size 1080x1080 with 1 Axes>"
      ]
     },
     "metadata": {
      "needs_background": "light"
     },
     "output_type": "display_data"
    }
   ],
   "source": [
    "objects = ('Toss & Win','Toss & Lose')\n",
    "y_pos = np.arange(len(objects))\n",
    "a=len(matches[matches['toss_winner']==matches['winner']])/len(matches)\n",
    "b=(len(matches)-(len(matches[matches['toss_winner']==matches['winner']])))/len(matches)\n",
    "performance = [a,b]\n",
    "plt.bar(y_pos, performance, align='center', alpha=0.7)\n",
    "plt.xticks(y_pos, objects)\n",
    "plt.ylabel('Winning Percentage')\n",
    "plt.title('Toss-Win & Toss-Lose')  "
   ]
  },
  {
   "cell_type": "markdown",
   "id": "continued-cliff",
   "metadata": {
    "papermill": {
     "duration": 0.057029,
     "end_time": "2021-06-08T10:08:44.554823",
     "exception": false,
     "start_time": "2021-06-08T10:08:44.497794",
     "status": "completed"
    },
    "tags": []
   },
   "source": [
    "# The team with the most number of wins per season.\n",
    "\n",
    "Each IPL season has a fair share of excitement and adulation. No team other than Chennai Super Kings(in 2010 and 2011) was able to win\n",
    "the IPL trophy in succession. That is a testimony to the unpredictability of IPL.\n",
    "\n",
    "\n",
    "Let’s analyze the team with the most wins in each season."
   ]
  },
  {
   "cell_type": "code",
   "execution_count": 12,
   "id": "diagnostic-explanation",
   "metadata": {
    "execution": {
     "iopub.execute_input": "2021-06-08T10:08:44.675300Z",
     "iopub.status.busy": "2021-06-08T10:08:44.674720Z",
     "iopub.status.idle": "2021-06-08T10:08:44.684192Z",
     "shell.execute_reply": "2021-06-08T10:08:44.684654Z",
     "shell.execute_reply.started": "2021-06-08T10:05:45.206561Z"
    },
    "papermill": {
     "duration": 0.072744,
     "end_time": "2021-06-08T10:08:44.684815",
     "exception": false,
     "start_time": "2021-06-08T10:08:44.612071",
     "status": "completed"
    },
    "tags": []
   },
   "outputs": [
    {
     "data": {
      "text/plain": [
       "season  winner\n",
       "2008    RR        13\n",
       "        KXIP      10\n",
       "        CSK        9\n",
       "        DD         7\n",
       "        MI         7\n",
       "                  ..\n",
       "2019    KXIP       6\n",
       "        SRH        6\n",
       "        RCB        5\n",
       "        RR         5\n",
       "        Draw       1\n",
       "Name: winner, Length: 103, dtype: int64"
      ]
     },
     "execution_count": 12,
     "metadata": {},
     "output_type": "execute_result"
    }
   ],
   "source": [
    "teams_per_season = matches.groupby('season')['winner'].value_counts()\n",
    "teams_per_season"
   ]
  },
  {
   "cell_type": "code",
   "execution_count": 13,
   "id": "nervous-washer",
   "metadata": {
    "execution": {
     "iopub.execute_input": "2021-06-08T10:08:44.802482Z",
     "iopub.status.busy": "2021-06-08T10:08:44.801910Z",
     "iopub.status.idle": "2021-06-08T10:08:44.831925Z",
     "shell.execute_reply": "2021-06-08T10:08:44.831293Z",
     "shell.execute_reply.started": "2021-06-08T10:05:45.222740Z"
    },
    "papermill": {
     "duration": 0.089768,
     "end_time": "2021-06-08T10:08:44.832083",
     "exception": false,
     "start_time": "2021-06-08T10:08:44.742315",
     "status": "completed"
    },
    "tags": []
   },
   "outputs": [
    {
     "name": "stdout",
     "output_type": "stream",
     "text": [
      "((2008, 'RR'), 13)\n",
      "((2009, 'DD'), 10)\n",
      "((2010, 'MI'), 11)\n",
      "((2011, 'CSK'), 11)\n",
      "((2012, 'KKR'), 12)\n",
      "((2013, 'MI'), 13)\n",
      "((2014, 'KXIP'), 12)\n",
      "((2015, 'CSK'), 10)\n",
      "((2016, 'SRH'), 11)\n",
      "((2017, 'MI'), 12)\n",
      "((2018, 'CSK'), 11)\n",
      "((2019, 'MI'), 11)\n"
     ]
    }
   ],
   "source": [
    "\"\"\"\n",
    "for i, v in win_per_season.iteritems():\n",
    "    print(i, v)\n",
    "    \n",
    "for items in win_per_season.iteritems():\n",
    "    print(items)    \n",
    "\"\"\"\n",
    "year = 2008\n",
    "win_per_season_df = pd.DataFrame(columns=['year', 'team', 'wins'])\n",
    "for items in teams_per_season.iteritems():    \n",
    "    if items[0][0]==year:\n",
    "        print(items)\n",
    "        win_series = pd.DataFrame({\n",
    "            'year': [items[0][0]],\n",
    "            'team': [items[0][1]],\n",
    "            'wins': [items[1]]\n",
    "        })\n",
    "        win_per_season_df = win_per_season_df.append(win_series)\n",
    "        year += 1   "
   ]
  },
  {
   "cell_type": "code",
   "execution_count": 14,
   "id": "fewer-tower",
   "metadata": {
    "execution": {
     "iopub.execute_input": "2021-06-08T10:08:44.958117Z",
     "iopub.status.busy": "2021-06-08T10:08:44.957196Z",
     "iopub.status.idle": "2021-06-08T10:08:44.961383Z",
     "shell.execute_reply": "2021-06-08T10:08:44.960942Z",
     "shell.execute_reply.started": "2021-06-08T10:05:45.267784Z"
    },
    "papermill": {
     "duration": 0.071857,
     "end_time": "2021-06-08T10:08:44.961522",
     "exception": false,
     "start_time": "2021-06-08T10:08:44.889665",
     "status": "completed"
    },
    "tags": []
   },
   "outputs": [
    {
     "data": {
      "text/html": [
       "<div>\n",
       "<style scoped>\n",
       "    .dataframe tbody tr th:only-of-type {\n",
       "        vertical-align: middle;\n",
       "    }\n",
       "\n",
       "    .dataframe tbody tr th {\n",
       "        vertical-align: top;\n",
       "    }\n",
       "\n",
       "    .dataframe thead th {\n",
       "        text-align: right;\n",
       "    }\n",
       "</style>\n",
       "<table border=\"1\" class=\"dataframe\">\n",
       "  <thead>\n",
       "    <tr style=\"text-align: right;\">\n",
       "      <th></th>\n",
       "      <th>year</th>\n",
       "      <th>team</th>\n",
       "      <th>wins</th>\n",
       "    </tr>\n",
       "  </thead>\n",
       "  <tbody>\n",
       "    <tr>\n",
       "      <th>0</th>\n",
       "      <td>2008</td>\n",
       "      <td>RR</td>\n",
       "      <td>13</td>\n",
       "    </tr>\n",
       "    <tr>\n",
       "      <th>0</th>\n",
       "      <td>2009</td>\n",
       "      <td>DD</td>\n",
       "      <td>10</td>\n",
       "    </tr>\n",
       "    <tr>\n",
       "      <th>0</th>\n",
       "      <td>2010</td>\n",
       "      <td>MI</td>\n",
       "      <td>11</td>\n",
       "    </tr>\n",
       "    <tr>\n",
       "      <th>0</th>\n",
       "      <td>2011</td>\n",
       "      <td>CSK</td>\n",
       "      <td>11</td>\n",
       "    </tr>\n",
       "    <tr>\n",
       "      <th>0</th>\n",
       "      <td>2012</td>\n",
       "      <td>KKR</td>\n",
       "      <td>12</td>\n",
       "    </tr>\n",
       "    <tr>\n",
       "      <th>0</th>\n",
       "      <td>2013</td>\n",
       "      <td>MI</td>\n",
       "      <td>13</td>\n",
       "    </tr>\n",
       "    <tr>\n",
       "      <th>0</th>\n",
       "      <td>2014</td>\n",
       "      <td>KXIP</td>\n",
       "      <td>12</td>\n",
       "    </tr>\n",
       "    <tr>\n",
       "      <th>0</th>\n",
       "      <td>2015</td>\n",
       "      <td>CSK</td>\n",
       "      <td>10</td>\n",
       "    </tr>\n",
       "    <tr>\n",
       "      <th>0</th>\n",
       "      <td>2016</td>\n",
       "      <td>SRH</td>\n",
       "      <td>11</td>\n",
       "    </tr>\n",
       "    <tr>\n",
       "      <th>0</th>\n",
       "      <td>2017</td>\n",
       "      <td>MI</td>\n",
       "      <td>12</td>\n",
       "    </tr>\n",
       "    <tr>\n",
       "      <th>0</th>\n",
       "      <td>2018</td>\n",
       "      <td>CSK</td>\n",
       "      <td>11</td>\n",
       "    </tr>\n",
       "    <tr>\n",
       "      <th>0</th>\n",
       "      <td>2019</td>\n",
       "      <td>MI</td>\n",
       "      <td>11</td>\n",
       "    </tr>\n",
       "  </tbody>\n",
       "</table>\n",
       "</div>"
      ],
      "text/plain": [
       "   year  team wins\n",
       "0  2008    RR   13\n",
       "0  2009    DD   10\n",
       "0  2010    MI   11\n",
       "0  2011   CSK   11\n",
       "0  2012   KKR   12\n",
       "0  2013    MI   13\n",
       "0  2014  KXIP   12\n",
       "0  2015   CSK   10\n",
       "0  2016   SRH   11\n",
       "0  2017    MI   12\n",
       "0  2018   CSK   11\n",
       "0  2019    MI   11"
      ]
     },
     "execution_count": 14,
     "metadata": {},
     "output_type": "execute_result"
    }
   ],
   "source": [
    "win_per_season_df"
   ]
  },
  {
   "cell_type": "markdown",
   "id": "latest-ratio",
   "metadata": {
    "papermill": {
     "duration": 0.060265,
     "end_time": "2021-06-08T10:08:45.082742",
     "exception": false,
     "start_time": "2021-06-08T10:08:45.022477",
     "status": "completed"
    },
    "tags": []
   },
   "source": [
    "The number of wins is a discrete value. Hence, we will plot a bar chart(barplot in Seaborn).\n"
   ]
  },
  {
   "cell_type": "code",
   "execution_count": 15,
   "id": "passive-executive",
   "metadata": {
    "execution": {
     "iopub.execute_input": "2021-06-08T10:08:45.205314Z",
     "iopub.status.busy": "2021-06-08T10:08:45.204722Z",
     "iopub.status.idle": "2021-06-08T10:08:45.922151Z",
     "shell.execute_reply": "2021-06-08T10:08:45.922589Z",
     "shell.execute_reply.started": "2021-06-08T10:05:45.284523Z"
    },
    "papermill": {
     "duration": 0.780956,
     "end_time": "2021-06-08T10:08:45.922751",
     "exception": false,
     "start_time": "2021-06-08T10:08:45.141795",
     "status": "completed"
    },
    "tags": []
   },
   "outputs": [
    {
     "name": "stderr",
     "output_type": "stream",
     "text": [
      "/opt/conda/lib/python3.7/site-packages/seaborn/_decorators.py:43: FutureWarning: Pass the following variables as keyword args: x, y. From version 0.12, the only valid positional argument will be `data`, and passing other arguments without an explicit keyword will result in an error or misinterpretation.\n",
      "  FutureWarning\n"
     ]
    },
    {
     "data": {
      "image/png": "[encoded data removed]",
      "text/plain": [
       "<Figure size 1080x1080 with 1 Axes>"
      ]
     },
     "metadata": {
      "needs_background": "light"
     },
     "output_type": "display_data"
    }
   ],
   "source": [
    "import seaborn as sns\n",
    "sns.barplot('wins', 'team', hue='year', data=win_per_season_df, palette='Paired');"
   ]
  },
  {
   "cell_type": "markdown",
   "id": "dirty-function",
   "metadata": {
    "papermill": {
     "duration": 0.060042,
     "end_time": "2021-06-08T10:08:46.043209",
     "exception": false,
     "start_time": "2021-06-08T10:08:45.983167",
     "status": "completed"
    },
    "tags": []
   },
   "source": [
    "From the barplot, we can easily make inferences regarding the year in which a particular team has scored the maximum wins(and also the number of wins).\n",
    "Observations:\n",
    "Mumbai Indians has secured the most wins in four seasons(2010, 2013, 2017, and 2019)."
   ]
  },
  {
   "cell_type": "markdown",
   "id": "graphic-seller",
   "metadata": {
    "papermill": {
     "duration": 0.060375,
     "end_time": "2021-06-08T10:08:46.163724",
     "exception": false,
     "start_time": "2021-06-08T10:08:46.103349",
     "status": "completed"
    },
    "tags": []
   },
   "source": [
    "# The venue that hosted the maximum number of matches\n"
   ]
  },
  {
   "cell_type": "code",
   "execution_count": 16,
   "id": "pregnant-routine",
   "metadata": {
    "execution": {
     "iopub.execute_input": "2021-06-08T10:08:46.288411Z",
     "iopub.status.busy": "2021-06-08T10:08:46.287790Z",
     "iopub.status.idle": "2021-06-08T10:08:46.290893Z",
     "shell.execute_reply": "2021-06-08T10:08:46.290279Z",
     "shell.execute_reply.started": "2021-06-08T10:05:46.032207Z"
    },
    "papermill": {
     "duration": 0.067668,
     "end_time": "2021-06-08T10:08:46.291050",
     "exception": false,
     "start_time": "2021-06-08T10:08:46.223382",
     "status": "completed"
    },
    "tags": []
   },
   "outputs": [],
   "source": [
    "venue_ser = matches['venue'].value_counts()"
   ]
  },
  {
   "cell_type": "code",
   "execution_count": 17,
   "id": "mexican-cooperative",
   "metadata": {
    "execution": {
     "iopub.execute_input": "2021-06-08T10:08:46.466923Z",
     "iopub.status.busy": "2021-06-08T10:08:46.438274Z",
     "iopub.status.idle": "2021-06-08T10:08:46.469937Z",
     "shell.execute_reply": "2021-06-08T10:08:46.469386Z",
     "shell.execute_reply.started": "2021-06-08T10:05:46.039874Z"
    },
    "papermill": {
     "duration": 0.119018,
     "end_time": "2021-06-08T10:08:46.470091",
     "exception": false,
     "start_time": "2021-06-08T10:08:46.351073",
     "status": "completed"
    },
    "tags": []
   },
   "outputs": [],
   "source": [
    "venue_df = pd.DataFrame(columns=['venue', 'matches'])\n",
    "for items in venue_ser.iteritems():\n",
    "    temp_df = pd.DataFrame({\n",
    "        'venue':[items[0]],\n",
    "        'matches':[items[1]]\n",
    "    })\n",
    "    venue_df = venue_df.append(temp_df, ignore_index=True)"
   ]
  },
  {
   "cell_type": "code",
   "execution_count": 18,
   "id": "activated-disaster",
   "metadata": {
    "execution": {
     "iopub.execute_input": "2021-06-08T10:08:46.607510Z",
     "iopub.status.busy": "2021-06-08T10:08:46.606835Z",
     "iopub.status.idle": "2021-06-08T10:08:47.394939Z",
     "shell.execute_reply": "2021-06-08T10:08:47.395420Z",
     "shell.execute_reply.started": "2021-06-08T10:05:46.116175Z"
    },
    "papermill": {
     "duration": 0.865958,
     "end_time": "2021-06-08T10:08:47.395582",
     "exception": false,
     "start_time": "2021-06-08T10:08:46.529624",
     "status": "completed"
    },
    "tags": []
   },
   "outputs": [
    {
     "data": {
      "image/png": "[encoded data removed]",
      "text/plain": [
       "<Figure size 1080x1080 with 1 Axes>"
      ]
     },
     "metadata": {
      "needs_background": "light"
     },
     "output_type": "display_data"
    }
   ],
   "source": [
    "plt.title(\"IPL Venues\")\n",
    "sns.barplot(x='matches', y='venue', data=venue_df);"
   ]
  },
  {
   "cell_type": "code",
   "execution_count": 19,
   "id": "introductory-weekend",
   "metadata": {
    "execution": {
     "iopub.execute_input": "2021-06-08T10:08:47.538736Z",
     "iopub.status.busy": "2021-06-08T10:08:47.537859Z",
     "iopub.status.idle": "2021-06-08T10:08:47.541844Z",
     "shell.execute_reply": "2021-06-08T10:08:47.542259Z",
     "shell.execute_reply.started": "2021-06-08T10:05:46.814670Z"
    },
    "papermill": {
     "duration": 0.081593,
     "end_time": "2021-06-08T10:08:47.542427",
     "exception": false,
     "start_time": "2021-06-08T10:08:47.460834",
     "status": "completed"
    },
    "tags": []
   },
   "outputs": [
    {
     "data": {
      "text/html": [
       "<div>\n",
       "<style scoped>\n",
       "    .dataframe tbody tr th:only-of-type {\n",
       "        vertical-align: middle;\n",
       "    }\n",
       "\n",
       "    .dataframe tbody tr th {\n",
       "        vertical-align: top;\n",
       "    }\n",
       "\n",
       "    .dataframe thead th {\n",
       "        text-align: right;\n",
       "    }\n",
       "</style>\n",
       "<table border=\"1\" class=\"dataframe\">\n",
       "  <thead>\n",
       "    <tr style=\"text-align: right;\">\n",
       "      <th></th>\n",
       "      <th>venue</th>\n",
       "      <th>matches</th>\n",
       "    </tr>\n",
       "  </thead>\n",
       "  <tbody>\n",
       "    <tr>\n",
       "      <th>0</th>\n",
       "      <td>Eden Gardens</td>\n",
       "      <td>77</td>\n",
       "    </tr>\n",
       "    <tr>\n",
       "      <th>1</th>\n",
       "      <td>Wankhede Stadium</td>\n",
       "      <td>73</td>\n",
       "    </tr>\n",
       "    <tr>\n",
       "      <th>2</th>\n",
       "      <td>M Chinnaswamy Stadium</td>\n",
       "      <td>73</td>\n",
       "    </tr>\n",
       "    <tr>\n",
       "      <th>3</th>\n",
       "      <td>Feroz Shah Kotla</td>\n",
       "      <td>67</td>\n",
       "    </tr>\n",
       "    <tr>\n",
       "      <th>4</th>\n",
       "      <td>Rajiv Gandhi International Stadium, Uppal</td>\n",
       "      <td>56</td>\n",
       "    </tr>\n",
       "    <tr>\n",
       "      <th>5</th>\n",
       "      <td>MA Chidambaram Stadium, Chepauk</td>\n",
       "      <td>49</td>\n",
       "    </tr>\n",
       "    <tr>\n",
       "      <th>6</th>\n",
       "      <td>Sawai Mansingh Stadium</td>\n",
       "      <td>47</td>\n",
       "    </tr>\n",
       "    <tr>\n",
       "      <th>7</th>\n",
       "      <td>Punjab Cricket Association Stadium, Mohali</td>\n",
       "      <td>35</td>\n",
       "    </tr>\n",
       "    <tr>\n",
       "      <th>8</th>\n",
       "      <td>Maharashtra Cricket Association Stadium</td>\n",
       "      <td>21</td>\n",
       "    </tr>\n",
       "    <tr>\n",
       "      <th>9</th>\n",
       "      <td>Dr DY Patil Sports Academy</td>\n",
       "      <td>17</td>\n",
       "    </tr>\n",
       "    <tr>\n",
       "      <th>10</th>\n",
       "      <td>Subrata Roy Sahara Stadium</td>\n",
       "      <td>17</td>\n",
       "    </tr>\n",
       "    <tr>\n",
       "      <th>11</th>\n",
       "      <td>Kingsmead</td>\n",
       "      <td>15</td>\n",
       "    </tr>\n",
       "    <tr>\n",
       "      <th>12</th>\n",
       "      <td>Punjab Cricket Association IS Bindra Stadium, ...</td>\n",
       "      <td>14</td>\n",
       "    </tr>\n",
       "    <tr>\n",
       "      <th>13</th>\n",
       "      <td>Sardar Patel Stadium, Motera</td>\n",
       "      <td>12</td>\n",
       "    </tr>\n",
       "    <tr>\n",
       "      <th>14</th>\n",
       "      <td>SuperSport Park</td>\n",
       "      <td>12</td>\n",
       "    </tr>\n",
       "    <tr>\n",
       "      <th>15</th>\n",
       "      <td>Brabourne Stadium</td>\n",
       "      <td>11</td>\n",
       "    </tr>\n",
       "    <tr>\n",
       "      <th>16</th>\n",
       "      <td>Dr. Y.S. Rajasekhara Reddy ACA-VDCA Cricket St...</td>\n",
       "      <td>11</td>\n",
       "    </tr>\n",
       "    <tr>\n",
       "      <th>17</th>\n",
       "      <td>Saurashtra Cricket Association Stadium</td>\n",
       "      <td>10</td>\n",
       "    </tr>\n",
       "    <tr>\n",
       "      <th>18</th>\n",
       "      <td>Holkar Cricket Stadium</td>\n",
       "      <td>9</td>\n",
       "    </tr>\n",
       "    <tr>\n",
       "      <th>19</th>\n",
       "      <td>Himachal Pradesh Cricket Association Stadium</td>\n",
       "      <td>9</td>\n",
       "    </tr>\n",
       "    <tr>\n",
       "      <th>20</th>\n",
       "      <td>New Wanderers Stadium</td>\n",
       "      <td>8</td>\n",
       "    </tr>\n",
       "    <tr>\n",
       "      <th>21</th>\n",
       "      <td>M. A. Chidambaram Stadium</td>\n",
       "      <td>8</td>\n",
       "    </tr>\n",
       "    <tr>\n",
       "      <th>22</th>\n",
       "      <td>Rajiv Gandhi Intl. Cricket Stadium</td>\n",
       "      <td>8</td>\n",
       "    </tr>\n",
       "    <tr>\n",
       "      <th>23</th>\n",
       "      <td>Feroz Shah Kotla Ground</td>\n",
       "      <td>7</td>\n",
       "    </tr>\n",
       "    <tr>\n",
       "      <th>24</th>\n",
       "      <td>Dubai International Cricket Stadium</td>\n",
       "      <td>7</td>\n",
       "    </tr>\n",
       "    <tr>\n",
       "      <th>25</th>\n",
       "      <td>Sheikh Zayed Stadium</td>\n",
       "      <td>7</td>\n",
       "    </tr>\n",
       "    <tr>\n",
       "      <th>26</th>\n",
       "      <td>M. Chinnaswamy Stadium</td>\n",
       "      <td>7</td>\n",
       "    </tr>\n",
       "    <tr>\n",
       "      <th>27</th>\n",
       "      <td>IS Bindra Stadium</td>\n",
       "      <td>7</td>\n",
       "    </tr>\n",
       "    <tr>\n",
       "      <th>28</th>\n",
       "      <td>St George's Park</td>\n",
       "      <td>7</td>\n",
       "    </tr>\n",
       "    <tr>\n",
       "      <th>29</th>\n",
       "      <td>Newlands</td>\n",
       "      <td>7</td>\n",
       "    </tr>\n",
       "    <tr>\n",
       "      <th>30</th>\n",
       "      <td>JSCA International Stadium Complex</td>\n",
       "      <td>7</td>\n",
       "    </tr>\n",
       "    <tr>\n",
       "      <th>31</th>\n",
       "      <td>Barabati Stadium</td>\n",
       "      <td>7</td>\n",
       "    </tr>\n",
       "    <tr>\n",
       "      <th>32</th>\n",
       "      <td>Sharjah Cricket Stadium</td>\n",
       "      <td>6</td>\n",
       "    </tr>\n",
       "    <tr>\n",
       "      <th>33</th>\n",
       "      <td>Shaheed Veer Narayan Singh International Stadium</td>\n",
       "      <td>6</td>\n",
       "    </tr>\n",
       "    <tr>\n",
       "      <th>34</th>\n",
       "      <td>Nehru Stadium</td>\n",
       "      <td>5</td>\n",
       "    </tr>\n",
       "    <tr>\n",
       "      <th>35</th>\n",
       "      <td>Green Park</td>\n",
       "      <td>4</td>\n",
       "    </tr>\n",
       "    <tr>\n",
       "      <th>36</th>\n",
       "      <td>De Beers Diamond Oval</td>\n",
       "      <td>3</td>\n",
       "    </tr>\n",
       "    <tr>\n",
       "      <th>37</th>\n",
       "      <td>Buffalo Park</td>\n",
       "      <td>3</td>\n",
       "    </tr>\n",
       "    <tr>\n",
       "      <th>38</th>\n",
       "      <td>Vidarbha Cricket Association Stadium, Jamtha</td>\n",
       "      <td>3</td>\n",
       "    </tr>\n",
       "    <tr>\n",
       "      <th>39</th>\n",
       "      <td>OUTsurance Oval</td>\n",
       "      <td>2</td>\n",
       "    </tr>\n",
       "    <tr>\n",
       "      <th>40</th>\n",
       "      <td>ACA-VDCA Stadium</td>\n",
       "      <td>2</td>\n",
       "    </tr>\n",
       "  </tbody>\n",
       "</table>\n",
       "</div>"
      ],
      "text/plain": [
       "                                                venue matches\n",
       "0                                        Eden Gardens      77\n",
       "1                                    Wankhede Stadium      73\n",
       "2                               M Chinnaswamy Stadium      73\n",
       "3                                    Feroz Shah Kotla      67\n",
       "4           Rajiv Gandhi International Stadium, Uppal      56\n",
       "5                     MA Chidambaram Stadium, Chepauk      49\n",
       "6                              Sawai Mansingh Stadium      47\n",
       "7          Punjab Cricket Association Stadium, Mohali      35\n",
       "8             Maharashtra Cricket Association Stadium      21\n",
       "9                          Dr DY Patil Sports Academy      17\n",
       "10                         Subrata Roy Sahara Stadium      17\n",
       "11                                          Kingsmead      15\n",
       "12  Punjab Cricket Association IS Bindra Stadium, ...      14\n",
       "13                       Sardar Patel Stadium, Motera      12\n",
       "14                                    SuperSport Park      12\n",
       "15                                  Brabourne Stadium      11\n",
       "16  Dr. Y.S. Rajasekhara Reddy ACA-VDCA Cricket St...      11\n",
       "17             Saurashtra Cricket Association Stadium      10\n",
       "18                             Holkar Cricket Stadium       9\n",
       "19       Himachal Pradesh Cricket Association Stadium       9\n",
       "20                              New Wanderers Stadium       8\n",
       "21                          M. A. Chidambaram Stadium       8\n",
       "22                 Rajiv Gandhi Intl. Cricket Stadium       8\n",
       "23                            Feroz Shah Kotla Ground       7\n",
       "24                Dubai International Cricket Stadium       7\n",
       "25                               Sheikh Zayed Stadium       7\n",
       "26                             M. Chinnaswamy Stadium       7\n",
       "27                                  IS Bindra Stadium       7\n",
       "28                                   St George's Park       7\n",
       "29                                           Newlands       7\n",
       "30                 JSCA International Stadium Complex       7\n",
       "31                                   Barabati Stadium       7\n",
       "32                            Sharjah Cricket Stadium       6\n",
       "33   Shaheed Veer Narayan Singh International Stadium       6\n",
       "34                                      Nehru Stadium       5\n",
       "35                                         Green Park       4\n",
       "36                              De Beers Diamond Oval       3\n",
       "37                                       Buffalo Park       3\n",
       "38       Vidarbha Cricket Association Stadium, Jamtha       3\n",
       "39                                    OUTsurance Oval       2\n",
       "40                                   ACA-VDCA Stadium       2"
      ]
     },
     "execution_count": 19,
     "metadata": {},
     "output_type": "execute_result"
    }
   ],
   "source": [
    "venue_df"
   ]
  },
  {
   "cell_type": "markdown",
   "id": "certain-lotus",
   "metadata": {
    "papermill": {
     "duration": 0.065641,
     "end_time": "2021-06-08T10:08:47.672903",
     "exception": false,
     "start_time": "2021-06-08T10:08:47.607262",
     "status": "completed"
    },
    "tags": []
   },
   "source": [
    "# Observations:\n",
    "\n",
    "Eden Gardens has hosted the maximum number of IPL matches followed by Wankhede Stadium and M Chinnaswamy Stadium.\n",
    "\n",
    "Till 2019, IPL matches were hosted by 40 venues."
   ]
  },
  {
   "cell_type": "markdown",
   "id": "alternate-relevance",
   "metadata": {
    "papermill": {
     "duration": 0.064118,
     "end_time": "2021-06-08T10:08:47.802416",
     "exception": false,
     "start_time": "2021-06-08T10:08:47.738298",
     "status": "completed"
    },
    "tags": []
   },
   "source": [
    "# The most successful IPL team\n",
    "\n",
    "In a game of sports, every team competes for victory. Hence, the team that has registered the most number of victories is the most successful."
   ]
  },
  {
   "cell_type": "code",
   "execution_count": 20,
   "id": "wireless-setup",
   "metadata": {
    "execution": {
     "iopub.execute_input": "2021-06-08T10:08:47.957568Z",
     "iopub.status.busy": "2021-06-08T10:08:47.956906Z",
     "iopub.status.idle": "2021-06-08T10:08:47.960147Z",
     "shell.execute_reply": "2021-06-08T10:08:47.959574Z",
     "shell.execute_reply.started": "2021-06-08T10:05:46.832255Z"
    },
    "papermill": {
     "duration": 0.093846,
     "end_time": "2021-06-08T10:08:47.960282",
     "exception": false,
     "start_time": "2021-06-08T10:08:47.866436",
     "status": "completed"
    },
    "tags": []
   },
   "outputs": [],
   "source": [
    "team_wins_ser = matches['winner'].value_counts()\n",
    "\n",
    "team_wins_df = pd.DataFrame(columns=[\"team\", \"wins\"])\n",
    "for items in team_wins_ser.iteritems():\n",
    "    temp_df1 = pd.DataFrame({\n",
    "        'team':[items[0]],\n",
    "        'wins':[items[1]]\n",
    "    })\n",
    "    team_wins_df = team_wins_df.append(temp_df1, ignore_index=True)"
   ]
  },
  {
   "cell_type": "code",
   "execution_count": 21,
   "id": "generic-cannon",
   "metadata": {
    "execution": {
     "iopub.execute_input": "2021-06-08T10:08:48.099755Z",
     "iopub.status.busy": "2021-06-08T10:08:48.098922Z",
     "iopub.status.idle": "2021-06-08T10:08:48.102842Z",
     "shell.execute_reply": "2021-06-08T10:08:48.102433Z",
     "shell.execute_reply.started": "2021-06-08T10:05:46.860742Z"
    },
    "papermill": {
     "duration": 0.077478,
     "end_time": "2021-06-08T10:08:48.102971",
     "exception": false,
     "start_time": "2021-06-08T10:08:48.025493",
     "status": "completed"
    },
    "tags": []
   },
   "outputs": [
    {
     "data": {
      "text/html": [
       "<div>\n",
       "<style scoped>\n",
       "    .dataframe tbody tr th:only-of-type {\n",
       "        vertical-align: middle;\n",
       "    }\n",
       "\n",
       "    .dataframe tbody tr th {\n",
       "        vertical-align: top;\n",
       "    }\n",
       "\n",
       "    .dataframe thead th {\n",
       "        text-align: right;\n",
       "    }\n",
       "</style>\n",
       "<table border=\"1\" class=\"dataframe\">\n",
       "  <thead>\n",
       "    <tr style=\"text-align: right;\">\n",
       "      <th></th>\n",
       "      <th>team</th>\n",
       "      <th>wins</th>\n",
       "    </tr>\n",
       "  </thead>\n",
       "  <tbody>\n",
       "    <tr>\n",
       "      <th>0</th>\n",
       "      <td>MI</td>\n",
       "      <td>109</td>\n",
       "    </tr>\n",
       "    <tr>\n",
       "      <th>1</th>\n",
       "      <td>CSK</td>\n",
       "      <td>100</td>\n",
       "    </tr>\n",
       "    <tr>\n",
       "      <th>2</th>\n",
       "      <td>KKR</td>\n",
       "      <td>92</td>\n",
       "    </tr>\n",
       "    <tr>\n",
       "      <th>3</th>\n",
       "      <td>RCB</td>\n",
       "      <td>84</td>\n",
       "    </tr>\n",
       "    <tr>\n",
       "      <th>4</th>\n",
       "      <td>KXIP</td>\n",
       "      <td>82</td>\n",
       "    </tr>\n",
       "    <tr>\n",
       "      <th>5</th>\n",
       "      <td>DD</td>\n",
       "      <td>77</td>\n",
       "    </tr>\n",
       "    <tr>\n",
       "      <th>6</th>\n",
       "      <td>RR</td>\n",
       "      <td>75</td>\n",
       "    </tr>\n",
       "    <tr>\n",
       "      <th>7</th>\n",
       "      <td>SRH</td>\n",
       "      <td>58</td>\n",
       "    </tr>\n",
       "    <tr>\n",
       "      <th>8</th>\n",
       "      <td>DC</td>\n",
       "      <td>29</td>\n",
       "    </tr>\n",
       "    <tr>\n",
       "      <th>9</th>\n",
       "      <td>RPS</td>\n",
       "      <td>15</td>\n",
       "    </tr>\n",
       "    <tr>\n",
       "      <th>10</th>\n",
       "      <td>GL</td>\n",
       "      <td>13</td>\n",
       "    </tr>\n",
       "    <tr>\n",
       "      <th>11</th>\n",
       "      <td>PW</td>\n",
       "      <td>12</td>\n",
       "    </tr>\n",
       "    <tr>\n",
       "      <th>12</th>\n",
       "      <td>KTK</td>\n",
       "      <td>6</td>\n",
       "    </tr>\n",
       "    <tr>\n",
       "      <th>13</th>\n",
       "      <td>Draw</td>\n",
       "      <td>4</td>\n",
       "    </tr>\n",
       "  </tbody>\n",
       "</table>\n",
       "</div>"
      ],
      "text/plain": [
       "    team wins\n",
       "0     MI  109\n",
       "1    CSK  100\n",
       "2    KKR   92\n",
       "3    RCB   84\n",
       "4   KXIP   82\n",
       "5     DD   77\n",
       "6     RR   75\n",
       "7    SRH   58\n",
       "8     DC   29\n",
       "9    RPS   15\n",
       "10    GL   13\n",
       "11    PW   12\n",
       "12   KTK    6\n",
       "13  Draw    4"
      ]
     },
     "execution_count": 21,
     "metadata": {},
     "output_type": "execute_result"
    }
   ],
   "source": [
    "team_wins_df "
   ]
  },
  {
   "cell_type": "code",
   "execution_count": 22,
   "id": "peaceful-ticket",
   "metadata": {
    "execution": {
     "iopub.execute_input": "2021-06-08T10:08:48.306509Z",
     "iopub.status.busy": "2021-06-08T10:08:48.301529Z",
     "iopub.status.idle": "2021-06-08T10:08:48.502510Z",
     "shell.execute_reply": "2021-06-08T10:08:48.502078Z",
     "shell.execute_reply.started": "2021-06-08T10:05:46.885214Z"
    },
    "papermill": {
     "duration": 0.335088,
     "end_time": "2021-06-08T10:08:48.502652",
     "exception": false,
     "start_time": "2021-06-08T10:08:48.167564",
     "status": "completed"
    },
    "tags": []
   },
   "outputs": [
    {
     "data": {
      "image/png": "[encoded data removed]",
      "text/plain": [
       "<Figure size 1080x1080 with 1 Axes>"
      ]
     },
     "metadata": {
      "needs_background": "light"
     },
     "output_type": "display_data"
    }
   ],
   "source": [
    "plt.title(\"Total Victories of IPL Teams\")\n",
    "sns.barplot(x='wins', y='team', data=team_wins_df, palette='Paired');"
   ]
  },
  {
   "cell_type": "markdown",
   "id": "advance-pregnancy",
   "metadata": {
    "papermill": {
     "duration": 0.064516,
     "end_time": "2021-06-08T10:08:48.631650",
     "exception": false,
     "start_time": "2021-06-08T10:08:48.567134",
     "status": "completed"
    },
    "tags": []
   },
   "source": [
    "# Observations:\n",
    "\n",
    "Mumbai Indians is the most successful team(as they have won the maximum number of IPL matches -109) followed \n",
    "by Chennai Super Kings and Kolkata Knight Riders."
   ]
  },
  {
   "cell_type": "markdown",
   "id": "right-restaurant",
   "metadata": {
    "papermill": {
     "duration": 0.064292,
     "end_time": "2021-06-08T10:08:48.761043",
     "exception": false,
     "start_time": "2021-06-08T10:08:48.696751",
     "status": "completed"
    },
    "tags": []
   },
   "source": [
    "# Most Valuable Player\n",
    "\n",
    "Winning matters the most in a competitive league match. \n",
    "\n",
    "If a player makes the most significant contribution to his team’s victory, then he’s chosen as the player_of_match. \n",
    "\n",
    "The player who has won the player_of_match title on most occasions is the most valuable player.\n"
   ]
  },
  {
   "cell_type": "code",
   "execution_count": 23,
   "id": "biblical-dream",
   "metadata": {
    "execution": {
     "iopub.execute_input": "2021-06-08T10:08:48.912679Z",
     "iopub.status.busy": "2021-06-08T10:08:48.912069Z",
     "iopub.status.idle": "2021-06-08T10:08:48.916840Z",
     "shell.execute_reply": "2021-06-08T10:08:48.916369Z",
     "shell.execute_reply.started": "2021-06-08T10:05:47.111162Z"
    },
    "papermill": {
     "duration": 0.091132,
     "end_time": "2021-06-08T10:08:48.916979",
     "exception": false,
     "start_time": "2021-06-08T10:08:48.825847",
     "status": "completed"
    },
    "tags": []
   },
   "outputs": [],
   "source": [
    "mvp_ser = matches['player_of_match'].value_counts()\n",
    "\n",
    "mvp_ten_df = pd.DataFrame(columns=[\"player\", \"wins\"])\n",
    "count = 0\n",
    "for items in mvp_ser.iteritems():\n",
    "    if count>9:\n",
    "        break\n",
    "    else:\n",
    "        temp_df2 = pd.DataFrame({\n",
    "            'player':[items[0]],\n",
    "            'wins':[items[1]]\n",
    "        })\n",
    "        mvp_ten_df = mvp_ten_df.append(temp_df2, ignore_index=True)\n",
    "        count += 1  "
   ]
  },
  {
   "cell_type": "code",
   "execution_count": 24,
   "id": "mobile-necessity",
   "metadata": {
    "execution": {
     "iopub.execute_input": "2021-06-08T10:08:49.055577Z",
     "iopub.status.busy": "2021-06-08T10:08:49.054881Z",
     "iopub.status.idle": "2021-06-08T10:08:49.058228Z",
     "shell.execute_reply": "2021-06-08T10:08:49.057744Z",
     "shell.execute_reply.started": "2021-06-08T10:05:47.135694Z"
    },
    "papermill": {
     "duration": 0.076538,
     "end_time": "2021-06-08T10:08:49.058361",
     "exception": false,
     "start_time": "2021-06-08T10:08:48.981823",
     "status": "completed"
    },
    "tags": []
   },
   "outputs": [
    {
     "data": {
      "text/html": [
       "<div>\n",
       "<style scoped>\n",
       "    .dataframe tbody tr th:only-of-type {\n",
       "        vertical-align: middle;\n",
       "    }\n",
       "\n",
       "    .dataframe tbody tr th {\n",
       "        vertical-align: top;\n",
       "    }\n",
       "\n",
       "    .dataframe thead th {\n",
       "        text-align: right;\n",
       "    }\n",
       "</style>\n",
       "<table border=\"1\" class=\"dataframe\">\n",
       "  <thead>\n",
       "    <tr style=\"text-align: right;\">\n",
       "      <th></th>\n",
       "      <th>player</th>\n",
       "      <th>wins</th>\n",
       "    </tr>\n",
       "  </thead>\n",
       "  <tbody>\n",
       "    <tr>\n",
       "      <th>0</th>\n",
       "      <td>CH Gayle</td>\n",
       "      <td>21</td>\n",
       "    </tr>\n",
       "    <tr>\n",
       "      <th>1</th>\n",
       "      <td>AB de Villiers</td>\n",
       "      <td>20</td>\n",
       "    </tr>\n",
       "    <tr>\n",
       "      <th>2</th>\n",
       "      <td>MS Dhoni</td>\n",
       "      <td>17</td>\n",
       "    </tr>\n",
       "    <tr>\n",
       "      <th>3</th>\n",
       "      <td>RG Sharma</td>\n",
       "      <td>17</td>\n",
       "    </tr>\n",
       "    <tr>\n",
       "      <th>4</th>\n",
       "      <td>DA Warner</td>\n",
       "      <td>17</td>\n",
       "    </tr>\n",
       "    <tr>\n",
       "      <th>5</th>\n",
       "      <td>YK Pathan</td>\n",
       "      <td>16</td>\n",
       "    </tr>\n",
       "    <tr>\n",
       "      <th>6</th>\n",
       "      <td>SR Watson</td>\n",
       "      <td>15</td>\n",
       "    </tr>\n",
       "    <tr>\n",
       "      <th>7</th>\n",
       "      <td>SK Raina</td>\n",
       "      <td>14</td>\n",
       "    </tr>\n",
       "    <tr>\n",
       "      <th>8</th>\n",
       "      <td>G Gambhir</td>\n",
       "      <td>13</td>\n",
       "    </tr>\n",
       "    <tr>\n",
       "      <th>9</th>\n",
       "      <td>V Kohli</td>\n",
       "      <td>12</td>\n",
       "    </tr>\n",
       "  </tbody>\n",
       "</table>\n",
       "</div>"
      ],
      "text/plain": [
       "           player wins\n",
       "0        CH Gayle   21\n",
       "1  AB de Villiers   20\n",
       "2        MS Dhoni   17\n",
       "3       RG Sharma   17\n",
       "4       DA Warner   17\n",
       "5       YK Pathan   16\n",
       "6       SR Watson   15\n",
       "7        SK Raina   14\n",
       "8       G Gambhir   13\n",
       "9         V Kohli   12"
      ]
     },
     "execution_count": 24,
     "metadata": {},
     "output_type": "execute_result"
    }
   ],
   "source": [
    "mvp_ten_df"
   ]
  },
  {
   "cell_type": "code",
   "execution_count": 25,
   "id": "declared-venture",
   "metadata": {
    "execution": {
     "iopub.execute_input": "2021-06-08T10:08:49.198119Z",
     "iopub.status.busy": "2021-06-08T10:08:49.197459Z",
     "iopub.status.idle": "2021-06-08T10:08:49.409602Z",
     "shell.execute_reply": "2021-06-08T10:08:49.410101Z",
     "shell.execute_reply.started": "2021-06-08T10:05:47.153560Z"
    },
    "papermill": {
     "duration": 0.28689,
     "end_time": "2021-06-08T10:08:49.410283",
     "exception": false,
     "start_time": "2021-06-08T10:08:49.123393",
     "status": "completed"
    },
    "tags": []
   },
   "outputs": [
    {
     "data": {
      "image/png": "[encoded data removed]",
      "text/plain": [
       "<Figure size 1080x1080 with 1 Axes>"
      ]
     },
     "metadata": {
      "needs_background": "light"
     },
     "output_type": "display_data"
    }
   ],
   "source": [
    "plt.title(\"Top Ten IPL Players\")\n",
    "sns.barplot(x='wins', y='player', data=mvp_ten_df, palette='Paired');"
   ]
  },
  {
   "cell_type": "markdown",
   "id": "searching-noise",
   "metadata": {
    "papermill": {
     "duration": 0.066981,
     "end_time": "2021-06-08T10:08:49.547703",
     "exception": false,
     "start_time": "2021-06-08T10:08:49.480722",
     "status": "completed"
    },
    "tags": []
   },
   "source": [
    "# Observations:\n",
    "\n",
    "Cris Gayle is the player who won the most player of the match awards and hence is the most valuable player.\n",
    "\n",
    "Six Indian players have figured in the top ten IPL players list"
   ]
  },
  {
   "cell_type": "markdown",
   "id": "missing-democrat",
   "metadata": {
    "papermill": {
     "duration": 0.066247,
     "end_time": "2021-06-08T10:08:49.679876",
     "exception": false,
     "start_time": "2021-06-08T10:08:49.613629",
     "status": "completed"
    },
    "tags": []
   },
   "source": [
    "# The team that won the most number of toss"
   ]
  },
  {
   "cell_type": "code",
   "execution_count": 26,
   "id": "another-choir",
   "metadata": {
    "execution": {
     "iopub.execute_input": "2021-06-08T10:08:49.814947Z",
     "iopub.status.busy": "2021-06-08T10:08:49.814395Z",
     "iopub.status.idle": "2021-06-08T10:08:49.836514Z",
     "shell.execute_reply": "2021-06-08T10:08:49.836986Z",
     "shell.execute_reply.started": "2021-06-08T10:05:47.377089Z"
    },
    "papermill": {
     "duration": 0.09163,
     "end_time": "2021-06-08T10:08:49.837172",
     "exception": false,
     "start_time": "2021-06-08T10:08:49.745542",
     "status": "completed"
    },
    "tags": []
   },
   "outputs": [],
   "source": [
    " toss_ser = matches['toss_winner'].value_counts()\n",
    "\n",
    "toss_df = pd.DataFrame(columns=[\"team\", \"wins\"])\n",
    "\n",
    "for items in toss_ser.iteritems():\n",
    "    temp_df3 = pd.DataFrame({\n",
    "        'team':[items[0]],\n",
    "        'wins':[items[1]]\n",
    "    })\n",
    "    toss_df = toss_df.append(temp_df3, ignore_index=True) "
   ]
  },
  {
   "cell_type": "code",
   "execution_count": 27,
   "id": "younger-daniel",
   "metadata": {
    "execution": {
     "iopub.execute_input": "2021-06-08T10:08:49.974609Z",
     "iopub.status.busy": "2021-06-08T10:08:49.973824Z",
     "iopub.status.idle": "2021-06-08T10:08:49.982673Z",
     "shell.execute_reply": "2021-06-08T10:08:49.982237Z",
     "shell.execute_reply.started": "2021-06-08T10:05:47.403418Z"
    },
    "papermill": {
     "duration": 0.079137,
     "end_time": "2021-06-08T10:08:49.982807",
     "exception": false,
     "start_time": "2021-06-08T10:08:49.903670",
     "status": "completed"
    },
    "tags": []
   },
   "outputs": [
    {
     "data": {
      "text/html": [
       "<div>\n",
       "<style scoped>\n",
       "    .dataframe tbody tr th:only-of-type {\n",
       "        vertical-align: middle;\n",
       "    }\n",
       "\n",
       "    .dataframe tbody tr th {\n",
       "        vertical-align: top;\n",
       "    }\n",
       "\n",
       "    .dataframe thead th {\n",
       "        text-align: right;\n",
       "    }\n",
       "</style>\n",
       "<table border=\"1\" class=\"dataframe\">\n",
       "  <thead>\n",
       "    <tr style=\"text-align: right;\">\n",
       "      <th></th>\n",
       "      <th>team</th>\n",
       "      <th>wins</th>\n",
       "    </tr>\n",
       "  </thead>\n",
       "  <tbody>\n",
       "    <tr>\n",
       "      <th>0</th>\n",
       "      <td>MI</td>\n",
       "      <td>98</td>\n",
       "    </tr>\n",
       "    <tr>\n",
       "      <th>1</th>\n",
       "      <td>KKR</td>\n",
       "      <td>92</td>\n",
       "    </tr>\n",
       "    <tr>\n",
       "      <th>2</th>\n",
       "      <td>DD</td>\n",
       "      <td>90</td>\n",
       "    </tr>\n",
       "    <tr>\n",
       "      <th>3</th>\n",
       "      <td>CSK</td>\n",
       "      <td>89</td>\n",
       "    </tr>\n",
       "    <tr>\n",
       "      <th>4</th>\n",
       "      <td>RCB</td>\n",
       "      <td>81</td>\n",
       "    </tr>\n",
       "    <tr>\n",
       "      <th>5</th>\n",
       "      <td>KXIP</td>\n",
       "      <td>81</td>\n",
       "    </tr>\n",
       "    <tr>\n",
       "      <th>6</th>\n",
       "      <td>RR</td>\n",
       "      <td>80</td>\n",
       "    </tr>\n",
       "    <tr>\n",
       "      <th>7</th>\n",
       "      <td>SRH</td>\n",
       "      <td>46</td>\n",
       "    </tr>\n",
       "    <tr>\n",
       "      <th>8</th>\n",
       "      <td>DC</td>\n",
       "      <td>43</td>\n",
       "    </tr>\n",
       "    <tr>\n",
       "      <th>9</th>\n",
       "      <td>PW</td>\n",
       "      <td>20</td>\n",
       "    </tr>\n",
       "    <tr>\n",
       "      <th>10</th>\n",
       "      <td>GL</td>\n",
       "      <td>15</td>\n",
       "    </tr>\n",
       "    <tr>\n",
       "      <th>11</th>\n",
       "      <td>RPS</td>\n",
       "      <td>13</td>\n",
       "    </tr>\n",
       "    <tr>\n",
       "      <th>12</th>\n",
       "      <td>KTK</td>\n",
       "      <td>8</td>\n",
       "    </tr>\n",
       "  </tbody>\n",
       "</table>\n",
       "</div>"
      ],
      "text/plain": [
       "    team wins\n",
       "0     MI   98\n",
       "1    KKR   92\n",
       "2     DD   90\n",
       "3    CSK   89\n",
       "4    RCB   81\n",
       "5   KXIP   81\n",
       "6     RR   80\n",
       "7    SRH   46\n",
       "8     DC   43\n",
       "9     PW   20\n",
       "10    GL   15\n",
       "11   RPS   13\n",
       "12   KTK    8"
      ]
     },
     "execution_count": 27,
     "metadata": {},
     "output_type": "execute_result"
    }
   ],
   "source": [
    "toss_df"
   ]
  },
  {
   "cell_type": "code",
   "execution_count": 28,
   "id": "dutch-worthy",
   "metadata": {
    "execution": {
     "iopub.execute_input": "2021-06-08T10:08:50.124616Z",
     "iopub.status.busy": "2021-06-08T10:08:50.123946Z",
     "iopub.status.idle": "2021-06-08T10:08:50.335301Z",
     "shell.execute_reply": "2021-06-08T10:08:50.335766Z",
     "shell.execute_reply.started": "2021-06-08T10:05:47.421395Z"
    },
    "papermill": {
     "duration": 0.284814,
     "end_time": "2021-06-08T10:08:50.335935",
     "exception": false,
     "start_time": "2021-06-08T10:08:50.051121",
     "status": "completed"
    },
    "tags": []
   },
   "outputs": [
    {
     "data": {
      "image/png": "[encoded data removed]",
      "text/plain": [
       "<Figure size 1080x1080 with 1 Axes>"
      ]
     },
     "metadata": {
      "needs_background": "light"
     },
     "output_type": "display_data"
    }
   ],
   "source": [
    "plt.title(\"How IPL Teams fared in toss?\")\n",
    "sns.barplot(x='wins', y='team', data=toss_df, palette='Paired');"
   ]
  },
  {
   "cell_type": "markdown",
   "id": "norwegian-drive",
   "metadata": {
    "papermill": {
     "duration": 0.067217,
     "end_time": "2021-06-08T10:08:50.470004",
     "exception": false,
     "start_time": "2021-06-08T10:08:50.402787",
     "status": "completed"
    },
    "tags": []
   },
   "source": [
    "# Observations:\n",
    "\n",
    "Mumbai Indians has won the most toss(till 2019) in IPL history.\n",
    "\n",
    "All the top teams in IPL are successful in winning the toss as well."
   ]
  },
  {
   "cell_type": "code",
   "execution_count": 29,
   "id": "occasional-cooper",
   "metadata": {
    "execution": {
     "iopub.execute_input": "2021-06-08T10:08:50.608192Z",
     "iopub.status.busy": "2021-06-08T10:08:50.607608Z",
     "iopub.status.idle": "2021-06-08T10:08:50.618952Z",
     "shell.execute_reply": "2021-06-08T10:08:50.618468Z",
     "shell.execute_reply.started": "2021-06-08T10:05:47.647702Z"
    },
    "papermill": {
     "duration": 0.081658,
     "end_time": "2021-06-08T10:08:50.619100",
     "exception": false,
     "start_time": "2021-06-08T10:08:50.537442",
     "status": "completed"
    },
    "tags": []
   },
   "outputs": [
    {
     "data": {
      "text/html": [
       "<div>\n",
       "<style scoped>\n",
       "    .dataframe tbody tr th:only-of-type {\n",
       "        vertical-align: middle;\n",
       "    }\n",
       "\n",
       "    .dataframe tbody tr th {\n",
       "        vertical-align: top;\n",
       "    }\n",
       "\n",
       "    .dataframe thead th {\n",
       "        text-align: right;\n",
       "    }\n",
       "</style>\n",
       "<table border=\"1\" class=\"dataframe\">\n",
       "  <thead>\n",
       "    <tr style=\"text-align: right;\">\n",
       "      <th></th>\n",
       "      <th>id</th>\n",
       "      <th>season</th>\n",
       "      <th>dl_applied</th>\n",
       "      <th>win_by_runs</th>\n",
       "      <th>win_by_wickets</th>\n",
       "    </tr>\n",
       "  </thead>\n",
       "  <tbody>\n",
       "    <tr>\n",
       "      <th>id</th>\n",
       "      <td>1.000000</td>\n",
       "      <td>0.668304</td>\n",
       "      <td>-0.011658</td>\n",
       "      <td>-0.039403</td>\n",
       "      <td>-0.012239</td>\n",
       "    </tr>\n",
       "    <tr>\n",
       "      <th>season</th>\n",
       "      <td>0.668304</td>\n",
       "      <td>1.000000</td>\n",
       "      <td>-0.001116</td>\n",
       "      <td>-0.037529</td>\n",
       "      <td>-0.009379</td>\n",
       "    </tr>\n",
       "    <tr>\n",
       "      <th>dl_applied</th>\n",
       "      <td>-0.011658</td>\n",
       "      <td>-0.001116</td>\n",
       "      <td>1.000000</td>\n",
       "      <td>-0.016349</td>\n",
       "      <td>-0.011631</td>\n",
       "    </tr>\n",
       "    <tr>\n",
       "      <th>win_by_runs</th>\n",
       "      <td>-0.039403</td>\n",
       "      <td>-0.037529</td>\n",
       "      <td>-0.016349</td>\n",
       "      <td>1.000000</td>\n",
       "      <td>-0.560420</td>\n",
       "    </tr>\n",
       "    <tr>\n",
       "      <th>win_by_wickets</th>\n",
       "      <td>-0.012239</td>\n",
       "      <td>-0.009379</td>\n",
       "      <td>-0.011631</td>\n",
       "      <td>-0.560420</td>\n",
       "      <td>1.000000</td>\n",
       "    </tr>\n",
       "  </tbody>\n",
       "</table>\n",
       "</div>"
      ],
      "text/plain": [
       "                      id    season  dl_applied  win_by_runs  win_by_wickets\n",
       "id              1.000000  0.668304   -0.011658    -0.039403       -0.012239\n",
       "season          0.668304  1.000000   -0.001116    -0.037529       -0.009379\n",
       "dl_applied     -0.011658 -0.001116    1.000000    -0.016349       -0.011631\n",
       "win_by_runs    -0.039403 -0.037529   -0.016349     1.000000       -0.560420\n",
       "win_by_wickets -0.012239 -0.009379   -0.011631    -0.560420        1.000000"
      ]
     },
     "execution_count": 29,
     "metadata": {},
     "output_type": "execute_result"
    }
   ],
   "source": [
    "\n",
    "#Finding Co-relations among attributes\n",
    "corrMatrix=matches.corr()\n",
    "corrMatrix"
   ]
  },
  {
   "cell_type": "code",
   "execution_count": 30,
   "id": "revised-preserve",
   "metadata": {
    "execution": {
     "iopub.execute_input": "2021-06-08T10:08:50.773437Z",
     "iopub.status.busy": "2021-06-08T10:08:50.772787Z",
     "iopub.status.idle": "2021-06-08T10:08:51.038165Z",
     "shell.execute_reply": "2021-06-08T10:08:51.038660Z",
     "shell.execute_reply.started": "2021-06-08T10:05:47.668995Z"
    },
    "papermill": {
     "duration": 0.352002,
     "end_time": "2021-06-08T10:08:51.038826",
     "exception": false,
     "start_time": "2021-06-08T10:08:50.686824",
     "status": "completed"
    },
    "tags": []
   },
   "outputs": [
    {
     "data": {
      "image/png": "[encoded data removed]",
      "text/plain": [
       "<Figure size 1080x1080 with 2 Axes>"
      ]
     },
     "metadata": {
      "needs_background": "light"
     },
     "output_type": "display_data"
    }
   ],
   "source": [
    "sns.heatmap(corrMatrix, vmax = .9, square = True)\n",
    "plt.show()"
   ]
  },
  {
   "cell_type": "code",
   "execution_count": 31,
   "id": "caroline-hayes",
   "metadata": {
    "execution": {
     "iopub.execute_input": "2021-06-08T10:08:51.182455Z",
     "iopub.status.busy": "2021-06-08T10:08:51.181782Z",
     "iopub.status.idle": "2021-06-08T10:08:51.193981Z",
     "shell.execute_reply": "2021-06-08T10:08:51.194481Z",
     "shell.execute_reply.started": "2021-06-08T10:05:48.065839Z"
    },
    "papermill": {
     "duration": 0.084523,
     "end_time": "2021-06-08T10:08:51.194662",
     "exception": false,
     "start_time": "2021-06-08T10:08:51.110139",
     "status": "completed"
    },
    "tags": []
   },
   "outputs": [
    {
     "data": {
      "text/plain": [
       "id                 0\n",
       "season             0\n",
       "city               0\n",
       "date               0\n",
       "team1              0\n",
       "team2              0\n",
       "toss_winner        0\n",
       "toss_decision      0\n",
       "result             0\n",
       "dl_applied         0\n",
       "winner             0\n",
       "win_by_runs        0\n",
       "win_by_wickets     0\n",
       "player_of_match    4\n",
       "venue              0\n",
       "umpire1            2\n",
       "umpire2            2\n",
       "dtype: int64"
      ]
     },
     "execution_count": 31,
     "metadata": {},
     "output_type": "execute_result"
    }
   ],
   "source": [
    "\n",
    "#Checking for null values\n",
    "matches.apply(lambda x: sum(x.isnull()),axis=0)"
   ]
  },
  {
   "cell_type": "code",
   "execution_count": 32,
   "id": "early-bookmark",
   "metadata": {
    "execution": {
     "iopub.execute_input": "2021-06-08T10:08:51.346407Z",
     "iopub.status.busy": "2021-06-08T10:08:51.345723Z",
     "iopub.status.idle": "2021-06-08T10:08:51.359697Z",
     "shell.execute_reply": "2021-06-08T10:08:51.359199Z",
     "shell.execute_reply.started": "2021-06-08T10:05:48.081208Z"
    },
    "papermill": {
     "duration": 0.09446,
     "end_time": "2021-06-08T10:08:51.359824",
     "exception": false,
     "start_time": "2021-06-08T10:08:51.265364",
     "status": "completed"
    },
    "tags": []
   },
   "outputs": [],
   "source": [
    "matches.replace(['Bangalore','Chandigarh','Delhi','Mumbai','Kolkata','Jaipur','Hyderabad','Chennai','Cape Town',\n",
    "                 'Port Elizabeth','Durban','Centurion','East London','Johannesburg','Kimberley','Bloemfontein','Ahmedabad',\n",
    "                 'Cuttack','Nagpur','Dharamsala','Kochi','Indore','Visakhapatnam','Pune','Raipur','Ranchi','Abu Dhabi','Sharjah',\n",
    "                 'Dubai','Rajkot','Kanpur','Mohali','Bengaluru'],[1, 2, 3, 4, 5, 6, 7, 8, 9, 10, 11, 12, 13, 14, 15, 16, 17, 18, 19\n",
    "                                                                  , 20, 21, 22, 23, 24, 25, 26, 27, 28, 29, 30, 31, 32, 33],inplace=True)"
   ]
  },
  {
   "cell_type": "code",
   "execution_count": 33,
   "id": "statistical-wednesday",
   "metadata": {
    "execution": {
     "iopub.execute_input": "2021-06-08T10:08:51.510459Z",
     "iopub.status.busy": "2021-06-08T10:08:51.509832Z",
     "iopub.status.idle": "2021-06-08T10:08:51.512432Z",
     "shell.execute_reply": "2021-06-08T10:08:51.511992Z",
     "shell.execute_reply.started": "2021-06-08T10:05:48.105487Z"
    },
    "papermill": {
     "duration": 0.082247,
     "end_time": "2021-06-08T10:08:51.512565",
     "exception": false,
     "start_time": "2021-06-08T10:08:51.430318",
     "status": "completed"
    },
    "tags": []
   },
   "outputs": [],
   "source": [
    "matches.drop(columns=['umpire1','umpire2'], inplace =True)"
   ]
  },
  {
   "cell_type": "code",
   "execution_count": 34,
   "id": "terminal-mentor",
   "metadata": {
    "execution": {
     "iopub.execute_input": "2021-06-08T10:08:51.663517Z",
     "iopub.status.busy": "2021-06-08T10:08:51.662665Z",
     "iopub.status.idle": "2021-06-08T10:08:51.664585Z",
     "shell.execute_reply": "2021-06-08T10:08:51.665095Z",
     "shell.execute_reply.started": "2021-06-08T10:05:48.113179Z"
    },
    "papermill": {
     "duration": 0.08164,
     "end_time": "2021-06-08T10:08:51.665271",
     "exception": false,
     "start_time": "2021-06-08T10:08:51.583631",
     "status": "completed"
    },
    "tags": []
   },
   "outputs": [],
   "source": [
    "matches.drop(columns=['player_of_match'], inplace =True)\n"
   ]
  },
  {
   "cell_type": "code",
   "execution_count": 35,
   "id": "binary-rating",
   "metadata": {
    "execution": {
     "iopub.execute_input": "2021-06-08T10:08:51.814101Z",
     "iopub.status.busy": "2021-06-08T10:08:51.813399Z",
     "iopub.status.idle": "2021-06-08T10:08:51.828103Z",
     "shell.execute_reply": "2021-06-08T10:08:51.827469Z",
     "shell.execute_reply.started": "2021-06-08T10:05:48.127239Z"
    },
    "papermill": {
     "duration": 0.091528,
     "end_time": "2021-06-08T10:08:51.828240",
     "exception": false,
     "start_time": "2021-06-08T10:08:51.736712",
     "status": "completed"
    },
    "tags": []
   },
   "outputs": [
    {
     "data": {
      "text/html": [
       "<div>\n",
       "<style scoped>\n",
       "    .dataframe tbody tr th:only-of-type {\n",
       "        vertical-align: middle;\n",
       "    }\n",
       "\n",
       "    .dataframe tbody tr th {\n",
       "        vertical-align: top;\n",
       "    }\n",
       "\n",
       "    .dataframe thead th {\n",
       "        text-align: right;\n",
       "    }\n",
       "</style>\n",
       "<table border=\"1\" class=\"dataframe\">\n",
       "  <thead>\n",
       "    <tr style=\"text-align: right;\">\n",
       "      <th></th>\n",
       "      <th>id</th>\n",
       "      <th>season</th>\n",
       "      <th>city</th>\n",
       "      <th>date</th>\n",
       "      <th>team1</th>\n",
       "      <th>team2</th>\n",
       "      <th>toss_winner</th>\n",
       "      <th>toss_decision</th>\n",
       "      <th>result</th>\n",
       "      <th>dl_applied</th>\n",
       "      <th>winner</th>\n",
       "      <th>win_by_runs</th>\n",
       "      <th>win_by_wickets</th>\n",
       "      <th>venue</th>\n",
       "    </tr>\n",
       "  </thead>\n",
       "  <tbody>\n",
       "    <tr>\n",
       "      <th>0</th>\n",
       "      <td>60</td>\n",
       "      <td>2008</td>\n",
       "      <td>1</td>\n",
       "      <td>18-04-2008</td>\n",
       "      <td>KKR</td>\n",
       "      <td>RCB</td>\n",
       "      <td>RCB</td>\n",
       "      <td>field</td>\n",
       "      <td>normal</td>\n",
       "      <td>0</td>\n",
       "      <td>KKR</td>\n",
       "      <td>140</td>\n",
       "      <td>0</td>\n",
       "      <td>M Chinnaswamy Stadium</td>\n",
       "    </tr>\n",
       "    <tr>\n",
       "      <th>1</th>\n",
       "      <td>61</td>\n",
       "      <td>2008</td>\n",
       "      <td>2</td>\n",
       "      <td>19-04-2008</td>\n",
       "      <td>CSK</td>\n",
       "      <td>KXIP</td>\n",
       "      <td>CSK</td>\n",
       "      <td>bat</td>\n",
       "      <td>normal</td>\n",
       "      <td>0</td>\n",
       "      <td>CSK</td>\n",
       "      <td>33</td>\n",
       "      <td>0</td>\n",
       "      <td>Punjab Cricket Association Stadium, Mohali</td>\n",
       "    </tr>\n",
       "    <tr>\n",
       "      <th>2</th>\n",
       "      <td>62</td>\n",
       "      <td>2008</td>\n",
       "      <td>3</td>\n",
       "      <td>19-04-2008</td>\n",
       "      <td>RR</td>\n",
       "      <td>DD</td>\n",
       "      <td>RR</td>\n",
       "      <td>bat</td>\n",
       "      <td>normal</td>\n",
       "      <td>0</td>\n",
       "      <td>DD</td>\n",
       "      <td>0</td>\n",
       "      <td>9</td>\n",
       "      <td>Feroz Shah Kotla</td>\n",
       "    </tr>\n",
       "    <tr>\n",
       "      <th>3</th>\n",
       "      <td>63</td>\n",
       "      <td>2008</td>\n",
       "      <td>4</td>\n",
       "      <td>20-04-2008</td>\n",
       "      <td>MI</td>\n",
       "      <td>RCB</td>\n",
       "      <td>MI</td>\n",
       "      <td>bat</td>\n",
       "      <td>normal</td>\n",
       "      <td>0</td>\n",
       "      <td>RCB</td>\n",
       "      <td>0</td>\n",
       "      <td>5</td>\n",
       "      <td>Wankhede Stadium</td>\n",
       "    </tr>\n",
       "    <tr>\n",
       "      <th>4</th>\n",
       "      <td>64</td>\n",
       "      <td>2008</td>\n",
       "      <td>5</td>\n",
       "      <td>20-04-2008</td>\n",
       "      <td>DC</td>\n",
       "      <td>KKR</td>\n",
       "      <td>DC</td>\n",
       "      <td>bat</td>\n",
       "      <td>normal</td>\n",
       "      <td>0</td>\n",
       "      <td>KKR</td>\n",
       "      <td>0</td>\n",
       "      <td>5</td>\n",
       "      <td>Eden Gardens</td>\n",
       "    </tr>\n",
       "  </tbody>\n",
       "</table>\n",
       "</div>"
      ],
      "text/plain": [
       "   id  season  city        date team1 team2 toss_winner toss_decision  result  \\\n",
       "0  60    2008     1  18-04-2008   KKR   RCB         RCB         field  normal   \n",
       "1  61    2008     2  19-04-2008   CSK  KXIP         CSK           bat  normal   \n",
       "2  62    2008     3  19-04-2008    RR    DD          RR           bat  normal   \n",
       "3  63    2008     4  20-04-2008    MI   RCB          MI           bat  normal   \n",
       "4  64    2008     5  20-04-2008    DC   KKR          DC           bat  normal   \n",
       "\n",
       "   dl_applied winner  win_by_runs  win_by_wickets  \\\n",
       "0           0    KKR          140               0   \n",
       "1           0    CSK           33               0   \n",
       "2           0     DD            0               9   \n",
       "3           0    RCB            0               5   \n",
       "4           0    KKR            0               5   \n",
       "\n",
       "                                        venue  \n",
       "0                       M Chinnaswamy Stadium  \n",
       "1  Punjab Cricket Association Stadium, Mohali  \n",
       "2                            Feroz Shah Kotla  \n",
       "3                            Wankhede Stadium  \n",
       "4                                Eden Gardens  "
      ]
     },
     "execution_count": 35,
     "metadata": {},
     "output_type": "execute_result"
    }
   ],
   "source": [
    "matches.head()\n"
   ]
  },
  {
   "cell_type": "code",
   "execution_count": 36,
   "id": "bacterial-genius",
   "metadata": {
    "execution": {
     "iopub.execute_input": "2021-06-08T10:08:51.973761Z",
     "iopub.status.busy": "2021-06-08T10:08:51.972850Z",
     "iopub.status.idle": "2021-06-08T10:08:51.980493Z",
     "shell.execute_reply": "2021-06-08T10:08:51.981004Z",
     "shell.execute_reply.started": "2021-06-08T10:05:48.149868Z"
    },
    "papermill": {
     "duration": 0.081657,
     "end_time": "2021-06-08T10:08:51.981191",
     "exception": false,
     "start_time": "2021-06-08T10:08:51.899534",
     "status": "completed"
    },
    "tags": []
   },
   "outputs": [
    {
     "data": {
      "text/plain": [
       "id                0\n",
       "season            0\n",
       "city              0\n",
       "date              0\n",
       "team1             0\n",
       "team2             0\n",
       "toss_winner       0\n",
       "toss_decision     0\n",
       "result            0\n",
       "dl_applied        0\n",
       "winner            0\n",
       "win_by_runs       0\n",
       "win_by_wickets    0\n",
       "venue             0\n",
       "dtype: int64"
      ]
     },
     "execution_count": 36,
     "metadata": {},
     "output_type": "execute_result"
    }
   ],
   "source": [
    "matches.isnull().sum()"
   ]
  },
  {
   "cell_type": "code",
   "execution_count": 37,
   "id": "greater-heaven",
   "metadata": {
    "execution": {
     "iopub.execute_input": "2021-06-08T10:08:52.133153Z",
     "iopub.status.busy": "2021-06-08T10:08:52.132171Z",
     "iopub.status.idle": "2021-06-08T10:08:52.150325Z",
     "shell.execute_reply": "2021-06-08T10:08:52.149846Z",
     "shell.execute_reply.started": "2021-06-08T10:05:48.166049Z"
    },
    "papermill": {
     "duration": 0.095694,
     "end_time": "2021-06-08T10:08:52.150463",
     "exception": false,
     "start_time": "2021-06-08T10:08:52.054769",
     "status": "completed"
    },
    "tags": []
   },
   "outputs": [
    {
     "data": {
      "text/html": [
       "<div>\n",
       "<style scoped>\n",
       "    .dataframe tbody tr th:only-of-type {\n",
       "        vertical-align: middle;\n",
       "    }\n",
       "\n",
       "    .dataframe tbody tr th {\n",
       "        vertical-align: top;\n",
       "    }\n",
       "\n",
       "    .dataframe thead th {\n",
       "        text-align: right;\n",
       "    }\n",
       "</style>\n",
       "<table border=\"1\" class=\"dataframe\">\n",
       "  <thead>\n",
       "    <tr style=\"text-align: right;\">\n",
       "      <th></th>\n",
       "      <th>team1</th>\n",
       "      <th>team2</th>\n",
       "      <th>city</th>\n",
       "      <th>toss_decision</th>\n",
       "      <th>toss_winner</th>\n",
       "      <th>venue</th>\n",
       "      <th>winner</th>\n",
       "    </tr>\n",
       "  </thead>\n",
       "  <tbody>\n",
       "    <tr>\n",
       "      <th>0</th>\n",
       "      <td>KKR</td>\n",
       "      <td>RCB</td>\n",
       "      <td>1</td>\n",
       "      <td>field</td>\n",
       "      <td>RCB</td>\n",
       "      <td>M Chinnaswamy Stadium</td>\n",
       "      <td>KKR</td>\n",
       "    </tr>\n",
       "    <tr>\n",
       "      <th>1</th>\n",
       "      <td>CSK</td>\n",
       "      <td>KXIP</td>\n",
       "      <td>2</td>\n",
       "      <td>bat</td>\n",
       "      <td>CSK</td>\n",
       "      <td>Punjab Cricket Association Stadium, Mohali</td>\n",
       "      <td>CSK</td>\n",
       "    </tr>\n",
       "  </tbody>\n",
       "</table>\n",
       "</div>"
      ],
      "text/plain": [
       "  team1 team2  city toss_decision toss_winner  \\\n",
       "0   KKR   RCB     1         field         RCB   \n",
       "1   CSK  KXIP     2           bat         CSK   \n",
       "\n",
       "                                        venue winner  \n",
       "0                       M Chinnaswamy Stadium    KKR  \n",
       "1  Punjab Cricket Association Stadium, Mohali    CSK  "
      ]
     },
     "execution_count": 37,
     "metadata": {},
     "output_type": "execute_result"
    }
   ],
   "source": [
    "matches = matches[['team1','team2','city','toss_decision','toss_winner','venue','winner']]\n",
    "matches.head(2)"
   ]
  },
  {
   "cell_type": "code",
   "execution_count": 38,
   "id": "congressional-senate",
   "metadata": {
    "execution": {
     "iopub.execute_input": "2021-06-08T10:08:52.310257Z",
     "iopub.status.busy": "2021-06-08T10:08:52.309395Z",
     "iopub.status.idle": "2021-06-08T10:08:52.313409Z",
     "shell.execute_reply": "2021-06-08T10:08:52.312937Z",
     "shell.execute_reply.started": "2021-06-08T10:05:48.182996Z"
    },
    "papermill": {
     "duration": 0.087747,
     "end_time": "2021-06-08T10:08:52.313542",
     "exception": false,
     "start_time": "2021-06-08T10:08:52.225795",
     "status": "completed"
    },
    "tags": []
   },
   "outputs": [
    {
     "data": {
      "text/html": [
       "<div>\n",
       "<style scoped>\n",
       "    .dataframe tbody tr th:only-of-type {\n",
       "        vertical-align: middle;\n",
       "    }\n",
       "\n",
       "    .dataframe tbody tr th {\n",
       "        vertical-align: top;\n",
       "    }\n",
       "\n",
       "    .dataframe thead th {\n",
       "        text-align: right;\n",
       "    }\n",
       "</style>\n",
       "<table border=\"1\" class=\"dataframe\">\n",
       "  <thead>\n",
       "    <tr style=\"text-align: right;\">\n",
       "      <th></th>\n",
       "      <th>team1</th>\n",
       "      <th>team2</th>\n",
       "      <th>city</th>\n",
       "      <th>toss_decision</th>\n",
       "      <th>toss_winner</th>\n",
       "      <th>venue</th>\n",
       "      <th>winner</th>\n",
       "    </tr>\n",
       "  </thead>\n",
       "  <tbody>\n",
       "    <tr>\n",
       "      <th>0</th>\n",
       "      <td>KKR</td>\n",
       "      <td>RCB</td>\n",
       "      <td>1</td>\n",
       "      <td>field</td>\n",
       "      <td>RCB</td>\n",
       "      <td>M Chinnaswamy Stadium</td>\n",
       "      <td>1</td>\n",
       "    </tr>\n",
       "    <tr>\n",
       "      <th>1</th>\n",
       "      <td>CSK</td>\n",
       "      <td>KXIP</td>\n",
       "      <td>2</td>\n",
       "      <td>bat</td>\n",
       "      <td>CSK</td>\n",
       "      <td>Punjab Cricket Association Stadium, Mohali</td>\n",
       "      <td>1</td>\n",
       "    </tr>\n",
       "  </tbody>\n",
       "</table>\n",
       "</div>"
      ],
      "text/plain": [
       "  team1 team2  city toss_decision toss_winner  \\\n",
       "0   KKR   RCB     1         field         RCB   \n",
       "1   CSK  KXIP     2           bat         CSK   \n",
       "\n",
       "                                        venue  winner  \n",
       "0                       M Chinnaswamy Stadium       1  \n",
       "1  Punjab Cricket Association Stadium, Mohali       1  "
      ]
     },
     "execution_count": 38,
     "metadata": {},
     "output_type": "execute_result"
    }
   ],
   "source": [
    "matches[\"winner\"] = np.where(matches[\"winner\"] == matches[\"team1\"], 1, 0)\n",
    "matches.head(2)"
   ]
  },
  {
   "cell_type": "code",
   "execution_count": 39,
   "id": "alone-wrist",
   "metadata": {
    "execution": {
     "iopub.execute_input": "2021-06-08T10:08:52.459993Z",
     "iopub.status.busy": "2021-06-08T10:08:52.459062Z",
     "iopub.status.idle": "2021-06-08T10:08:52.472536Z",
     "shell.execute_reply": "2021-06-08T10:08:52.473081Z",
     "shell.execute_reply.started": "2021-06-08T10:05:48.201591Z"
    },
    "papermill": {
     "duration": 0.089186,
     "end_time": "2021-06-08T10:08:52.473251",
     "exception": false,
     "start_time": "2021-06-08T10:08:52.384065",
     "status": "completed"
    },
    "tags": []
   },
   "outputs": [
    {
     "data": {
      "text/html": [
       "<div>\n",
       "<style scoped>\n",
       "    .dataframe tbody tr th:only-of-type {\n",
       "        vertical-align: middle;\n",
       "    }\n",
       "\n",
       "    .dataframe tbody tr th {\n",
       "        vertical-align: top;\n",
       "    }\n",
       "\n",
       "    .dataframe thead th {\n",
       "        text-align: right;\n",
       "    }\n",
       "</style>\n",
       "<table border=\"1\" class=\"dataframe\">\n",
       "  <thead>\n",
       "    <tr style=\"text-align: right;\">\n",
       "      <th></th>\n",
       "      <th>team1</th>\n",
       "      <th>team2</th>\n",
       "      <th>city</th>\n",
       "      <th>toss_decision</th>\n",
       "      <th>toss_winner</th>\n",
       "      <th>venue</th>\n",
       "      <th>winner</th>\n",
       "    </tr>\n",
       "  </thead>\n",
       "  <tbody>\n",
       "    <tr>\n",
       "      <th>0</th>\n",
       "      <td>KKR</td>\n",
       "      <td>RCB</td>\n",
       "      <td>1</td>\n",
       "      <td>0</td>\n",
       "      <td>RCB</td>\n",
       "      <td>M Chinnaswamy Stadium</td>\n",
       "      <td>1</td>\n",
       "    </tr>\n",
       "    <tr>\n",
       "      <th>1</th>\n",
       "      <td>CSK</td>\n",
       "      <td>KXIP</td>\n",
       "      <td>2</td>\n",
       "      <td>1</td>\n",
       "      <td>CSK</td>\n",
       "      <td>Punjab Cricket Association Stadium, Mohali</td>\n",
       "      <td>1</td>\n",
       "    </tr>\n",
       "  </tbody>\n",
       "</table>\n",
       "</div>"
      ],
      "text/plain": [
       "  team1 team2  city  toss_decision toss_winner  \\\n",
       "0   KKR   RCB     1              0         RCB   \n",
       "1   CSK  KXIP     2              1         CSK   \n",
       "\n",
       "                                        venue  winner  \n",
       "0                       M Chinnaswamy Stadium       1  \n",
       "1  Punjab Cricket Association Stadium, Mohali       1  "
      ]
     },
     "execution_count": 39,
     "metadata": {},
     "output_type": "execute_result"
    }
   ],
   "source": [
    "matches['toss_decision'] = matches['toss_decision'].map({'field':0,'bat':1})\n",
    "matches.head(2)"
   ]
  },
  {
   "cell_type": "code",
   "execution_count": 40,
   "id": "regulation-bernard",
   "metadata": {
    "execution": {
     "iopub.execute_input": "2021-06-08T10:08:52.626897Z",
     "iopub.status.busy": "2021-06-08T10:08:52.625877Z",
     "iopub.status.idle": "2021-06-08T10:08:52.644398Z",
     "shell.execute_reply": "2021-06-08T10:08:52.643922Z",
     "shell.execute_reply.started": "2021-06-08T10:05:48.214178Z"
    },
    "papermill": {
     "duration": 0.096419,
     "end_time": "2021-06-08T10:08:52.644543",
     "exception": false,
     "start_time": "2021-06-08T10:08:52.548124",
     "status": "completed"
    },
    "tags": []
   },
   "outputs": [
    {
     "data": {
      "text/html": [
       "<div>\n",
       "<style scoped>\n",
       "    .dataframe tbody tr th:only-of-type {\n",
       "        vertical-align: middle;\n",
       "    }\n",
       "\n",
       "    .dataframe tbody tr th {\n",
       "        vertical-align: top;\n",
       "    }\n",
       "\n",
       "    .dataframe thead th {\n",
       "        text-align: right;\n",
       "    }\n",
       "</style>\n",
       "<table border=\"1\" class=\"dataframe\">\n",
       "  <thead>\n",
       "    <tr style=\"text-align: right;\">\n",
       "      <th></th>\n",
       "      <th>team1</th>\n",
       "      <th>team2</th>\n",
       "      <th>city</th>\n",
       "      <th>toss_decision</th>\n",
       "      <th>toss_winner</th>\n",
       "      <th>venue</th>\n",
       "      <th>winner</th>\n",
       "    </tr>\n",
       "  </thead>\n",
       "  <tbody>\n",
       "    <tr>\n",
       "      <th>0</th>\n",
       "      <td>4</td>\n",
       "      <td>1</td>\n",
       "      <td>1</td>\n",
       "      <td>0</td>\n",
       "      <td>1</td>\n",
       "      <td>M Chinnaswamy Stadium</td>\n",
       "      <td>1</td>\n",
       "    </tr>\n",
       "    <tr>\n",
       "      <th>1</th>\n",
       "      <td>0</td>\n",
       "      <td>6</td>\n",
       "      <td>2</td>\n",
       "      <td>1</td>\n",
       "      <td>0</td>\n",
       "      <td>Punjab Cricket Association Stadium, Mohali</td>\n",
       "      <td>1</td>\n",
       "    </tr>\n",
       "  </tbody>\n",
       "</table>\n",
       "</div>"
      ],
      "text/plain": [
       "   team1  team2  city  toss_decision  toss_winner  \\\n",
       "0      4      1     1              0            1   \n",
       "1      0      6     2              1            0   \n",
       "\n",
       "                                        venue  winner  \n",
       "0                       M Chinnaswamy Stadium       1  \n",
       "1  Punjab Cricket Association Stadium, Mohali       1  "
      ]
     },
     "execution_count": 40,
     "metadata": {},
     "output_type": "execute_result"
    }
   ],
   "source": [
    "matches['team1'] = matches['team1'].map({'CSK':0, 'RCB':1, 'DC':2, 'MI':3, 'KKR':4, 'RR':5, 'KXIP':6, 'SRH':7,'DD':8, 'GL': 9, 'RPS':10, 'KTK':11, 'PW':12})\n",
    "matches['team2'] = matches['team2'].map({'CSK':0, 'RCB':1, 'DC':2, 'MI':3, 'KKR':4, 'RR':5, 'KXIP':6, 'SRH':7, 'DD':8, 'GL': 9, 'RPS':10, 'KTK':11, 'PW':12})\n",
    "matches['toss_winner'] = matches['toss_winner'].map({'CSK':0, 'RCB':1, 'DC':2, 'MI':3, 'KKR':4, 'RR':5, 'KXIP':6, 'SRH':7, 'DD':8, 'GL': 9, 'RPS':10, 'KTK':11, 'PW':12})\n",
    "\n",
    "matches.head(2)"
   ]
  },
  {
   "cell_type": "code",
   "execution_count": 41,
   "id": "strategic-coordinate",
   "metadata": {
    "execution": {
     "iopub.execute_input": "2021-06-08T10:08:52.803397Z",
     "iopub.status.busy": "2021-06-08T10:08:52.802656Z",
     "iopub.status.idle": "2021-06-08T10:08:52.807079Z",
     "shell.execute_reply": "2021-06-08T10:08:52.806603Z",
     "shell.execute_reply.started": "2021-06-08T10:05:48.242028Z"
    },
    "papermill": {
     "duration": 0.089028,
     "end_time": "2021-06-08T10:08:52.807219",
     "exception": false,
     "start_time": "2021-06-08T10:08:52.718191",
     "status": "completed"
    },
    "tags": []
   },
   "outputs": [
    {
     "data": {
      "text/html": [
       "<div>\n",
       "<style scoped>\n",
       "    .dataframe tbody tr th:only-of-type {\n",
       "        vertical-align: middle;\n",
       "    }\n",
       "\n",
       "    .dataframe tbody tr th {\n",
       "        vertical-align: top;\n",
       "    }\n",
       "\n",
       "    .dataframe thead th {\n",
       "        text-align: right;\n",
       "    }\n",
       "</style>\n",
       "<table border=\"1\" class=\"dataframe\">\n",
       "  <thead>\n",
       "    <tr style=\"text-align: right;\">\n",
       "      <th></th>\n",
       "      <th>team1</th>\n",
       "      <th>team2</th>\n",
       "      <th>city</th>\n",
       "      <th>toss_decision</th>\n",
       "      <th>toss_winner</th>\n",
       "      <th>winner</th>\n",
       "    </tr>\n",
       "  </thead>\n",
       "  <tbody>\n",
       "    <tr>\n",
       "      <th>0</th>\n",
       "      <td>4</td>\n",
       "      <td>1</td>\n",
       "      <td>1</td>\n",
       "      <td>0</td>\n",
       "      <td>1</td>\n",
       "      <td>1</td>\n",
       "    </tr>\n",
       "    <tr>\n",
       "      <th>1</th>\n",
       "      <td>0</td>\n",
       "      <td>6</td>\n",
       "      <td>2</td>\n",
       "      <td>1</td>\n",
       "      <td>0</td>\n",
       "      <td>1</td>\n",
       "    </tr>\n",
       "  </tbody>\n",
       "</table>\n",
       "</div>"
      ],
      "text/plain": [
       "   team1  team2  city  toss_decision  toss_winner  winner\n",
       "0      4      1     1              0            1       1\n",
       "1      0      6     2              1            0       1"
      ]
     },
     "execution_count": 41,
     "metadata": {},
     "output_type": "execute_result"
    }
   ],
   "source": [
    "matches.drop(columns=['venue'], inplace =True)\n",
    "matches.head(2)"
   ]
  },
  {
   "cell_type": "code",
   "execution_count": 42,
   "id": "graphic-patient",
   "metadata": {
    "execution": {
     "iopub.execute_input": "2021-06-08T10:08:52.965188Z",
     "iopub.status.busy": "2021-06-08T10:08:52.963167Z",
     "iopub.status.idle": "2021-06-08T10:08:52.988551Z",
     "shell.execute_reply": "2021-06-08T10:08:52.987874Z",
     "shell.execute_reply.started": "2021-06-08T10:05:48.258740Z"
    },
    "papermill": {
     "duration": 0.109012,
     "end_time": "2021-06-08T10:08:52.988698",
     "exception": false,
     "start_time": "2021-06-08T10:08:52.879686",
     "status": "completed"
    },
    "tags": []
   },
   "outputs": [
    {
     "data": {
      "text/html": [
       "<div>\n",
       "<style scoped>\n",
       "    .dataframe tbody tr th:only-of-type {\n",
       "        vertical-align: middle;\n",
       "    }\n",
       "\n",
       "    .dataframe tbody tr th {\n",
       "        vertical-align: top;\n",
       "    }\n",
       "\n",
       "    .dataframe thead th {\n",
       "        text-align: right;\n",
       "    }\n",
       "</style>\n",
       "<table border=\"1\" class=\"dataframe\">\n",
       "  <thead>\n",
       "    <tr style=\"text-align: right;\">\n",
       "      <th></th>\n",
       "      <th>team1</th>\n",
       "      <th>team2</th>\n",
       "      <th>city</th>\n",
       "      <th>toss_decision</th>\n",
       "      <th>toss_winner</th>\n",
       "      <th>winner</th>\n",
       "    </tr>\n",
       "  </thead>\n",
       "  <tbody>\n",
       "    <tr>\n",
       "      <th>count</th>\n",
       "      <td>756.000000</td>\n",
       "      <td>756.000000</td>\n",
       "      <td>756.000000</td>\n",
       "      <td>756.000000</td>\n",
       "      <td>756.000000</td>\n",
       "      <td>756.000000</td>\n",
       "    </tr>\n",
       "    <tr>\n",
       "      <th>mean</th>\n",
       "      <td>4.424603</td>\n",
       "      <td>4.625661</td>\n",
       "      <td>9.529101</td>\n",
       "      <td>0.387566</td>\n",
       "      <td>4.431217</td>\n",
       "      <td>0.443122</td>\n",
       "    </tr>\n",
       "    <tr>\n",
       "      <th>std</th>\n",
       "      <td>3.063284</td>\n",
       "      <td>3.115665</td>\n",
       "      <td>8.959686</td>\n",
       "      <td>0.487517</td>\n",
       "      <td>3.056948</td>\n",
       "      <td>0.497083</td>\n",
       "    </tr>\n",
       "    <tr>\n",
       "      <th>min</th>\n",
       "      <td>0.000000</td>\n",
       "      <td>0.000000</td>\n",
       "      <td>1.000000</td>\n",
       "      <td>0.000000</td>\n",
       "      <td>0.000000</td>\n",
       "      <td>0.000000</td>\n",
       "    </tr>\n",
       "    <tr>\n",
       "      <th>25%</th>\n",
       "      <td>2.000000</td>\n",
       "      <td>2.000000</td>\n",
       "      <td>4.000000</td>\n",
       "      <td>0.000000</td>\n",
       "      <td>2.000000</td>\n",
       "      <td>0.000000</td>\n",
       "    </tr>\n",
       "    <tr>\n",
       "      <th>50%</th>\n",
       "      <td>4.000000</td>\n",
       "      <td>4.000000</td>\n",
       "      <td>6.000000</td>\n",
       "      <td>0.000000</td>\n",
       "      <td>4.000000</td>\n",
       "      <td>0.000000</td>\n",
       "    </tr>\n",
       "    <tr>\n",
       "      <th>75%</th>\n",
       "      <td>7.000000</td>\n",
       "      <td>7.000000</td>\n",
       "      <td>12.000000</td>\n",
       "      <td>1.000000</td>\n",
       "      <td>7.000000</td>\n",
       "      <td>1.000000</td>\n",
       "    </tr>\n",
       "    <tr>\n",
       "      <th>max</th>\n",
       "      <td>12.000000</td>\n",
       "      <td>12.000000</td>\n",
       "      <td>33.000000</td>\n",
       "      <td>1.000000</td>\n",
       "      <td>12.000000</td>\n",
       "      <td>1.000000</td>\n",
       "    </tr>\n",
       "  </tbody>\n",
       "</table>\n",
       "</div>"
      ],
      "text/plain": [
       "            team1       team2        city  toss_decision  toss_winner  \\\n",
       "count  756.000000  756.000000  756.000000     756.000000   756.000000   \n",
       "mean     4.424603    4.625661    9.529101       0.387566     4.431217   \n",
       "std      3.063284    3.115665    8.959686       0.487517     3.056948   \n",
       "min      0.000000    0.000000    1.000000       0.000000     0.000000   \n",
       "25%      2.000000    2.000000    4.000000       0.000000     2.000000   \n",
       "50%      4.000000    4.000000    6.000000       0.000000     4.000000   \n",
       "75%      7.000000    7.000000   12.000000       1.000000     7.000000   \n",
       "max     12.000000   12.000000   33.000000       1.000000    12.000000   \n",
       "\n",
       "           winner  \n",
       "count  756.000000  \n",
       "mean     0.443122  \n",
       "std      0.497083  \n",
       "min      0.000000  \n",
       "25%      0.000000  \n",
       "50%      0.000000  \n",
       "75%      1.000000  \n",
       "max      1.000000  "
      ]
     },
     "execution_count": 42,
     "metadata": {},
     "output_type": "execute_result"
    }
   ],
   "source": [
    "matches.describe()"
   ]
  },
  {
   "cell_type": "code",
   "execution_count": 43,
   "id": "approximate-flooring",
   "metadata": {
    "execution": {
     "iopub.execute_input": "2021-06-08T10:08:53.145390Z",
     "iopub.status.busy": "2021-06-08T10:08:53.144689Z",
     "iopub.status.idle": "2021-06-08T10:08:53.371675Z",
     "shell.execute_reply": "2021-06-08T10:08:53.371109Z",
     "shell.execute_reply.started": "2021-06-08T10:05:48.296970Z"
    },
    "papermill": {
     "duration": 0.309207,
     "end_time": "2021-06-08T10:08:53.371811",
     "exception": false,
     "start_time": "2021-06-08T10:08:53.062604",
     "status": "completed"
    },
    "tags": []
   },
   "outputs": [],
   "source": [
    "# data for training purpose\n",
    "\n",
    "x=matches[['team1', 'team2', 'city']]\n",
    "y=matches[['winner']]\n",
    "from sklearn.preprocessing import StandardScaler\n",
    "from sklearn.model_selection import train_test_split, GridSearchCV \n",
    "scaler=StandardScaler()\n",
    "scaled_data=scaler.fit_transform(x)\n",
    "train_x,test_x,train_y,test_y=train_test_split(scaled_data,y,test_size=0.2,random_state=49)"
   ]
  },
  {
   "cell_type": "code",
   "execution_count": 44,
   "id": "listed-belize",
   "metadata": {
    "execution": {
     "iopub.execute_input": "2021-06-08T10:08:53.525540Z",
     "iopub.status.busy": "2021-06-08T10:08:53.524882Z",
     "iopub.status.idle": "2021-06-08T10:08:53.553555Z",
     "shell.execute_reply": "2021-06-08T10:08:53.553068Z",
     "shell.execute_reply.started": "2021-06-08T10:05:48.529726Z"
    },
    "papermill": {
     "duration": 0.107406,
     "end_time": "2021-06-08T10:08:53.553688",
     "exception": false,
     "start_time": "2021-06-08T10:08:53.446282",
     "status": "completed"
    },
    "tags": []
   },
   "outputs": [
    {
     "data": {
      "text/html": [
       "<div>\n",
       "<style scoped>\n",
       "    .dataframe tbody tr th:only-of-type {\n",
       "        vertical-align: middle;\n",
       "    }\n",
       "\n",
       "    .dataframe tbody tr th {\n",
       "        vertical-align: top;\n",
       "    }\n",
       "\n",
       "    .dataframe thead th {\n",
       "        text-align: right;\n",
       "    }\n",
       "</style>\n",
       "<table border=\"1\" class=\"dataframe\">\n",
       "  <thead>\n",
       "    <tr style=\"text-align: right;\">\n",
       "      <th></th>\n",
       "      <th>id</th>\n",
       "      <th>season</th>\n",
       "      <th>city</th>\n",
       "      <th>date</th>\n",
       "      <th>team1</th>\n",
       "      <th>team2</th>\n",
       "      <th>player_of_match</th>\n",
       "      <th>venue</th>\n",
       "      <th>umpire1</th>\n",
       "      <th>umpire2</th>\n",
       "      <th>umpire3</th>\n",
       "    </tr>\n",
       "  </thead>\n",
       "  <tbody>\n",
       "    <tr>\n",
       "      <th>0</th>\n",
       "      <td>1216492</td>\n",
       "      <td>2020</td>\n",
       "      <td>Abu Dhabi</td>\n",
       "      <td>9/19/2020</td>\n",
       "      <td>MI</td>\n",
       "      <td>CSK</td>\n",
       "      <td>AT Rayudu</td>\n",
       "      <td>Sheikh Zayed Stadium, Abu Dhabi</td>\n",
       "      <td>Chris Gaffaney</td>\n",
       "      <td>Virender Sharma</td>\n",
       "      <td>Sundaram Ravi</td>\n",
       "    </tr>\n",
       "    <tr>\n",
       "      <th>1</th>\n",
       "      <td>1216493</td>\n",
       "      <td>2020</td>\n",
       "      <td>Dubai (DSC)</td>\n",
       "      <td>9/20/2020</td>\n",
       "      <td>DC</td>\n",
       "      <td>KXIP</td>\n",
       "      <td>MP Stoinis</td>\n",
       "      <td>Dubai International Cricket Stadium</td>\n",
       "      <td>Anil Chaudhary</td>\n",
       "      <td>Nitin Menon</td>\n",
       "      <td>Paul Reiffel</td>\n",
       "    </tr>\n",
       "    <tr>\n",
       "      <th>2</th>\n",
       "      <td>1216534</td>\n",
       "      <td>2020</td>\n",
       "      <td>Dubai (DSC)</td>\n",
       "      <td>9/21/2020</td>\n",
       "      <td>SRH</td>\n",
       "      <td>RCB</td>\n",
       "      <td>YS Chahal</td>\n",
       "      <td>Dubai International Cricket Stadium</td>\n",
       "      <td>Anil Dandekar</td>\n",
       "      <td>Nitin Menon</td>\n",
       "      <td>Anil Chaudhary</td>\n",
       "    </tr>\n",
       "    <tr>\n",
       "      <th>3</th>\n",
       "      <td>1216496</td>\n",
       "      <td>2020</td>\n",
       "      <td>Sharjah</td>\n",
       "      <td>9/22/2020</td>\n",
       "      <td>RR</td>\n",
       "      <td>CSK</td>\n",
       "      <td>SV Samson</td>\n",
       "      <td>Sharjah Cricket Stadium</td>\n",
       "      <td>Chettithody Shamshuddin</td>\n",
       "      <td>Vineet Kulkarni</td>\n",
       "      <td>KN Ananthapadmanabhan</td>\n",
       "    </tr>\n",
       "    <tr>\n",
       "      <th>4</th>\n",
       "      <td>1216508</td>\n",
       "      <td>2020</td>\n",
       "      <td>Abu Dhabi</td>\n",
       "      <td>9/23/2020</td>\n",
       "      <td>KKR</td>\n",
       "      <td>MI</td>\n",
       "      <td>RG Sharma</td>\n",
       "      <td>Sheikh Zayed Stadium, Abu Dhabi</td>\n",
       "      <td>Chris Gaffaney</td>\n",
       "      <td>Sundaram Ravi</td>\n",
       "      <td>Virender Sharma</td>\n",
       "    </tr>\n",
       "  </tbody>\n",
       "</table>\n",
       "</div>"
      ],
      "text/plain": [
       "        id  season         city       date team1 team2 player_of_match  \\\n",
       "0  1216492    2020    Abu Dhabi  9/19/2020    MI   CSK       AT Rayudu   \n",
       "1  1216493    2020  Dubai (DSC)  9/20/2020    DC  KXIP      MP Stoinis   \n",
       "2  1216534    2020  Dubai (DSC)  9/21/2020   SRH   RCB       YS Chahal   \n",
       "3  1216496    2020      Sharjah  9/22/2020    RR   CSK       SV Samson   \n",
       "4  1216508    2020    Abu Dhabi  9/23/2020   KKR    MI       RG Sharma   \n",
       "\n",
       "                                 venue                  umpire1  \\\n",
       "0      Sheikh Zayed Stadium, Abu Dhabi           Chris Gaffaney   \n",
       "1  Dubai International Cricket Stadium           Anil Chaudhary   \n",
       "2  Dubai International Cricket Stadium            Anil Dandekar   \n",
       "3              Sharjah Cricket Stadium  Chettithody Shamshuddin   \n",
       "4      Sheikh Zayed Stadium, Abu Dhabi           Chris Gaffaney   \n",
       "\n",
       "           umpire2                umpire3  \n",
       "0  Virender Sharma          Sundaram Ravi  \n",
       "1      Nitin Menon           Paul Reiffel  \n",
       "2      Nitin Menon         Anil Chaudhary  \n",
       "3  Vineet Kulkarni  KN Ananthapadmanabhan  \n",
       "4    Sundaram Ravi        Virender Sharma  "
      ]
     },
     "execution_count": 44,
     "metadata": {},
     "output_type": "execute_result"
    }
   ],
   "source": [
    "# for testing the data\n",
    "matches_testdata= pd.read_csv(\"/kaggle/input/winnerpredictionchallenge/Testset Matches IPL 2020.csv\")\n",
    "matches_testdata.head()   "
   ]
  },
  {
   "cell_type": "code",
   "execution_count": 45,
   "id": "historic-aging",
   "metadata": {
    "execution": {
     "iopub.execute_input": "2021-06-08T10:08:53.707177Z",
     "iopub.status.busy": "2021-06-08T10:08:53.706552Z",
     "iopub.status.idle": "2021-06-08T10:08:53.709208Z",
     "shell.execute_reply": "2021-06-08T10:08:53.708735Z",
     "shell.execute_reply.started": "2021-06-08T10:05:48.555104Z"
    },
    "papermill": {
     "duration": 0.079817,
     "end_time": "2021-06-08T10:08:53.709339",
     "exception": false,
     "start_time": "2021-06-08T10:08:53.629522",
     "status": "completed"
    },
    "tags": []
   },
   "outputs": [],
   "source": [
    "testdata = matches_testdata.copy()"
   ]
  },
  {
   "cell_type": "code",
   "execution_count": 46,
   "id": "acceptable-emission",
   "metadata": {
    "execution": {
     "iopub.execute_input": "2021-06-08T10:08:53.862553Z",
     "iopub.status.busy": "2021-06-08T10:08:53.861970Z",
     "iopub.status.idle": "2021-06-08T10:08:53.867119Z",
     "shell.execute_reply": "2021-06-08T10:08:53.866674Z",
     "shell.execute_reply.started": "2021-06-08T10:05:48.559827Z"
    },
    "papermill": {
     "duration": 0.085641,
     "end_time": "2021-06-08T10:08:53.867257",
     "exception": false,
     "start_time": "2021-06-08T10:08:53.781616",
     "status": "completed"
    },
    "tags": []
   },
   "outputs": [
    {
     "data": {
      "text/plain": [
       "id                 0\n",
       "season             0\n",
       "city               0\n",
       "date               0\n",
       "team1              0\n",
       "team2              0\n",
       "player_of_match    0\n",
       "venue              0\n",
       "umpire1            0\n",
       "umpire2            0\n",
       "umpire3            0\n",
       "dtype: int64"
      ]
     },
     "execution_count": 46,
     "metadata": {},
     "output_type": "execute_result"
    }
   ],
   "source": [
    "testdata.isnull().sum()"
   ]
  },
  {
   "cell_type": "code",
   "execution_count": 47,
   "id": "interstate-parcel",
   "metadata": {
    "execution": {
     "iopub.execute_input": "2021-06-08T10:08:54.023906Z",
     "iopub.status.busy": "2021-06-08T10:08:54.023002Z",
     "iopub.status.idle": "2021-06-08T10:08:54.025880Z",
     "shell.execute_reply": "2021-06-08T10:08:54.025433Z",
     "shell.execute_reply.started": "2021-06-08T10:05:48.577334Z"
    },
    "papermill": {
     "duration": 0.081201,
     "end_time": "2021-06-08T10:08:54.026050",
     "exception": false,
     "start_time": "2021-06-08T10:08:53.944849",
     "status": "completed"
    },
    "tags": []
   },
   "outputs": [],
   "source": [
    "testdata.drop(['id','season','date','player_of_match','venue','umpire1','umpire2','umpire3'],axis=1,inplace=True)"
   ]
  },
  {
   "cell_type": "code",
   "execution_count": 48,
   "id": "played-kitchen",
   "metadata": {
    "execution": {
     "iopub.execute_input": "2021-06-08T10:08:54.181355Z",
     "iopub.status.busy": "2021-06-08T10:08:54.180725Z",
     "iopub.status.idle": "2021-06-08T10:08:54.182518Z",
     "shell.execute_reply": "2021-06-08T10:08:54.182966Z",
     "shell.execute_reply.started": "2021-06-08T10:05:48.586879Z"
    },
    "papermill": {
     "duration": 0.083466,
     "end_time": "2021-06-08T10:08:54.183186",
     "exception": false,
     "start_time": "2021-06-08T10:08:54.099720",
     "status": "completed"
    },
    "tags": []
   },
   "outputs": [],
   "source": [
    "test_copy = matches_testdata.copy()"
   ]
  },
  {
   "cell_type": "code",
   "execution_count": 49,
   "id": "periodic-carpet",
   "metadata": {
    "execution": {
     "iopub.execute_input": "2021-06-08T10:08:54.345100Z",
     "iopub.status.busy": "2021-06-08T10:08:54.344392Z",
     "iopub.status.idle": "2021-06-08T10:08:54.346811Z",
     "shell.execute_reply": "2021-06-08T10:08:54.347229Z",
     "shell.execute_reply.started": "2021-06-08T10:05:48.598181Z"
    },
    "papermill": {
     "duration": 0.091482,
     "end_time": "2021-06-08T10:08:54.347388",
     "exception": false,
     "start_time": "2021-06-08T10:08:54.255906",
     "status": "completed"
    },
    "tags": []
   },
   "outputs": [
    {
     "data": {
      "text/html": [
       "<div>\n",
       "<style scoped>\n",
       "    .dataframe tbody tr th:only-of-type {\n",
       "        vertical-align: middle;\n",
       "    }\n",
       "\n",
       "    .dataframe tbody tr th {\n",
       "        vertical-align: top;\n",
       "    }\n",
       "\n",
       "    .dataframe thead th {\n",
       "        text-align: right;\n",
       "    }\n",
       "</style>\n",
       "<table border=\"1\" class=\"dataframe\">\n",
       "  <thead>\n",
       "    <tr style=\"text-align: right;\">\n",
       "      <th></th>\n",
       "      <th>city</th>\n",
       "      <th>team1</th>\n",
       "      <th>team2</th>\n",
       "    </tr>\n",
       "  </thead>\n",
       "  <tbody>\n",
       "    <tr>\n",
       "      <th>0</th>\n",
       "      <td>27</td>\n",
       "      <td>3</td>\n",
       "      <td>0</td>\n",
       "    </tr>\n",
       "    <tr>\n",
       "      <th>1</th>\n",
       "      <td>29</td>\n",
       "      <td>2</td>\n",
       "      <td>6</td>\n",
       "    </tr>\n",
       "    <tr>\n",
       "      <th>2</th>\n",
       "      <td>29</td>\n",
       "      <td>7</td>\n",
       "      <td>1</td>\n",
       "    </tr>\n",
       "    <tr>\n",
       "      <th>3</th>\n",
       "      <td>28</td>\n",
       "      <td>5</td>\n",
       "      <td>0</td>\n",
       "    </tr>\n",
       "    <tr>\n",
       "      <th>4</th>\n",
       "      <td>27</td>\n",
       "      <td>4</td>\n",
       "      <td>3</td>\n",
       "    </tr>\n",
       "  </tbody>\n",
       "</table>\n",
       "</div>"
      ],
      "text/plain": [
       "   city  team1  team2\n",
       "0    27      3      0\n",
       "1    29      2      6\n",
       "2    29      7      1\n",
       "3    28      5      0\n",
       "4    27      4      3"
      ]
     },
     "execution_count": 49,
     "metadata": {},
     "output_type": "execute_result"
    }
   ],
   "source": [
    "\n",
    "\n",
    "\n",
    "\n",
    "testdata.replace(['Bangalore','Chandigarh','Delhi','Mumbai','Kolkata','Jaipur','Hyderabad','Chennai','Cape Town',\n",
    "                 'Port Elizabeth','Durban','Centurion','East London','Johannesburg','Kimberley','Bloemfontein','Ahmedabad',\n",
    "                 'Cuttack','Nagpur','Dharamsala','Kochi','Indore','Visakhapatnam','Pune','Raipur','Ranchi','Abu Dhabi','Sharjah',\n",
    "                 'Dubai', 'Dubai (DSC)','Rajkot','Kanpur','Mohali','Bengaluru'],[1, 2, 3, 4, 5, 6, 7, 8, 9, 10, 11, 12, 13, 14, 15, 16, 17, 18, 19\n",
    "                                                                  , 20, 21, 22, 23, 24, 25, 26, 27, 28, 29, 29,30, 31, 32, 33],inplace=True)\n",
    "\n",
    "\n",
    "testdata['team1'] = testdata['team1'].map({'CSK':0, 'RCB':1, 'DC':2, 'MI':3, 'KKR':4, 'RR':5, 'KXIP':6, 'SRH':7})\n",
    "testdata['team2'] = testdata['team2'].map({'CSK':0, 'RCB':1, 'DC':2, 'MI':3, 'KKR':4, 'RR':5, 'KXIP':6, 'SRH':7})\n",
    "testdata.head()"
   ]
  },
  {
   "cell_type": "code",
   "execution_count": 50,
   "id": "familiar-devices",
   "metadata": {
    "execution": {
     "iopub.execute_input": "2021-06-08T10:08:54.496533Z",
     "iopub.status.busy": "2021-06-08T10:08:54.495930Z",
     "iopub.status.idle": "2021-06-08T10:08:54.500912Z",
     "shell.execute_reply": "2021-06-08T10:08:54.501345Z",
     "shell.execute_reply.started": "2021-06-08T10:05:48.618646Z"
    },
    "papermill": {
     "duration": 0.081502,
     "end_time": "2021-06-08T10:08:54.501517",
     "exception": false,
     "start_time": "2021-06-08T10:08:54.420015",
     "status": "completed"
    },
    "tags": []
   },
   "outputs": [
    {
     "data": {
      "text/plain": [
       "array([ 1,  2,  3,  4,  5,  6,  7,  8,  9, 10, 11, 12, 13, 14, 15, 16, 17,\n",
       "       18, 19, 20, 21, 22, 23, 24, 25, 26, 27, 28, 29, 30, 31, 32, 33])"
      ]
     },
     "execution_count": 50,
     "metadata": {},
     "output_type": "execute_result"
    }
   ],
   "source": [
    "matches['city'].unique()"
   ]
  },
  {
   "cell_type": "markdown",
   "id": "expanded-borough",
   "metadata": {
    "papermill": {
     "duration": 0.072339,
     "end_time": "2021-06-08T10:08:54.647935",
     "exception": false,
     "start_time": "2021-06-08T10:08:54.575596",
     "status": "completed"
    },
    "tags": []
   },
   "source": [
    "# Training Models\n"
   ]
  },
  {
   "cell_type": "code",
   "execution_count": 51,
   "id": "viral-canal",
   "metadata": {
    "execution": {
     "iopub.execute_input": "2021-06-08T10:08:54.797996Z",
     "iopub.status.busy": "2021-06-08T10:08:54.797416Z",
     "iopub.status.idle": "2021-06-08T10:08:54.919014Z",
     "shell.execute_reply": "2021-06-08T10:08:54.919449Z",
     "shell.execute_reply.started": "2021-06-08T10:05:48.630114Z"
    },
    "papermill": {
     "duration": 0.198129,
     "end_time": "2021-06-08T10:08:54.919618",
     "exception": false,
     "start_time": "2021-06-08T10:08:54.721489",
     "status": "completed"
    },
    "tags": []
   },
   "outputs": [
    {
     "name": "stderr",
     "output_type": "stream",
     "text": [
      "/opt/conda/lib/python3.7/site-packages/sklearn/utils/validation.py:63: DataConversionWarning: A column-vector y was passed when a 1d array was expected. Please change the shape of y to (n_samples, ), for example using ravel().\n",
      "  return f(*args, **kwargs)\n"
     ]
    },
    {
     "data": {
      "text/plain": [
       "0.5674603174603174"
      ]
     },
     "execution_count": 51,
     "metadata": {},
     "output_type": "execute_result"
    }
   ],
   "source": [
    "from sklearn.metrics import accuracy_score , roc_curve, roc_auc_score,confusion_matrix\n",
    "from sklearn.metrics import classification_report\n",
    "from sklearn.linear_model import LogisticRegression\n",
    "logreg=LogisticRegression()\n",
    "logreg.fit(x,y)\n",
    "pred_y=logreg.predict(x)\n",
    "logreg.score(x,y)\n"
   ]
  },
  {
   "cell_type": "code",
   "execution_count": 52,
   "id": "fifteen-button",
   "metadata": {
    "execution": {
     "iopub.execute_input": "2021-06-08T10:08:55.080124Z",
     "iopub.status.busy": "2021-06-08T10:08:55.079457Z",
     "iopub.status.idle": "2021-06-08T10:08:55.089756Z",
     "shell.execute_reply": "2021-06-08T10:08:55.090204Z",
     "shell.execute_reply.started": "2021-06-08T10:05:48.756777Z"
    },
    "papermill": {
     "duration": 0.09401,
     "end_time": "2021-06-08T10:08:55.090384",
     "exception": false,
     "start_time": "2021-06-08T10:08:54.996374",
     "status": "completed"
    },
    "tags": []
   },
   "outputs": [
    {
     "name": "stdout",
     "output_type": "stream",
     "text": [
      "0.5579470198675497\n"
     ]
    },
    {
     "name": "stderr",
     "output_type": "stream",
     "text": [
      "/opt/conda/lib/python3.7/site-packages/sklearn/utils/validation.py:63: DataConversionWarning: A column-vector y was passed when a 1d array was expected. Please change the shape of y to (n_samples, ), for example using ravel().\n",
      "  return f(*args, **kwargs)\n"
     ]
    },
    {
     "data": {
      "text/plain": [
       "0.5579470198675497"
      ]
     },
     "execution_count": 52,
     "metadata": {},
     "output_type": "execute_result"
    }
   ],
   "source": [
    "logreg.fit(train_x, train_y)# for logistic regression model\n",
    "# cheking training accuracy\n",
    "y_pred1 = logreg.predict(train_x)\n",
    "predictions = [round(value) for value in y_pred1]\n",
    "accuracy = accuracy_score(train_y,predictions)\n",
    "print(logreg.score(train_x, train_y))\n",
    "accuracy"
   ]
  },
  {
   "cell_type": "code",
   "execution_count": 53,
   "id": "clinical-priority",
   "metadata": {
    "execution": {
     "iopub.execute_input": "2021-06-08T10:08:55.280502Z",
     "iopub.status.busy": "2021-06-08T10:08:55.279588Z",
     "iopub.status.idle": "2021-06-08T10:08:55.287999Z",
     "shell.execute_reply": "2021-06-08T10:08:55.288488Z",
     "shell.execute_reply.started": "2021-06-08T10:05:48.775153Z"
    },
    "papermill": {
     "duration": 0.107096,
     "end_time": "2021-06-08T10:08:55.288691",
     "exception": false,
     "start_time": "2021-06-08T10:08:55.181595",
     "status": "completed"
    },
    "tags": []
   },
   "outputs": [
    {
     "name": "stdout",
     "output_type": "stream",
     "text": [
      "0.5855263157894737\n"
     ]
    },
    {
     "data": {
      "text/plain": [
       "0.5855263157894737"
      ]
     },
     "execution_count": 53,
     "metadata": {},
     "output_type": "execute_result"
    }
   ],
   "source": [
    "# cheking initial test accuracy # for logistic regression model\n",
    "y_pred = logreg.predict(test_x)\n",
    "predictions = [round(value) for value in y_pred]\n",
    "accuracy = accuracy_score(test_y,predictions)\n",
    "accuracy\n",
    "print(logreg.score(test_x,test_y))\n",
    "accuracy"
   ]
  },
  {
   "cell_type": "code",
   "execution_count": 54,
   "id": "tropical-contamination",
   "metadata": {
    "execution": {
     "iopub.execute_input": "2021-06-08T10:08:55.441135Z",
     "iopub.status.busy": "2021-06-08T10:08:55.440513Z",
     "iopub.status.idle": "2021-06-08T10:08:55.454472Z",
     "shell.execute_reply": "2021-06-08T10:08:55.454042Z",
     "shell.execute_reply.started": "2021-06-08T10:05:48.788534Z"
    },
    "papermill": {
     "duration": 0.091188,
     "end_time": "2021-06-08T10:08:55.454602",
     "exception": false,
     "start_time": "2021-06-08T10:08:55.363414",
     "status": "completed"
    },
    "tags": []
   },
   "outputs": [
    {
     "name": "stdout",
     "output_type": "stream",
     "text": [
      "              precision    recall  f1-score   support\n",
      "\n",
      "           0       0.58      0.81      0.67        80\n",
      "           1       0.62      0.33      0.43        72\n",
      "\n",
      "    accuracy                           0.59       152\n",
      "   macro avg       0.60      0.57      0.55       152\n",
      "weighted avg       0.59      0.59      0.56       152\n",
      "\n"
     ]
    },
    {
     "data": {
      "text/plain": [
       "0.5729166666666666"
      ]
     },
     "execution_count": 54,
     "metadata": {},
     "output_type": "execute_result"
    }
   ],
   "source": [
    "from sklearn.metrics import accuracy_score , roc_curve, roc_auc_score,confusion_matrix\n",
    "from sklearn.metrics import classification_report\n",
    "predictions = [round(value) for value in y_pred]\n",
    "auc_logis = roc_auc_score(test_y, predictions)\n",
    "print(classification_report(test_y,predictions))# for logistic regression model\n",
    "auc_logis"
   ]
  },
  {
   "cell_type": "code",
   "execution_count": 55,
   "id": "exclusive-gentleman",
   "metadata": {
    "execution": {
     "iopub.execute_input": "2021-06-08T10:08:55.610983Z",
     "iopub.status.busy": "2021-06-08T10:08:55.610384Z",
     "iopub.status.idle": "2021-06-08T10:08:55.846278Z",
     "shell.execute_reply": "2021-06-08T10:08:55.845735Z",
     "shell.execute_reply.started": "2021-06-08T10:05:48.807323Z"
    },
    "papermill": {
     "duration": 0.31691,
     "end_time": "2021-06-08T10:08:55.846421",
     "exception": false,
     "start_time": "2021-06-08T10:08:55.529511",
     "status": "completed"
    },
    "tags": []
   },
   "outputs": [],
   "source": [
    "import xgboost as xgb\n",
    "import pickle\n",
    "from sklearn import datasets\n",
    "from xgboost import XGBClassifier\n",
    "from sklearn.metrics import accuracy_score , roc_curve, roc_auc_score,confusion_matrix\n",
    "from sklearn.metrics import classification_report"
   ]
  },
  {
   "cell_type": "code",
   "execution_count": 56,
   "id": "funded-harvey",
   "metadata": {
    "execution": {
     "iopub.execute_input": "2021-06-08T10:08:56.004434Z",
     "iopub.status.busy": "2021-06-08T10:08:56.003757Z",
     "iopub.status.idle": "2021-06-08T10:08:56.116641Z",
     "shell.execute_reply": "2021-06-08T10:08:56.116191Z",
     "shell.execute_reply.started": "2021-06-08T10:05:49.166542Z"
    },
    "papermill": {
     "duration": 0.194612,
     "end_time": "2021-06-08T10:08:56.116780",
     "exception": false,
     "start_time": "2021-06-08T10:08:55.922168",
     "status": "completed"
    },
    "tags": []
   },
   "outputs": [
    {
     "name": "stdout",
     "output_type": "stream",
     "text": [
      "0.6080838989635795\n"
     ]
    },
    {
     "data": {
      "text/plain": [
       "0.5579470198675497"
      ]
     },
     "execution_count": 56,
     "metadata": {},
     "output_type": "execute_result"
    }
   ],
   "source": [
    "# for XGBoost model\n",
    "xgb=xgb.XGBRegressor()\n",
    "xgb.fit(train_x,train_y)\n",
    "pred_yxgb=xgb.predict(test_x)\n",
    "print(xgb.score(train_x,train_y))\n",
    "logreg.score(train_x,train_y)"
   ]
  },
  {
   "cell_type": "code",
   "execution_count": 57,
   "id": "natural-lindsay",
   "metadata": {
    "execution": {
     "iopub.execute_input": "2021-06-08T10:08:56.274872Z",
     "iopub.status.busy": "2021-06-08T10:08:56.274140Z",
     "iopub.status.idle": "2021-06-08T10:08:56.284717Z",
     "shell.execute_reply": "2021-06-08T10:08:56.284159Z",
     "shell.execute_reply.started": "2021-06-08T10:05:49.276363Z"
    },
    "papermill": {
     "duration": 0.091304,
     "end_time": "2021-06-08T10:08:56.284845",
     "exception": false,
     "start_time": "2021-06-08T10:08:56.193541",
     "status": "completed"
    },
    "tags": []
   },
   "outputs": [
    {
     "data": {
      "text/plain": [
       "0.5986842105263158"
      ]
     },
     "execution_count": 57,
     "metadata": {},
     "output_type": "execute_result"
    }
   ],
   "source": [
    "# cheking initial test accuracy # for XGBoost model\n",
    "y_pred = xgb.predict(test_x)\n",
    "predictions = [round(value) for value in pred_yxgb]\n",
    "accuracy = accuracy_score(test_y,predictions)\n",
    "\n",
    "accuracy\n"
   ]
  },
  {
   "cell_type": "code",
   "execution_count": 58,
   "id": "cellular-olympus",
   "metadata": {
    "execution": {
     "iopub.execute_input": "2021-06-08T10:08:56.451471Z",
     "iopub.status.busy": "2021-06-08T10:08:56.450609Z",
     "iopub.status.idle": "2021-06-08T10:08:56.461831Z",
     "shell.execute_reply": "2021-06-08T10:08:56.461333Z",
     "shell.execute_reply.started": "2021-06-08T10:05:49.291085Z"
    },
    "papermill": {
     "duration": 0.0969,
     "end_time": "2021-06-08T10:08:56.461992",
     "exception": false,
     "start_time": "2021-06-08T10:08:56.365092",
     "status": "completed"
    },
    "tags": []
   },
   "outputs": [
    {
     "name": "stdout",
     "output_type": "stream",
     "text": [
      "              precision    recall  f1-score   support\n",
      "\n",
      "           0       0.61      0.65      0.63        80\n",
      "           1       0.58      0.54      0.56        72\n",
      "\n",
      "    accuracy                           0.60       152\n",
      "   macro avg       0.60      0.60      0.60       152\n",
      "weighted avg       0.60      0.60      0.60       152\n",
      "\n"
     ]
    },
    {
     "data": {
      "text/plain": [
       "0.5958333333333332"
      ]
     },
     "execution_count": 58,
     "metadata": {},
     "output_type": "execute_result"
    }
   ],
   "source": [
    "# for XGBoost model\n",
    "predictions = [round(value) for value in y_pred]\n",
    "auc_xgb = roc_auc_score(test_y, predictions)\n",
    "print(classification_report(test_y,predictions))\n",
    "auc_xgb"
   ]
  },
  {
   "cell_type": "code",
   "execution_count": 59,
   "id": "fallen-philippines",
   "metadata": {
    "execution": {
     "iopub.execute_input": "2021-06-08T10:08:56.623541Z",
     "iopub.status.busy": "2021-06-08T10:08:56.622872Z",
     "iopub.status.idle": "2021-06-08T10:08:56.712670Z",
     "shell.execute_reply": "2021-06-08T10:08:56.713272Z",
     "shell.execute_reply.started": "2021-06-08T10:05:49.307319Z"
    },
    "papermill": {
     "duration": 0.172106,
     "end_time": "2021-06-08T10:08:56.713470",
     "exception": false,
     "start_time": "2021-06-08T10:08:56.541364",
     "status": "completed"
    },
    "tags": []
   },
   "outputs": [],
   "source": [
    "from sklearn.preprocessing import StandardScaler\n",
    "from sklearn.feature_selection import VarianceThreshold\n",
    "from sklearn.feature_selection import SelectFromModel\n",
    "from sklearn.model_selection import KFold   #For K-fold cross validation\n",
    "from sklearn.pipeline import Pipeline\n",
    "from sklearn.model_selection import StratifiedKFold\n",
    "from sklearn.model_selection import cross_val_score\n"
   ]
  },
  {
   "cell_type": "code",
   "execution_count": 60,
   "id": "standard-russian",
   "metadata": {
    "execution": {
     "iopub.execute_input": "2021-06-08T10:08:56.884841Z",
     "iopub.status.busy": "2021-06-08T10:08:56.884089Z",
     "iopub.status.idle": "2021-06-08T10:08:56.949132Z",
     "shell.execute_reply": "2021-06-08T10:08:56.948580Z",
     "shell.execute_reply.started": "2021-06-08T10:05:49.399322Z"
    },
    "papermill": {
     "duration": 0.152172,
     "end_time": "2021-06-08T10:08:56.949273",
     "exception": false,
     "start_time": "2021-06-08T10:08:56.797101",
     "status": "completed"
    },
    "tags": []
   },
   "outputs": [],
   "source": [
    "\n",
    "from sklearn.ensemble import RandomForestClassifier\n",
    "from sklearn.tree import DecisionTreeClassifier, export_graphviz\n",
    "from sklearn import metrics\n",
    "from sklearn.svm import SVC\n",
    "\n",
    "#Generic function for making a classification model and accessing performance:\n",
    "def classification_model(model, data, predictors, outcome):\n",
    "  model.fit(data[predictors],data[outcome])\n",
    "  predictions = model.predict(data[predictors])\n",
    "  accuracy = metrics.accuracy_score(predictions,data[outcome])\n",
    "  print('Accuracy : %s' % '{0:.3%}'.format(accuracy))\n",
    "  kf = KFold(data.shape[0], n_folds=7)\n",
    "  error = []\n",
    "  for train, test in kf:\n",
    "    train_predictors = (data[predictors].iloc[train,:])\n",
    "    train_target = data[outcome].iloc[train]\n",
    "    model.fit(train_predictors, train_target)\n",
    "    error.append(model.score(data[predictors].iloc[test,:], data[outcome].iloc[test]))\n",
    " \n",
    "  print('Cross-Validation Score : %s' % '{0:.3%}'.format(np.mean(error)))\n",
    "\n",
    "  model.fit(data[predictors],data[outcome]) "
   ]
  },
  {
   "cell_type": "code",
   "execution_count": 61,
   "id": "judicial-content",
   "metadata": {
    "execution": {
     "iopub.execute_input": "2021-06-08T10:08:57.124760Z",
     "iopub.status.busy": "2021-06-08T10:08:57.123883Z",
     "iopub.status.idle": "2021-06-08T10:08:57.128835Z",
     "shell.execute_reply": "2021-06-08T10:08:57.128265Z",
     "shell.execute_reply.started": "2021-06-08T10:05:49.470504Z"
    },
    "papermill": {
     "duration": 0.097244,
     "end_time": "2021-06-08T10:08:57.128978",
     "exception": false,
     "start_time": "2021-06-08T10:08:57.031734",
     "status": "completed"
    },
    "tags": []
   },
   "outputs": [
    {
     "data": {
      "text/plain": [
       "'model=xgb.XGBRegressor()\\noutcome_var= train_y\\npredictor_var = train_x\\ndf=[train_x, train_y]\\nmodel = LogisticRegression()\\nclassification_model(model, df,predictor_var,outcome_var)'"
      ]
     },
     "execution_count": 61,
     "metadata": {},
     "output_type": "execute_result"
    }
   ],
   "source": [
    "'''model=xgb.XGBRegressor()\n",
    "outcome_var= train_y\n",
    "predictor_var = train_x\n",
    "df=[train_x, train_y]\n",
    "model = LogisticRegression()\n",
    "classification_model(model, df,predictor_var,outcome_var)'''\n"
   ]
  },
  {
   "cell_type": "code",
   "execution_count": 62,
   "id": "painful-burning",
   "metadata": {
    "execution": {
     "iopub.execute_input": "2021-06-08T10:08:57.299677Z",
     "iopub.status.busy": "2021-06-08T10:08:57.298999Z",
     "iopub.status.idle": "2021-06-08T10:08:57.364969Z",
     "shell.execute_reply": "2021-06-08T10:08:57.365455Z",
     "shell.execute_reply.started": "2021-06-08T10:05:49.477985Z"
    },
    "papermill": {
     "duration": 0.155068,
     "end_time": "2021-06-08T10:08:57.365626",
     "exception": false,
     "start_time": "2021-06-08T10:08:57.210558",
     "status": "completed"
    },
    "tags": []
   },
   "outputs": [
    {
     "name": "stdout",
     "output_type": "stream",
     "text": [
      "              precision    recall  f1-score   support\n",
      "\n",
      "           0       0.56      0.97      0.71        80\n",
      "           1       0.83      0.14      0.24        72\n",
      "\n",
      "    accuracy                           0.58       152\n",
      "   macro avg       0.70      0.56      0.47       152\n",
      "weighted avg       0.69      0.58      0.49       152\n",
      "\n",
      "Accuracy of SVM classifier on train set: 0.5811258278145696\n",
      "Accuracy of SVM classifier on test set: 57.8947\n"
     ]
    },
    {
     "name": "stderr",
     "output_type": "stream",
     "text": [
      "/opt/conda/lib/python3.7/site-packages/sklearn/utils/validation.py:63: DataConversionWarning: A column-vector y was passed when a 1d array was expected. Please change the shape of y to (n_samples, ), for example using ravel().\n",
      "  return f(*args, **kwargs)\n"
     ]
    },
    {
     "data": {
      "text/plain": [
       "0.5569444444444445"
      ]
     },
     "execution_count": 62,
     "metadata": {},
     "output_type": "execute_result"
    }
   ],
   "source": [
    "#SVM\n",
    "svm=SVC()\n",
    "svm.fit(train_x,train_y)\n",
    "svm.score(test_x,test_y)\n",
    "y_pred = svm.predict(test_x)\n",
    "predictions = [round(value) for value in y_pred]\n",
    "auc_svc = roc_auc_score(test_y, predictions)\n",
    "#print(confusion_matrix(test_x,y_pred))\n",
    "print(classification_report(test_y,y_pred))\n",
    "print(\"Accuracy of SVM classifier on train set:\", svm.score(train_x,train_y))\n",
    "print('Accuracy of SVM classifier on test set: {:.4f}'.format(svm.score(test_x,test_y)*100))\n",
    "auc_svc"
   ]
  },
  {
   "cell_type": "code",
   "execution_count": 63,
   "id": "several-missile",
   "metadata": {
    "execution": {
     "iopub.execute_input": "2021-06-08T10:08:57.538239Z",
     "iopub.status.busy": "2021-06-08T10:08:57.537587Z",
     "iopub.status.idle": "2021-06-08T10:08:57.557863Z",
     "shell.execute_reply": "2021-06-08T10:08:57.557340Z",
     "shell.execute_reply.started": "2021-06-08T10:05:49.551649Z"
    },
    "papermill": {
     "duration": 0.107311,
     "end_time": "2021-06-08T10:08:57.557995",
     "exception": false,
     "start_time": "2021-06-08T10:08:57.450684",
     "status": "completed"
    },
    "tags": []
   },
   "outputs": [
    {
     "name": "stdout",
     "output_type": "stream",
     "text": [
      "[[56 24]\n",
      " [37 35]]\n",
      "              precision    recall  f1-score   support\n",
      "\n",
      "           0       0.60      0.70      0.65        80\n",
      "           1       0.59      0.49      0.53        72\n",
      "\n",
      "    accuracy                           0.60       152\n",
      "   macro avg       0.60      0.59      0.59       152\n",
      "weighted avg       0.60      0.60      0.59       152\n",
      "\n",
      "Accuracy of Decision Tree classifier on train set: 0.8410596026490066\n",
      "Accuracy of decision tree classifier on test set: 59.8684\n"
     ]
    },
    {
     "data": {
      "text/plain": [
       "0.5930555555555556"
      ]
     },
     "execution_count": 63,
     "metadata": {},
     "output_type": "execute_result"
    }
   ],
   "source": [
    "#Decision Tree Classifier\n",
    "dtree=DecisionTreeClassifier()\n",
    "dtree.fit(train_x,train_y)\n",
    "dtree.score(test_x,test_y)\n",
    "y_pred = dtree.predict(test_x)\n",
    "predictions = [round(value) for value in y_pred]\n",
    "auc_dtree = roc_auc_score(test_y, predictions)\n",
    "print(confusion_matrix(test_y, predictions))\n",
    "print(classification_report(test_y,predictions))\n",
    "print(\"Accuracy of Decision Tree classifier on train set:\", dtree.score(train_x,train_y))\n",
    "print('Accuracy of decision tree classifier on test set: {:.4f}'.format(dtree.score(test_x,test_y)*100))\n",
    "auc_dtree"
   ]
  },
  {
   "cell_type": "code",
   "execution_count": 64,
   "id": "fancy-shannon",
   "metadata": {
    "execution": {
     "iopub.execute_input": "2021-06-08T10:08:57.734425Z",
     "iopub.status.busy": "2021-06-08T10:08:57.729070Z",
     "iopub.status.idle": "2021-06-08T10:08:57.958242Z",
     "shell.execute_reply": "2021-06-08T10:08:57.958724Z",
     "shell.execute_reply.started": "2021-06-08T10:05:49.578459Z"
    },
    "papermill": {
     "duration": 0.320662,
     "end_time": "2021-06-08T10:08:57.958888",
     "exception": false,
     "start_time": "2021-06-08T10:08:57.638226",
     "status": "completed"
    },
    "tags": []
   },
   "outputs": [
    {
     "name": "stderr",
     "output_type": "stream",
     "text": [
      "/opt/conda/lib/python3.7/site-packages/ipykernel_launcher.py:3: DataConversionWarning: A column-vector y was passed when a 1d array was expected. Please change the shape of y to (n_samples,), for example using ravel().\n",
      "  This is separate from the ipykernel package so we can avoid doing imports until\n"
     ]
    },
    {
     "name": "stdout",
     "output_type": "stream",
     "text": [
      "[[54 26]\n",
      " [34 38]]\n",
      "              precision    recall  f1-score   support\n",
      "\n",
      "           0       0.61      0.68      0.64        80\n",
      "           1       0.59      0.53      0.56        72\n",
      "\n",
      "    accuracy                           0.61       152\n",
      "   macro avg       0.60      0.60      0.60       152\n",
      "weighted avg       0.60      0.61      0.60       152\n",
      "\n",
      "Accuracy of Random Forest classifier on train set: 0.8410596026490066\n",
      "Accuracy of Random Forest classifier on test set: 60.5263\n"
     ]
    },
    {
     "data": {
      "text/plain": [
       "0.6013888888888889"
      ]
     },
     "execution_count": 64,
     "metadata": {},
     "output_type": "execute_result"
    }
   ],
   "source": [
    "#Random Forest Classifier\n",
    "clrf=RandomForestClassifier(n_estimators=100)\n",
    "clrf.fit(train_x,train_y)\n",
    "clrf.score(test_x,test_y)\n",
    "y_pred = clrf.predict(test_x)\n",
    "predictions = [round(value) for value in y_pred]\n",
    "auc_clrf = roc_auc_score(test_y, predictions)\n",
    "print(confusion_matrix(test_y, predictions))\n",
    "print(classification_report(test_y,predictions))\n",
    "print(\"Accuracy of Random Forest classifier on train set:\", clrf.score(train_x,train_y))\n",
    "print('Accuracy of Random Forest classifier on test set: {:.4f}'.format(clrf.score(test_x,test_y)*100))\n",
    "auc_clrf"
   ]
  },
  {
   "cell_type": "code",
   "execution_count": 65,
   "id": "waiting-fluid",
   "metadata": {
    "execution": {
     "iopub.execute_input": "2021-06-08T10:08:58.122818Z",
     "iopub.status.busy": "2021-06-08T10:08:58.122225Z",
     "iopub.status.idle": "2021-06-08T10:08:58.215102Z",
     "shell.execute_reply": "2021-06-08T10:08:58.215530Z",
     "shell.execute_reply.started": "2021-06-08T10:05:49.846141Z"
    },
    "papermill": {
     "duration": 0.177062,
     "end_time": "2021-06-08T10:08:58.215689",
     "exception": false,
     "start_time": "2021-06-08T10:08:58.038627",
     "status": "completed"
    },
    "tags": []
   },
   "outputs": [
    {
     "name": "stdout",
     "output_type": "stream",
     "text": [
      "[10:08:58] WARNING: ../src/learner.cc:1095: Starting in XGBoost 1.3.0, the default evaluation metric used with the objective 'binary:logistic' was changed from 'error' to 'logloss'. Explicitly set eval_metric if you'd like to restore the old behavior.\n",
      "[[51 29]\n",
      " [36 36]]\n",
      "              precision    recall  f1-score   support\n",
      "\n",
      "           0       0.59      0.64      0.61        80\n",
      "           1       0.55      0.50      0.53        72\n",
      "\n",
      "    accuracy                           0.57       152\n",
      "   macro avg       0.57      0.57      0.57       152\n",
      "weighted avg       0.57      0.57      0.57       152\n",
      "\n",
      "Accuracy of XBB classifier on train set: 0.8311258278145696\n",
      "Accuracy of XGB classifier on test set: 57.2368\n"
     ]
    },
    {
     "name": "stderr",
     "output_type": "stream",
     "text": [
      "/opt/conda/lib/python3.7/site-packages/xgboost/sklearn.py:1146: UserWarning: The use of label encoder in XGBClassifier is deprecated and will be removed in a future release. To remove this warning, do the following: 1) Pass option use_label_encoder=False when constructing XGBClassifier object; and 2) Encode your labels (y) as integers starting with 0, i.e. 0, 1, 2, ..., [num_class - 1].\n",
      "  warnings.warn(label_encoder_deprecation_msg, UserWarning)\n",
      "/opt/conda/lib/python3.7/site-packages/sklearn/utils/validation.py:63: DataConversionWarning: A column-vector y was passed when a 1d array was expected. Please change the shape of y to (n_samples, ), for example using ravel().\n",
      "  return f(*args, **kwargs)\n"
     ]
    },
    {
     "data": {
      "text/plain": [
       "0.56875"
      ]
     },
     "execution_count": 65,
     "metadata": {},
     "output_type": "execute_result"
    }
   ],
   "source": [
    "#XGB Classifier\n",
    "xgbcl=XGBClassifier()\n",
    "xgbcl.fit(train_x,train_y)\n",
    "xgbcl.score(test_x,test_y)\n",
    "y_pred = xgbcl.predict(test_x)\n",
    "predictions = [round(value) for value in y_pred]\n",
    "auc_xgbcl = roc_auc_score(test_y, predictions)\n",
    "print(confusion_matrix(test_y, predictions))\n",
    "print(classification_report(test_y,predictions))\n",
    "print(\"Accuracy of XBB classifier on train set:\", xgbcl.score(train_x,train_y))\n",
    "print('Accuracy of XGB classifier on test set: {:.4f}'.format(xgbcl.score(test_x,test_y)*100))\n",
    "auc_xgbcl"
   ]
  },
  {
   "cell_type": "markdown",
   "id": "finnish-lecture",
   "metadata": {
    "papermill": {
     "duration": 0.078345,
     "end_time": "2021-06-08T10:08:58.372479",
     "exception": false,
     "start_time": "2021-06-08T10:08:58.294134",
     "status": "completed"
    },
    "tags": []
   },
   "source": [
    "Random forest classifier has increased the predicitive power of our model.Great, let's do some hyperparameter tuning and see if we can increase our accuracy more.\n"
   ]
  },
  {
   "cell_type": "markdown",
   "id": "arctic-artwork",
   "metadata": {
    "papermill": {
     "duration": 0.07861,
     "end_time": "2021-06-08T10:08:58.529793",
     "exception": false,
     "start_time": "2021-06-08T10:08:58.451183",
     "status": "completed"
    },
    "tags": []
   },
   "source": [
    "Hyperparameters of Random forest classifier:\n",
    "bootstrap=True, class_weight=None, criterion='gini', max_depth=None, max_features='auto', max_leaf_nodes=None, min_impurity_decrease=0.0, min_impurity_split=None, min_samples_leaf=1, min_samples_split=2, min_weight_fraction_leaf=0.0, n_estimators=10, n_jobs=None, oob_score=False, random_state=None, verbose=0, warm_start=False\n",
    "\n",
    "Let's now try to tune some hyperparameters using the GridSearchCV algorithm"
   ]
  },
  {
   "cell_type": "code",
   "execution_count": 66,
   "id": "victorian-texture",
   "metadata": {
    "execution": {
     "iopub.execute_input": "2021-06-08T10:08:58.691619Z",
     "iopub.status.busy": "2021-06-08T10:08:58.690956Z",
     "iopub.status.idle": "2021-06-08T10:08:58.695355Z",
     "shell.execute_reply": "2021-06-08T10:08:58.694877Z",
     "shell.execute_reply.started": "2021-06-08T10:05:49.936454Z"
    },
    "papermill": {
     "duration": 0.08731,
     "end_time": "2021-06-08T10:08:58.695483",
     "exception": false,
     "start_time": "2021-06-08T10:08:58.608173",
     "status": "completed"
    },
    "tags": []
   },
   "outputs": [],
   "source": [
    "# we are tuning three hyperparameters right now, we are passing the different values for both parameters\n",
    "grid_param = {\n",
    "    \"n_estimators\" : [90,100,115,130],\n",
    "    'criterion': ['gini', 'entropy'],\n",
    "    'max_depth' : range(2,20,1),\n",
    "    'min_samples_leaf' : range(1,10,1),\n",
    "    'min_samples_split': range(2,10,1),\n",
    "    'max_features' : ['auto','log2']}"
   ]
  },
  {
   "cell_type": "code",
   "execution_count": 67,
   "id": "optional-guinea",
   "metadata": {
    "execution": {
     "iopub.execute_input": "2021-06-08T10:08:58.858896Z",
     "iopub.status.busy": "2021-06-08T10:08:58.858016Z",
     "iopub.status.idle": "2021-06-08T10:08:58.860876Z",
     "shell.execute_reply": "2021-06-08T10:08:58.860414Z",
     "shell.execute_reply.started": "2021-06-08T10:05:49.943820Z"
    },
    "papermill": {
     "duration": 0.086003,
     "end_time": "2021-06-08T10:08:58.861003",
     "exception": false,
     "start_time": "2021-06-08T10:08:58.775000",
     "status": "completed"
    },
    "tags": []
   },
   "outputs": [],
   "source": [
    "grid_search = GridSearchCV(estimator=clrf,param_grid=grid_param,cv=5,n_jobs =-1,verbose = 3)"
   ]
  },
  {
   "cell_type": "code",
   "execution_count": 68,
   "id": "architectural-remedy",
   "metadata": {
    "execution": {
     "iopub.execute_input": "2021-06-08T10:08:59.022343Z",
     "iopub.status.busy": "2021-06-08T10:08:59.021746Z",
     "iopub.status.idle": "2021-06-08T10:08:59.024498Z",
     "shell.execute_reply": "2021-06-08T10:08:59.024065Z",
     "shell.execute_reply.started": "2021-06-08T10:05:49.957427Z"
    },
    "papermill": {
     "duration": 0.085311,
     "end_time": "2021-06-08T10:08:59.024645",
     "exception": false,
     "start_time": "2021-06-08T10:08:58.939334",
     "status": "completed"
    },
    "tags": []
   },
   "outputs": [],
   "source": [
    "#grid_search.fit(train_x,train_y)"
   ]
  },
  {
   "cell_type": "code",
   "execution_count": 69,
   "id": "appreciated-malta",
   "metadata": {
    "execution": {
     "iopub.execute_input": "2021-06-08T10:08:59.191789Z",
     "iopub.status.busy": "2021-06-08T10:08:59.191191Z",
     "iopub.status.idle": "2021-06-08T10:08:59.194154Z",
     "shell.execute_reply": "2021-06-08T10:08:59.193551Z",
     "shell.execute_reply.started": "2021-06-08T10:05:49.973617Z"
    },
    "papermill": {
     "duration": 0.088942,
     "end_time": "2021-06-08T10:08:59.194291",
     "exception": false,
     "start_time": "2021-06-08T10:08:59.105349",
     "status": "completed"
    },
    "tags": []
   },
   "outputs": [],
   "source": [
    "#let's see the best parameters as per our grid search\n",
    "#grid_search.best_params_"
   ]
  },
  {
   "cell_type": "code",
   "execution_count": 70,
   "id": "false-instruction",
   "metadata": {
    "execution": {
     "iopub.execute_input": "2021-06-08T10:08:59.357879Z",
     "iopub.status.busy": "2021-06-08T10:08:59.357278Z",
     "iopub.status.idle": "2021-06-08T10:08:59.360305Z",
     "shell.execute_reply": "2021-06-08T10:08:59.359795Z",
     "shell.execute_reply.started": "2021-06-08T10:05:49.985680Z"
    },
    "papermill": {
     "duration": 0.086767,
     "end_time": "2021-06-08T10:08:59.360439",
     "exception": false,
     "start_time": "2021-06-08T10:08:59.273672",
     "status": "completed"
    },
    "tags": []
   },
   "outputs": [],
   "source": [
    "rand_clf = RandomForestClassifier(criterion= 'entropy',\n",
    " max_depth = 10,\n",
    " max_features = 'auto',\n",
    " min_samples_leaf = 1,\n",
    " min_samples_split= 5,\n",
    " n_estimators = 500,random_state=6)"
   ]
  },
  {
   "cell_type": "code",
   "execution_count": 71,
   "id": "earlier-warner",
   "metadata": {
    "execution": {
     "iopub.execute_input": "2021-06-08T10:08:59.532498Z",
     "iopub.status.busy": "2021-06-08T10:08:59.531287Z",
     "iopub.status.idle": "2021-06-08T10:09:00.292821Z",
     "shell.execute_reply": "2021-06-08T10:09:00.291911Z",
     "shell.execute_reply.started": "2021-06-08T10:05:49.998667Z"
    },
    "papermill": {
     "duration": 0.852774,
     "end_time": "2021-06-08T10:09:00.292973",
     "exception": false,
     "start_time": "2021-06-08T10:08:59.440199",
     "status": "completed"
    },
    "tags": []
   },
   "outputs": [
    {
     "name": "stderr",
     "output_type": "stream",
     "text": [
      "/opt/conda/lib/python3.7/site-packages/ipykernel_launcher.py:1: DataConversionWarning: A column-vector y was passed when a 1d array was expected. Please change the shape of y to (n_samples,), for example using ravel().\n",
      "  \"\"\"Entry point for launching an IPython kernel.\n"
     ]
    },
    {
     "data": {
      "text/plain": [
       "RandomForestClassifier(criterion='entropy', max_depth=10, min_samples_split=5,\n",
       "                       n_estimators=500, random_state=6)"
      ]
     },
     "execution_count": 71,
     "metadata": {},
     "output_type": "execute_result"
    }
   ],
   "source": [
    "rand_clf.fit(train_x,train_y)"
   ]
  },
  {
   "cell_type": "code",
   "execution_count": 72,
   "id": "suspected-trauma",
   "metadata": {
    "execution": {
     "iopub.execute_input": "2021-06-08T10:09:00.467145Z",
     "iopub.status.busy": "2021-06-08T10:09:00.466403Z",
     "iopub.status.idle": "2021-06-08T10:09:00.523394Z",
     "shell.execute_reply": "2021-06-08T10:09:00.522866Z",
     "shell.execute_reply.started": "2021-06-08T10:05:50.771745Z"
    },
    "papermill": {
     "duration": 0.14605,
     "end_time": "2021-06-08T10:09:00.523547",
     "exception": false,
     "start_time": "2021-06-08T10:09:00.377497",
     "status": "completed"
    },
    "tags": []
   },
   "outputs": [
    {
     "data": {
      "text/plain": [
       "0.6381578947368421"
      ]
     },
     "execution_count": 72,
     "metadata": {},
     "output_type": "execute_result"
    }
   ],
   "source": [
    "rand_clf.score(test_x,test_y)"
   ]
  },
  {
   "cell_type": "code",
   "execution_count": 73,
   "id": "inappropriate-completion",
   "metadata": {
    "execution": {
     "iopub.execute_input": "2021-06-08T10:09:00.696111Z",
     "iopub.status.busy": "2021-06-08T10:09:00.695457Z",
     "iopub.status.idle": "2021-06-08T10:09:00.745324Z",
     "shell.execute_reply": "2021-06-08T10:09:00.744582Z",
     "shell.execute_reply.started": "2021-06-08T10:05:50.836505Z"
    },
    "papermill": {
     "duration": 0.13892,
     "end_time": "2021-06-08T10:09:00.745565",
     "exception": false,
     "start_time": "2021-06-08T10:09:00.606645",
     "status": "completed"
    },
    "tags": []
   },
   "outputs": [
    {
     "name": "stdout",
     "output_type": "stream",
     "text": [
      "[0 0 1 0 0 1 0 0 0 0 0 0 0 0 0 0 0 0 0 0 0 0 0 0 0 0 0 0 0 0 0 0 1 0 0 0 0\n",
      " 0 1 0 0 0 0 0 0 0 0 1 0 0 0 0 0 0 0 0 0 0 0 0]\n"
     ]
    }
   ],
   "source": [
    "# For data from 2020 IPL\n",
    "pred = rand_clf.predict(testdata)\n",
    "print(pred)\n",
    "testdata = testdata.replace([0,1,2,3,4,5,6,7], ['CSK', 'RCB', 'DC', 'MI', 'KKR', 'RR', 'KXIP', 'SRH'])#{0:'CSK', 1:'RCB', 2:'DC', 3:'MI',4: 'KKR', 5:'RR', 6:'KXIP', 7:'SRH'})\n",
    "#testdata['team2'] = testdata['team2'].map({'CSK':0, 'RCB':1, 'DC':2, 'MI':3, 'KKR':4, 'RR':5, 'KXIP':6, 'SRH':7})\n",
    "winner = []\n",
    "for i in range(len(pred)):\n",
    "    if pred[i] == 0:\n",
    "        winner.append(testdata['team1'][i])\n",
    "        \n",
    "    else:  \n",
    "        winner.append(testdata['team2'][i])\n",
    "    "
   ]
  },
  {
   "cell_type": "code",
   "execution_count": 74,
   "id": "induced-charm",
   "metadata": {
    "execution": {
     "iopub.execute_input": "2021-06-08T10:09:00.915957Z",
     "iopub.status.busy": "2021-06-08T10:09:00.915296Z",
     "iopub.status.idle": "2021-06-08T10:09:00.918272Z",
     "shell.execute_reply": "2021-06-08T10:09:00.918654Z",
     "shell.execute_reply.started": "2021-06-08T10:05:50.896226Z"
    },
    "papermill": {
     "duration": 0.090009,
     "end_time": "2021-06-08T10:09:00.918829",
     "exception": false,
     "start_time": "2021-06-08T10:09:00.828820",
     "status": "completed"
    },
    "tags": []
   },
   "outputs": [
    {
     "data": {
      "text/plain": [
       "['MI',\n",
       " 'DC',\n",
       " 'RCB',\n",
       " 'RR',\n",
       " 'KKR',\n",
       " 'RCB',\n",
       " 'CSK',\n",
       " 'KKR',\n",
       " 'RR',\n",
       " 'RCB',\n",
       " 'DC',\n",
       " 'RR',\n",
       " 'KXIP',\n",
       " 'CSK',\n",
       " 'RCB',\n",
       " 'DC',\n",
       " 'MI',\n",
       " 'KXIP',\n",
       " 'RCB',\n",
       " 'MI',\n",
       " 'KKR',\n",
       " 'SRH',\n",
       " 'RR',\n",
       " 'KXIP',\n",
       " 'CSK',\n",
       " 'SRH',\n",
       " 'MI',\n",
       " 'RCB',\n",
       " 'SRH',\n",
       " 'DC',\n",
       " 'RCB',\n",
       " 'MI',\n",
       " 'RCB',\n",
       " 'DC',\n",
       " 'SRH',\n",
       " 'MI',\n",
       " 'CSK',\n",
       " 'KXIP',\n",
       " 'RCB',\n",
       " 'RR',\n",
       " 'CSK',\n",
       " 'KKR',\n",
       " 'KXIP',\n",
       " 'RCB',\n",
       " 'RR',\n",
       " 'KKR',\n",
       " 'SRH',\n",
       " 'RCB',\n",
       " 'CSK',\n",
       " 'KXIP',\n",
       " 'DC',\n",
       " 'RCB',\n",
       " 'CSK',\n",
       " 'KKR',\n",
       " 'DC',\n",
       " 'SRH',\n",
       " 'DC',\n",
       " 'RCB',\n",
       " 'DC',\n",
       " 'DC']"
      ]
     },
     "execution_count": 74,
     "metadata": {},
     "output_type": "execute_result"
    }
   ],
   "source": [
    "\n",
    "winner"
   ]
  },
  {
   "cell_type": "code",
   "execution_count": 75,
   "id": "legal-trinidad",
   "metadata": {
    "execution": {
     "iopub.execute_input": "2021-06-08T10:09:01.087613Z",
     "iopub.status.busy": "2021-06-08T10:09:01.086966Z",
     "iopub.status.idle": "2021-06-08T10:09:01.092315Z",
     "shell.execute_reply": "2021-06-08T10:09:01.092818Z",
     "shell.execute_reply.started": "2021-06-08T10:05:50.904562Z"
    },
    "papermill": {
     "duration": 0.08927,
     "end_time": "2021-06-08T10:09:01.092991",
     "exception": false,
     "start_time": "2021-06-08T10:09:01.003721",
     "status": "completed"
    },
    "tags": []
   },
   "outputs": [],
   "source": [
    "'''winner = list()\n",
    "for i in range(len(pred)):\n",
    "    if pred[i] == 0:\n",
    "Winner.append(Test['team1'][i])\n",
    "        \n",
    "    else:\n",
    "        Winner.append(Test['team2'][i])\n",
    "\n",
    "F_Winner=[]'''\n",
    "\n",
    "for i in winner:\n",
    "    if i==0:\n",
    "        print('CSK')\n",
    "    elif i==1:\n",
    "        print('RCB')\n",
    "    elif i==2:\n",
    "        print('DC')\n",
    "    elif i==3:\n",
    "        print('MI')\n",
    "    elif i==4:\n",
    "        print('KKR')\n",
    "    elif i==5:\n",
    "        print('RR')\n",
    "    elif i==6:\n",
    "        print('KXIP') \n",
    "    elif i==7:\n",
    "        print('SRH')\n"
   ]
  },
  {
   "cell_type": "code",
   "execution_count": 76,
   "id": "transparent-stocks",
   "metadata": {
    "execution": {
     "iopub.execute_input": "2021-06-08T10:09:01.264020Z",
     "iopub.status.busy": "2021-06-08T10:09:01.263407Z",
     "iopub.status.idle": "2021-06-08T10:09:01.268887Z",
     "shell.execute_reply": "2021-06-08T10:09:01.268368Z",
     "shell.execute_reply.started": "2021-06-08T10:05:50.913740Z"
    },
    "papermill": {
     "duration": 0.093342,
     "end_time": "2021-06-08T10:09:01.269043",
     "exception": false,
     "start_time": "2021-06-08T10:09:01.175701",
     "status": "completed"
    },
    "tags": []
   },
   "outputs": [],
   "source": [
    "final_submission = {\"id\":matches_testdata.id.tolist(), \n",
    "              \"winner\":winner}\n",
    "submit = pd.DataFrame(final_submission)"
   ]
  },
  {
   "cell_type": "code",
   "execution_count": 77,
   "id": "forty-samba",
   "metadata": {
    "execution": {
     "iopub.execute_input": "2021-06-08T10:09:01.441271Z",
     "iopub.status.busy": "2021-06-08T10:09:01.440614Z",
     "iopub.status.idle": "2021-06-08T10:09:01.448079Z",
     "shell.execute_reply": "2021-06-08T10:09:01.448667Z",
     "shell.execute_reply.started": "2021-06-08T10:05:50.926856Z"
    },
    "papermill": {
     "duration": 0.096831,
     "end_time": "2021-06-08T10:09:01.448841",
     "exception": false,
     "start_time": "2021-06-08T10:09:01.352010",
     "status": "completed"
    },
    "tags": []
   },
   "outputs": [],
   "source": [
    "# Converting the output to CSV file\n",
    "submit.to_csv(\"submit.csv\", index=False)"
   ]
  },
  {
   "cell_type": "code",
   "execution_count": 78,
   "id": "proud-spirit",
   "metadata": {
    "execution": {
     "iopub.execute_input": "2021-06-08T10:09:01.625951Z",
     "iopub.status.busy": "2021-06-08T10:09:01.624878Z",
     "iopub.status.idle": "2021-06-08T10:09:02.218111Z",
     "shell.execute_reply": "2021-06-08T10:09:02.217367Z",
     "shell.execute_reply.started": "2021-06-08T10:05:50.940375Z"
    },
    "papermill": {
     "duration": 0.678851,
     "end_time": "2021-06-08T10:09:02.218262",
     "exception": false,
     "start_time": "2021-06-08T10:09:01.539411",
     "status": "completed"
    },
    "tags": []
   },
   "outputs": [],
   "source": [
    "deliveries = pd.read_csv('../input/winnerpredictionchallenge/Traning Deliveries Matches IPL 2008-2019.csv')"
   ]
  },
  {
   "cell_type": "markdown",
   "id": "southern-queen",
   "metadata": {
    "papermill": {
     "duration": 0.081132,
     "end_time": "2021-06-08T10:09:02.385938",
     "exception": false,
     "start_time": "2021-06-08T10:09:02.304806",
     "status": "completed"
    },
    "tags": []
   },
   "source": [
    "# Data pre-processing\n"
   ]
  },
  {
   "cell_type": "markdown",
   "id": "wanted-details",
   "metadata": {
    "papermill": {
     "duration": 0.084341,
     "end_time": "2021-06-08T10:09:02.551510",
     "exception": false,
     "start_time": "2021-06-08T10:09:02.467169",
     "status": "completed"
    },
    "tags": []
   },
   "source": [
    "Dropping unwanted parameters from deliveries."
   ]
  },
  {
   "cell_type": "code",
   "execution_count": 79,
   "id": "focused-front",
   "metadata": {
    "execution": {
     "iopub.execute_input": "2021-06-08T10:09:02.716258Z",
     "iopub.status.busy": "2021-06-08T10:09:02.715386Z",
     "iopub.status.idle": "2021-06-08T10:09:02.736907Z",
     "shell.execute_reply": "2021-06-08T10:09:02.736454Z",
     "shell.execute_reply.started": "2021-06-08T10:05:51.426062Z"
    },
    "papermill": {
     "duration": 0.10474,
     "end_time": "2021-06-08T10:09:02.737062",
     "exception": false,
     "start_time": "2021-06-08T10:09:02.632322",
     "status": "completed"
    },
    "tags": []
   },
   "outputs": [],
   "source": [
    "deliveries.drop([\"over\",\"ball\",\"non_striker\",\"is_super_over\",\"wide_runs\",\"bye_runs\",\n",
    "                 \"legbye_runs\",\"noball_runs\",\"penalty_runs\",\"extra_runs\",\n",
    "                 \"total_runs\",\"dismissal_kind\"],axis = 1,inplace = True)"
   ]
  },
  {
   "cell_type": "code",
   "execution_count": 80,
   "id": "returning-release",
   "metadata": {
    "execution": {
     "iopub.execute_input": "2021-06-08T10:09:02.913906Z",
     "iopub.status.busy": "2021-06-08T10:09:02.910019Z",
     "iopub.status.idle": "2021-06-08T10:09:02.958848Z",
     "shell.execute_reply": "2021-06-08T10:09:02.958286Z",
     "shell.execute_reply.started": "2021-06-08T10:05:51.449408Z"
    },
    "papermill": {
     "duration": 0.141531,
     "end_time": "2021-06-08T10:09:02.958985",
     "exception": false,
     "start_time": "2021-06-08T10:09:02.817454",
     "status": "completed"
    },
    "tags": []
   },
   "outputs": [],
   "source": [
    "deliveries[\"player_dismissed\"] = deliveries[\"player_dismissed\"].fillna(0)\n",
    "deliveries[\"player_dismissed\"] = np.where(deliveries[\"player_dismissed\"] == 0 ,0,1)\n",
    "deliveries[\"catch\"] = deliveries[\"fielder\"]\n",
    "deliveries[\"catch\"] = deliveries[\"catch\"].fillna(0)\n",
    "deliveries[\"catch\"] = np.where(deliveries[\"catch\"] == 0 ,0,1)\n"
   ]
  },
  {
   "cell_type": "code",
   "execution_count": 81,
   "id": "exciting-philadelphia",
   "metadata": {
    "execution": {
     "iopub.execute_input": "2021-06-08T10:09:03.130812Z",
     "iopub.status.busy": "2021-06-08T10:09:03.129658Z",
     "iopub.status.idle": "2021-06-08T10:09:03.144651Z",
     "shell.execute_reply": "2021-06-08T10:09:03.144118Z",
     "shell.execute_reply.started": "2021-06-08T10:05:51.519981Z"
    },
    "papermill": {
     "duration": 0.102474,
     "end_time": "2021-06-08T10:09:03.144798",
     "exception": false,
     "start_time": "2021-06-08T10:09:03.042324",
     "status": "completed"
    },
    "tags": []
   },
   "outputs": [],
   "source": [
    "deliveries[\"batsman_extra_score\"] = deliveries[\"batsman_runs\"]\n",
    "deliveries[\"batsman_extra_score\"] = deliveries[\"batsman_extra_score\"].replace(1,0)\n",
    "deliveries[\"batsman_extra_score\"] = deliveries[\"batsman_extra_score\"].replace(2,0)\n",
    "deliveries[\"batsman_extra_score\"] = deliveries[\"batsman_extra_score\"].replace(3,0)\n",
    "deliveries[\"batsman_extra_score\"] = deliveries[\"batsman_extra_score\"].replace(5,0)\n",
    "deliveries[\"batsman_extra_score\"] = deliveries[\"batsman_extra_score\"].replace(4,1)\n",
    "deliveries[\"batsman_extra_score\"] = deliveries[\"batsman_extra_score\"].replace(6,2)"
   ]
  },
  {
   "cell_type": "code",
   "execution_count": 82,
   "id": "sharing-fossil",
   "metadata": {
    "execution": {
     "iopub.execute_input": "2021-06-08T10:09:03.321733Z",
     "iopub.status.busy": "2021-06-08T10:09:03.313718Z",
     "iopub.status.idle": "2021-06-08T10:09:03.325436Z",
     "shell.execute_reply": "2021-06-08T10:09:03.324912Z",
     "shell.execute_reply.started": "2021-06-08T10:05:51.540867Z"
    },
    "papermill": {
     "duration": 0.098333,
     "end_time": "2021-06-08T10:09:03.325571",
     "exception": false,
     "start_time": "2021-06-08T10:09:03.227238",
     "status": "completed"
    },
    "tags": []
   },
   "outputs": [
    {
     "data": {
      "text/html": [
       "<div>\n",
       "<style scoped>\n",
       "    .dataframe tbody tr th:only-of-type {\n",
       "        vertical-align: middle;\n",
       "    }\n",
       "\n",
       "    .dataframe tbody tr th {\n",
       "        vertical-align: top;\n",
       "    }\n",
       "\n",
       "    .dataframe thead th {\n",
       "        text-align: right;\n",
       "    }\n",
       "</style>\n",
       "<table border=\"1\" class=\"dataframe\">\n",
       "  <thead>\n",
       "    <tr style=\"text-align: right;\">\n",
       "      <th></th>\n",
       "      <th>match_id</th>\n",
       "      <th>inning</th>\n",
       "      <th>batting_team</th>\n",
       "      <th>bowling_team</th>\n",
       "      <th>batsman</th>\n",
       "      <th>bowler</th>\n",
       "      <th>batsman_runs</th>\n",
       "      <th>player_dismissed</th>\n",
       "      <th>fielder</th>\n",
       "      <th>catch</th>\n",
       "      <th>batsman_extra_score</th>\n",
       "    </tr>\n",
       "  </thead>\n",
       "  <tbody>\n",
       "    <tr>\n",
       "      <th>0</th>\n",
       "      <td>1</td>\n",
       "      <td>1</td>\n",
       "      <td>Sunrisers Hyderabad</td>\n",
       "      <td>Royal Challengers Bangalore</td>\n",
       "      <td>DA Warner</td>\n",
       "      <td>TS Mills</td>\n",
       "      <td>0</td>\n",
       "      <td>0</td>\n",
       "      <td>NaN</td>\n",
       "      <td>0</td>\n",
       "      <td>0</td>\n",
       "    </tr>\n",
       "    <tr>\n",
       "      <th>1</th>\n",
       "      <td>1</td>\n",
       "      <td>1</td>\n",
       "      <td>Sunrisers Hyderabad</td>\n",
       "      <td>Royal Challengers Bangalore</td>\n",
       "      <td>DA Warner</td>\n",
       "      <td>TS Mills</td>\n",
       "      <td>0</td>\n",
       "      <td>0</td>\n",
       "      <td>NaN</td>\n",
       "      <td>0</td>\n",
       "      <td>0</td>\n",
       "    </tr>\n",
       "    <tr>\n",
       "      <th>2</th>\n",
       "      <td>1</td>\n",
       "      <td>1</td>\n",
       "      <td>Sunrisers Hyderabad</td>\n",
       "      <td>Royal Challengers Bangalore</td>\n",
       "      <td>DA Warner</td>\n",
       "      <td>TS Mills</td>\n",
       "      <td>4</td>\n",
       "      <td>0</td>\n",
       "      <td>NaN</td>\n",
       "      <td>0</td>\n",
       "      <td>1</td>\n",
       "    </tr>\n",
       "    <tr>\n",
       "      <th>3</th>\n",
       "      <td>1</td>\n",
       "      <td>1</td>\n",
       "      <td>Sunrisers Hyderabad</td>\n",
       "      <td>Royal Challengers Bangalore</td>\n",
       "      <td>DA Warner</td>\n",
       "      <td>TS Mills</td>\n",
       "      <td>0</td>\n",
       "      <td>0</td>\n",
       "      <td>NaN</td>\n",
       "      <td>0</td>\n",
       "      <td>0</td>\n",
       "    </tr>\n",
       "    <tr>\n",
       "      <th>4</th>\n",
       "      <td>1</td>\n",
       "      <td>1</td>\n",
       "      <td>Sunrisers Hyderabad</td>\n",
       "      <td>Royal Challengers Bangalore</td>\n",
       "      <td>DA Warner</td>\n",
       "      <td>TS Mills</td>\n",
       "      <td>0</td>\n",
       "      <td>0</td>\n",
       "      <td>NaN</td>\n",
       "      <td>0</td>\n",
       "      <td>0</td>\n",
       "    </tr>\n",
       "  </tbody>\n",
       "</table>\n",
       "</div>"
      ],
      "text/plain": [
       "   match_id  inning         batting_team                 bowling_team  \\\n",
       "0         1       1  Sunrisers Hyderabad  Royal Challengers Bangalore   \n",
       "1         1       1  Sunrisers Hyderabad  Royal Challengers Bangalore   \n",
       "2         1       1  Sunrisers Hyderabad  Royal Challengers Bangalore   \n",
       "3         1       1  Sunrisers Hyderabad  Royal Challengers Bangalore   \n",
       "4         1       1  Sunrisers Hyderabad  Royal Challengers Bangalore   \n",
       "\n",
       "     batsman    bowler  batsman_runs  player_dismissed fielder  catch  \\\n",
       "0  DA Warner  TS Mills             0                 0     NaN      0   \n",
       "1  DA Warner  TS Mills             0                 0     NaN      0   \n",
       "2  DA Warner  TS Mills             4                 0     NaN      0   \n",
       "3  DA Warner  TS Mills             0                 0     NaN      0   \n",
       "4  DA Warner  TS Mills             0                 0     NaN      0   \n",
       "\n",
       "   batsman_extra_score  \n",
       "0                    0  \n",
       "1                    0  \n",
       "2                    1  \n",
       "3                    0  \n",
       "4                    0  "
      ]
     },
     "execution_count": 82,
     "metadata": {},
     "output_type": "execute_result"
    }
   ],
   "source": [
    "deliveries.head()"
   ]
  },
  {
   "cell_type": "code",
   "execution_count": 83,
   "id": "southwest-brisbane",
   "metadata": {
    "execution": {
     "iopub.execute_input": "2021-06-08T10:09:03.491351Z",
     "iopub.status.busy": "2021-06-08T10:09:03.490739Z",
     "iopub.status.idle": "2021-06-08T10:09:03.807110Z",
     "shell.execute_reply": "2021-06-08T10:09:03.806562Z",
     "shell.execute_reply.started": "2021-06-08T10:05:51.556020Z"
    },
    "papermill": {
     "duration": 0.399254,
     "end_time": "2021-06-08T10:09:03.807246",
     "exception": false,
     "start_time": "2021-06-08T10:09:03.407992",
     "status": "completed"
    },
    "tags": []
   },
   "outputs": [],
   "source": [
    "deliveries.replace(['Mumbai Indians','Kolkata Knight Riders','Royal Challengers Bangalore','Deccan Chargers','Chennai Super Kings',\n",
    "                 'Rajasthan Royals','Delhi Daredevils','Gujarat Lions','Kings XI Punjab','Delhi Capitals' ,\n",
    "                 'Sunrisers Hyderabad','Rising Pune Supergiants','Rising Pune Supergiant','Kochi Tuskers Kerala','Pune Warriors']\n",
    "                ,['MI','KKR','RCB','DC','CSK','RR','DD','GL','KXIP','DD','SRH','RPS','RPS','KTK','PW'],inplace=True)"
   ]
  },
  {
   "cell_type": "code",
   "execution_count": 84,
   "id": "victorian-stability",
   "metadata": {
    "execution": {
     "iopub.execute_input": "2021-06-08T10:09:03.986057Z",
     "iopub.status.busy": "2021-06-08T10:09:03.985118Z",
     "iopub.status.idle": "2021-06-08T10:09:09.053993Z",
     "shell.execute_reply": "2021-06-08T10:09:09.053487Z",
     "shell.execute_reply.started": "2021-06-08T10:05:51.869728Z"
    },
    "papermill": {
     "duration": 5.16699,
     "end_time": "2021-06-08T10:09:09.054139",
     "exception": false,
     "start_time": "2021-06-08T10:09:03.887149",
     "status": "completed"
    },
    "tags": []
   },
   "outputs": [],
   "source": [
    "\n",
    "batsman = deliveries.batsman.unique()\n",
    "batsman.sort()\n",
    "bowler = deliveries.bowler.unique()\n",
    "bowler.sort()\n",
    "\n",
    "corrected_batsman = []\n",
    "for b in batsman:\n",
    "    new = b[0]\n",
    "    for i in range(len(b)):\n",
    "        if b[i] == \" \":\n",
    "            new = new + b[i:]\n",
    "    corrected_batsman.append(new)\n",
    "\n",
    "corrected_bowler = []\n",
    "for b in bowler:\n",
    "    new = b[0]\n",
    "    for i in range(len(b)):\n",
    "        if b[i] == \" \":\n",
    "            new = new + b[i:]\n",
    "    corrected_bowler.append(new)\n",
    "    \n",
    "for i in range(len(batsman)):\n",
    "    deliveries[\"batsman\"] = deliveries[\"batsman\"].replace(batsman[i],corrected_batsman[i])\n",
    "\n",
    "for i in range(len(bowler)):\n",
    "    deliveries[\"bowler\"] = deliveries[\"bowler\"].replace(bowler[i],corrected_bowler[i])"
   ]
  },
  {
   "cell_type": "markdown",
   "id": "narrow-headline",
   "metadata": {
    "papermill": {
     "duration": 0.083019,
     "end_time": "2021-06-08T10:09:09.219904",
     "exception": false,
     "start_time": "2021-06-08T10:09:09.136885",
     "status": "completed"
    },
    "tags": []
   },
   "source": [
    "# Defining function for calculating Player_value"
   ]
  },
  {
   "cell_type": "code",
   "execution_count": 85,
   "id": "exterior-discussion",
   "metadata": {
    "execution": {
     "iopub.execute_input": "2021-06-08T10:09:09.393777Z",
     "iopub.status.busy": "2021-06-08T10:09:09.393127Z",
     "iopub.status.idle": "2021-06-08T10:09:09.395194Z",
     "shell.execute_reply": "2021-06-08T10:09:09.395587Z",
     "shell.execute_reply.started": "2021-06-08T10:05:56.719277Z"
    },
    "papermill": {
     "duration": 0.092174,
     "end_time": "2021-06-08T10:09:09.395756",
     "exception": false,
     "start_time": "2021-06-08T10:09:09.303582",
     "status": "completed"
    },
    "tags": []
   },
   "outputs": [],
   "source": [
    "def Player_value(player,match):\n",
    "    df_1 = deliveries.query(\"match_id == '%s'\"%match).query(\"batsman == '%s'\"%player)\n",
    "    score = sum(df_1[\"batsman_runs\"])\n",
    "    if score == 0:\n",
    "        score += -2\n",
    "    if score >= 50 and score < 100:\n",
    "        score += 8\n",
    "    if score >= 100:\n",
    "        score += 16\n",
    "    score += sum(df_1[\"batsman_extra_score\"])\n",
    "    \n",
    "    df_2 = deliveries.query(\"match_id == '%s'\"%match).query(\"bowler == '%s'\"%player)\n",
    "    if sum(df_2[\"player_dismissed\"]) == 4:\n",
    "        score += 8\n",
    "    if sum(df_2[\"player_dismissed\"]) >= 5:\n",
    "        score += 16\n",
    "    score += sum(df_2[\"player_dismissed\"])*25\n",
    "    \n",
    "    df_3 = deliveries.query(\"match_id == '%s'\"%match).query(\"fielder == '%s'\"%player)\n",
    "    score += sum(df_3[\"catch\"])*8\n",
    "    \n",
    "    if df_1.shape[0] == 0 and df_2.shape[0] == 0 and df_3.shape[0] == 0:\n",
    "        return 0\n",
    "    \n",
    "    return score"
   ]
  },
  {
   "cell_type": "markdown",
   "id": "asian-interference",
   "metadata": {
    "papermill": {
     "duration": 0.081123,
     "end_time": "2021-06-08T10:09:09.559205",
     "exception": false,
     "start_time": "2021-06-08T10:09:09.478082",
     "status": "completed"
    },
    "tags": []
   },
   "source": [
    "# Creating Dataset for teams' scores"
   ]
  },
  {
   "cell_type": "code",
   "execution_count": 86,
   "id": "statutory-growth",
   "metadata": {
    "execution": {
     "iopub.execute_input": "2021-06-08T10:09:09.733312Z",
     "iopub.status.busy": "2021-06-08T10:09:09.732371Z",
     "iopub.status.idle": "2021-06-08T10:09:53.266858Z",
     "shell.execute_reply": "2021-06-08T10:09:53.266240Z",
     "shell.execute_reply.started": "2021-06-08T10:05:56.728411Z"
    },
    "papermill": {
     "duration": 43.619562,
     "end_time": "2021-06-08T10:09:53.267000",
     "exception": false,
     "start_time": "2021-06-08T10:09:09.647438",
     "status": "completed"
    },
    "tags": []
   },
   "outputs": [],
   "source": [
    "match_id = deliveries.match_id.unique()\n",
    "\n",
    "Scores = pd.DataFrame(columns = [\"id\",\"team1_bats_score\",\"team1_bowl_score\",\"team2_bats_score\",\"team2_bowl_score\"])\n",
    "\n",
    "for i in match_id:\n",
    "    bowler_1 = deliveries.query(\"match_id == '%s'\"%i).query(\"inning == 2\").bowler.unique()\n",
    "    bowler_2 = deliveries.query(\"match_id == '%s'\"%i).query(\"inning == 1\").bowler.unique()\n",
    "    bats_1 = deliveries.query(\"match_id == '%s'\"%i).query(\"inning == 1\").batsman.unique()\n",
    "    bats_2 = deliveries.query(\"match_id == '%s'\"%i).query(\"inning == 2\").batsman.unique()\n",
    "    \n",
    "    team1_bowl_score = 0\n",
    "    team2_bowl_score = 0\n",
    "    team1_bats_score = 0\n",
    "    team2_bats_score = 0\n",
    "    \n",
    "    for p in bowler_1:\n",
    "        team1_bowl_score += Player_value(p,i)\n",
    "        \n",
    "    for p in bowler_2:\n",
    "        team2_bowl_score += Player_value(p,i)\n",
    "    \n",
    "    for p in bats_1:\n",
    "        team1_bats_score += Player_value(p,i)\n",
    "        \n",
    "    for p in bats_2:\n",
    "        team2_bats_score += Player_value(p,i)\n",
    "        \n",
    "    Scores = Scores.append({\"id\":i,\"team1_bats_score\":team1_bats_score,\n",
    "                            \"team1_bowl_score\":team1_bowl_score,\n",
    "                            \"team2_bats_score\":team2_bats_score,\n",
    "                            \"team2_bowl_score\":team2_bowl_score},  ignore_index = True)\n",
    "    \n"
   ]
  },
  {
   "cell_type": "code",
   "execution_count": 87,
   "id": "perfect-kernel",
   "metadata": {
    "execution": {
     "iopub.execute_input": "2021-06-08T10:09:53.441054Z",
     "iopub.status.busy": "2021-06-08T10:09:53.440245Z",
     "iopub.status.idle": "2021-06-08T10:09:53.444258Z",
     "shell.execute_reply": "2021-06-08T10:09:53.443714Z",
     "shell.execute_reply.started": "2021-06-08T10:06:37.497645Z"
    },
    "papermill": {
     "duration": 0.095821,
     "end_time": "2021-06-08T10:09:53.444403",
     "exception": false,
     "start_time": "2021-06-08T10:09:53.348582",
     "status": "completed"
    },
    "tags": []
   },
   "outputs": [
    {
     "data": {
      "text/html": [
       "<div>\n",
       "<style scoped>\n",
       "    .dataframe tbody tr th:only-of-type {\n",
       "        vertical-align: middle;\n",
       "    }\n",
       "\n",
       "    .dataframe tbody tr th {\n",
       "        vertical-align: top;\n",
       "    }\n",
       "\n",
       "    .dataframe thead th {\n",
       "        text-align: right;\n",
       "    }\n",
       "</style>\n",
       "<table border=\"1\" class=\"dataframe\">\n",
       "  <thead>\n",
       "    <tr style=\"text-align: right;\">\n",
       "      <th></th>\n",
       "      <th>id</th>\n",
       "      <th>team1_bats_score</th>\n",
       "      <th>team1_bowl_score</th>\n",
       "      <th>team2_bats_score</th>\n",
       "      <th>team2_bowl_score</th>\n",
       "    </tr>\n",
       "  </thead>\n",
       "  <tbody>\n",
       "    <tr>\n",
       "      <th>0</th>\n",
       "      <td>1</td>\n",
       "      <td>0</td>\n",
       "      <td>0</td>\n",
       "      <td>0</td>\n",
       "      <td>0</td>\n",
       "    </tr>\n",
       "    <tr>\n",
       "      <th>1</th>\n",
       "      <td>2</td>\n",
       "      <td>0</td>\n",
       "      <td>0</td>\n",
       "      <td>0</td>\n",
       "      <td>0</td>\n",
       "    </tr>\n",
       "    <tr>\n",
       "      <th>2</th>\n",
       "      <td>3</td>\n",
       "      <td>0</td>\n",
       "      <td>0</td>\n",
       "      <td>0</td>\n",
       "      <td>0</td>\n",
       "    </tr>\n",
       "    <tr>\n",
       "      <th>3</th>\n",
       "      <td>4</td>\n",
       "      <td>0</td>\n",
       "      <td>0</td>\n",
       "      <td>0</td>\n",
       "      <td>0</td>\n",
       "    </tr>\n",
       "    <tr>\n",
       "      <th>4</th>\n",
       "      <td>5</td>\n",
       "      <td>0</td>\n",
       "      <td>0</td>\n",
       "      <td>0</td>\n",
       "      <td>0</td>\n",
       "    </tr>\n",
       "  </tbody>\n",
       "</table>\n",
       "</div>"
      ],
      "text/plain": [
       "  id team1_bats_score team1_bowl_score team2_bats_score team2_bowl_score\n",
       "0  1                0                0                0                0\n",
       "1  2                0                0                0                0\n",
       "2  3                0                0                0                0\n",
       "3  4                0                0                0                0\n",
       "4  5                0                0                0                0"
      ]
     },
     "execution_count": 87,
     "metadata": {},
     "output_type": "execute_result"
    }
   ],
   "source": [
    "\n",
    "Scores.head()"
   ]
  },
  {
   "cell_type": "code",
   "execution_count": null,
   "id": "changed-moderator",
   "metadata": {
    "papermill": {
     "duration": 0.085915,
     "end_time": "2021-06-08T10:09:53.618210",
     "exception": false,
     "start_time": "2021-06-08T10:09:53.532295",
     "status": "completed"
    },
    "tags": []
   },
   "outputs": [],
   "source": []
  }
 ],
 "metadata": {
  "kernelspec": {
   "display_name": "Python 3",
   "language": "python",
   "name": "python3"
  },
  "language_info": {
   "codemirror_mode": {
    "name": "ipython",
    "version": 3
   },
   "file_extension": ".py",
   "mimetype": "text/x-python",
   "name": "python",
   "nbconvert_exporter": "python",
   "pygments_lexer": "ipython3",
   "version": "3.7.10"
  },
  "papermill": {
   "default_parameters": {},
   "duration": 81.007619,
   "end_time": "2021-06-08T10:09:55.147562",
   "environment_variables": {},
   "exception": null,
   "input_path": "__notebook__.ipynb",
   "output_path": "__notebook__.ipynb",
   "parameters": {},
   "start_time": "2021-06-08T10:08:34.139943",
   "version": "2.3.3"
  }
 },
 "nbformat": 4,
 "nbformat_minor": 5
}
